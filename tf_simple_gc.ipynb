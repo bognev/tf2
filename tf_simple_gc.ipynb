{
 "cells": [
  {
   "cell_type": "code",
   "execution_count": 2,
   "metadata": {
    "colab": {},
    "colab_type": "code",
    "id": "B7G55GTG4y10"
   },
   "outputs": [
    {
     "data": {
      "text/plain": [
       "True"
      ]
     },
     "execution_count": 2,
     "metadata": {},
     "output_type": "execute_result"
    }
   ],
   "source": [
    "try:\n",
    "    from google.colab import drive\n",
    "    COLAB_NOTEBOOK = True\n",
    "except:\n",
    "    COLAB_NOTEBOOK = False\n",
    "if COLAB_NOTEBOOK:\n",
    "    drive.mount(\"/content/gdrive\", force_remount=True)\n",
    "import tensorflow as tf\n",
    "# tf.debugging.set_log_device_placement(True)\n",
    "# tf.config.set_visible_devices([], 'GPU') \n",
    "import h5py\n",
    "import random\n",
    "import time\n",
    "tf.executing_eagerly() \n"
   ]
  },
  {
   "cell_type": "code",
   "execution_count": 3,
   "metadata": {},
   "outputs": [
    {
     "name": "stdout",
     "output_type": "stream",
     "text": [
      "tf.Tensor(\n",
      "[[22. 28.]\n",
      " [49. 64.]], shape=(2, 2), dtype=float32)\n"
     ]
    }
   ],
   "source": [
    "# Set CPU as available physical device\n",
    "\n",
    "\n",
    "# To find out which devices your operations and tensors are assigned to\n",
    "\n",
    "# Create some tensors and perform an operation\n",
    "a = tf.constant([[1.0, 2.0, 3.0], [4.0, 5.0, 6.0]])\n",
    "b = tf.constant([[1.0, 2.0], [3.0, 4.0], [5.0, 6.0]])\n",
    "c = tf.matmul(a, b)\n",
    "\n",
    "print(c)\n",
    "\n",
    "\n",
    "\n"
   ]
  },
  {
   "cell_type": "code",
   "execution_count": 3,
   "metadata": {
    "colab": {},
    "colab_type": "code",
    "id": "7DqwlFzY9FZ6"
   },
   "outputs": [],
   "source": [
    "# drive.flush_and_unmount()"
   ]
  },
  {
   "cell_type": "code",
   "execution_count": 4,
   "metadata": {
    "colab": {},
    "colab_type": "code",
    "id": "N3rolEtjaEx-"
   },
   "outputs": [
    {
     "name": "stdout",
     "output_type": "stream",
     "text": [
      " GeForce GTX 650\r\n"
     ]
    }
   ],
   "source": [
    "# Install sonnet (it doesn't come preinstalled in the colab VM).\n",
    "if COLAB_NOTEBOOK:\n",
    "    !pip install -q dm-sonnet\n",
    "\n",
    "!grep Model: /proc/driver/nvidia/gpus/*/information | awk '{$1=\"\";print$0}'\n"
   ]
  },
  {
   "cell_type": "code",
   "execution_count": 5,
   "metadata": {
    "colab": {
     "base_uri": "https://localhost:8080/",
     "height": 52
    },
    "colab_type": "code",
    "id": "Lnmy6-UI6QG3",
    "outputId": "4bf0d8dc-a13a-45a6-b5d9-a6ce5034bd0a"
   },
   "outputs": [
    {
     "name": "stdout",
     "output_type": "stream",
     "text": [
      "TensorFlow version: 2.1.0\n",
      "    Sonnet version: 2.0.0\n",
      "    Numpy  version: 1.18.2\n",
      "TensorBoard version: 2.2.0\n"
     ]
    }
   ],
   "source": [
    "# import tensorflow as tf\n",
    "# tf.debugging.set_log_device_placement(True)\n",
    "# import h5py\n",
    "import numpy as np\n",
    "import matplotlib.pyplot as plt\n",
    "import random\n",
    "import tqdm\n",
    "import time\n",
    "import sonnet as snt\n",
    "from tqdm import tqdm\n",
    "\n",
    "print(\"TensorFlow version: {}\".format(tf.__version__))\n",
    "print(\"    Sonnet version: {}\".format(snt.__version__))\n",
    "print(\"    Numpy  version: {}\".format(np.__version__))\n",
    "from tensorboard import version; print(\"TensorBoard version: {}\".format(version.VERSION))\n",
    "# tf.config.list_physical_devices('GPU')"
   ]
  },
  {
   "cell_type": "code",
   "execution_count": 6,
   "metadata": {
    "colab": {},
    "colab_type": "code",
    "id": "aqPYo6YU6QpC"
   },
   "outputs": [],
   "source": [
    "class ConvMaxPool(snt.Module):\n",
    "    def __init__(self, name=None):\n",
    "        super(ConvMaxPool, self).__init__(name=name)\n",
    "        self.conv = snt.Conv1D(output_channels=64, kernel_shape=64, stride=1, rate=1,\n",
    "                               padding=\"SAME\", with_bias=True,\n",
    "                               data_format=\"NWC\", name=\"conv_max_pool\"\n",
    "                               )\n",
    "\n",
    "    def __call__(self, inputs):\n",
    "        features = self.conv(inputs)\n",
    "        outputs = tf.nn.max_pool1d(features, ksize=2, strides=2, padding=\"VALID\", \n",
    "                                   data_format='NWC', name=\"pool\") #64×1024\n",
    "        return outputs\n",
    "\n",
    "\n",
    "class CNN(snt.Module):\n",
    "    def __init__(self, epsilon, name=None):\n",
    "        super(CNN, self).__init__(name=name)\n",
    "        self.layers = [\n",
    "            ConvMaxPool(name=\"conv\"+str(ii))\n",
    "            for ii in range(6)\n",
    "        ]\n",
    "        self.conv_in = snt.Conv1D(output_channels=64, kernel_shape=2, stride=1, rate=1,\n",
    "                       padding=\"SAME\", with_bias=True,\n",
    "                       data_format=\"NWC\", name=\"conv_input\"\n",
    "                       )\n",
    "\n",
    "        self.linear = snt.Linear(output_size=128, with_bias=True)\n",
    "        self.linear1 = snt.Linear(output_size=128, with_bias=True)\n",
    "        self.linear2 = snt.Linear(output_size=24, with_bias=True)        \n",
    "        self.decay_lr = 0\n",
    "        self.lr=2e-4\n",
    "\n",
    "\n",
    "    # @snt.once\n",
    "    def __initialize(self, weight):\n",
    "        pass\n",
    "\n",
    "    def __call__(self, inputs):\n",
    "        features = self.conv_in(inputs) #2×1024\n",
    "        features = tf.nn.max_pool1d(features, ksize=2, strides=2, padding=\"VALID\", \n",
    "                                    data_format='NWC', name=\"pool_input\") \n",
    "#         print(features)\n",
    "        for layer in self.layers:\n",
    "            features = layer(features)    \n",
    "        features = snt.flatten(features)\n",
    "\n",
    "        features = self.linear(features)\n",
    "        features = tf.nn.relu(features)\n",
    "        features = self.linear1(features)\n",
    "        features = tf.nn.relu(features)\n",
    "\n",
    "        output = self.linear2(features)        \n",
    "#         output = tf.nn.softmax(features)\n",
    "        return output\n",
    "\n",
    "opt = snt.optimizers.Adam(learning_rate=0.001, beta1=0.)\n",
    "\n",
    "def step(batch, labels):\n",
    "    with tf.GradientTape() as tape:\n",
    "        logits = radio_model(batch)\n",
    "#         loss = cross_entropy_loss(logits, labels)\n",
    "        loss = tf.nn.softmax_cross_entropy_with_logits(labels=labels, logits=logits)\n",
    "        loss = tf.reduce_mean(loss)\n",
    "\n",
    "    params = radio_model.trainable_variables\n",
    "    grads = tape.gradient(loss, params)        \n",
    "    \n",
    "#     if self.decay_lr:\n",
    "#       self.lr.assign(self.init_lr * lr_mult)\n",
    "    \n",
    "    opt.apply(grads, params)\n",
    "    return loss\n",
    "\n",
    "def cross_entropy_loss(logits, target):\n",
    "    return -tf.reduce_sum(target*tf.math.log(logits))\n",
    "\n"
   ]
  },
  {
   "cell_type": "code",
   "execution_count": 7,
   "metadata": {
    "colab": {},
    "colab_type": "code",
    "id": "i1VIhmNnY4ju"
   },
   "outputs": [],
   "source": [
    "class radioML:\n",
    "    def __init__(self, file, batch_size):\n",
    "        self.file = file\n",
    "        self.batch_size = batch_size\n",
    "\n",
    "    def __call__(self):\n",
    "        with h5py.File(self.file, 'r') as f:\n",
    "            datasize = len(f['X'])\n",
    "            while True:\n",
    "                idxs = random.sample(range(datasize), self.batch_size)\n",
    "                yield (f['X'][sorted(idxs)], f['Y'][sorted(idxs)])\n",
    "                # f.close()\n",
    "\n",
    "def radioML_map(data_batch, data_label):\n",
    "#     print(data_batch.shape)\n",
    "    data_batch = tf.reshape(data_batch, [1024, 2])\n",
    "#     mean = tf.math.reduce_mean(data_batch)\n",
    "#     std = tf.math.reduce_std(data_batch)\n",
    "#     data_batch = (data_batch - mean)/std\n",
    "#     print(std, mean)\n",
    "#     print(type(std))\n",
    "    return (data_batch, data_label)"
   ]
  },
  {
   "cell_type": "code",
   "execution_count": 8,
   "metadata": {
    "colab": {
     "base_uri": "https://localhost:8080/",
     "height": 34
    },
    "colab_type": "code",
    "id": "T7UDaOKT6rXt",
    "outputId": "d7b02ea9-a652-4859-a91b-7e76bbd9869e"
   },
   "outputs": [
    {
     "name": "stdout",
     "output_type": "stream",
     "text": [
      "CNN(epsilon=1e-08, name='CNN')\n"
     ]
    }
   ],
   "source": [
    "radio_model = CNN(epsilon=1e-8, name=\"CNN\")\n",
    "print(radio_model)\n"
   ]
  },
  {
   "cell_type": "code",
   "execution_count": 9,
   "metadata": {
    "colab": {
     "base_uri": "https://localhost:8080/",
     "height": 1000
    },
    "colab_type": "code",
    "id": "W2kSsUBk8bOV",
    "outputId": "1f3931f2-7e98-4853-eef6-6adb76f5d2ea"
   },
   "outputs": [
    {
     "name": "stdout",
     "output_type": "stream",
     "text": [
      "(1024, 2)\n"
     ]
    },
    {
     "data": {
      "image/png": "[encoded data removed]",
      "text/plain": [
       "<Figure size 432x288 with 1 Axes>"
      ]
     },
     "metadata": {
      "needs_background": "light"
     },
     "output_type": "display_data"
    },
    {
     "data": {
      "image/png": "[encoded data removed]",
      "text/plain": [
       "<Figure size 432x288 with 1 Axes>"
      ]
     },
     "metadata": {
      "needs_background": "light"
     },
     "output_type": "display_data"
    }
   ],
   "source": [
    "if COLAB_NOTEBOOK:\n",
    "    hdf5_path = '/content/gdrive/My Drive/data/GOLD_XYZ.hdf5'\n",
    "else:          \n",
    "    hdf5_path = '/media/bognev/CE50072F50071DB9/2018.01/GOLD_XYZ_OSC.0001_1024.hdf5'\n",
    "    \n",
    "    \n",
    "\n",
    "\n",
    "radio_plot = tf.data.Dataset.from_generator(radioML(hdf5_path, 1), \n",
    "                output_types=(tf.float32, tf.float32),\n",
    "                output_shapes=(tf.TensorShape([1, 1024, 2]), tf.TensorShape([1, 24]))) #2555904, 1024, 2]\n",
    "\n",
    "radio_plot = radio_plot.take(1)\n",
    "radio_plot = radio_plot.map(radioML_map)\n",
    "for (batch, labels) in radio_plot:    \n",
    "    print(batch.shape)\n",
    "    fig1 = plt.figure()\n",
    "    plt.plot(batch[:,0])\n",
    "    plt.xlabel('Batch #')\n",
    "    plt.ylabel('Loss [entropy]')\n",
    "    fig2 = plt.figure()\n",
    "    plt.plot(batch[:,1])\n",
    "    plt.xlabel('Batch #')\n",
    "    plt.ylabel('Loss [entropy]')\n",
    "    plt.show()"
   ]
  },
  {
   "cell_type": "code",
   "execution_count": 11,
   "metadata": {},
   "outputs": [],
   "source": [
    "%reload_ext tensorboard\n",
    "# %load_ext tensorboard\n",
    "# import os\n",
    "from datetime import datetime as dt\n",
    "# Clear any logs from previous runs\n",
    "!rm -rf ./logs/\n",
    "log_dir = \"logs/scalars/\" + dt.now().strftime(\"%Y%m%d-%H%M%S\")\n",
    "writer = tf.summary.create_file_writer(log_dir)\n",
    "\n",
    "\n",
    "writer.set_as_default()"
   ]
  },
  {
   "cell_type": "code",
   "execution_count": 17,
   "metadata": {},
   "outputs": [
    {
     "name": "stderr",
     "output_type": "stream",
     "text": [
      "  5%|▌         | 16384/327680 [04:02<1:19:45, 65.05sig/s]"
     ]
    },
    {
     "name": "stdout",
     "output_type": "stream",
     "text": [
      "\n",
      "Epoch = 0/10 (lr_mult = 0.00, loss = 2.7762327194213867) done.\n"
     ]
    },
    {
     "name": "stderr",
     "output_type": "stream",
     "text": [
      " 10%|█         | 32768/327680 [07:50<54:09, 90.75sig/s]  "
     ]
    },
    {
     "name": "stdout",
     "output_type": "stream",
     "text": [
      "\n",
      "Epoch = 0/10 (lr_mult = 0.00, loss = 2.5562655925750732) done.\n"
     ]
    },
    {
     "name": "stderr",
     "output_type": "stream",
     "text": [
      " 15%|█▌        | 49152/327680 [11:32<52:55, 87.70sig/s]  "
     ]
    },
    {
     "name": "stdout",
     "output_type": "stream",
     "text": [
      "\n",
      "Epoch = 0/10 (lr_mult = 0.00, loss = 2.4740030765533447) done.\n"
     ]
    },
    {
     "name": "stderr",
     "output_type": "stream",
     "text": [
      " 20%|██        | 65536/327680 [15:22<35:12, 124.08sig/s] "
     ]
    },
    {
     "name": "stdout",
     "output_type": "stream",
     "text": [
      "\n",
      "Epoch = 0/10 (lr_mult = 0.00, loss = 2.5914530754089355) done.\n"
     ]
    },
    {
     "name": "stderr",
     "output_type": "stream",
     "text": [
      " 25%|██▌       | 81920/327680 [19:09<46:00, 89.03sig/s]  "
     ]
    },
    {
     "name": "stdout",
     "output_type": "stream",
     "text": [
      "\n",
      "Epoch = 0/10 (lr_mult = 0.00, loss = 2.665900230407715) done.\n"
     ]
    },
    {
     "name": "stderr",
     "output_type": "stream",
     "text": [
      " 30%|███       | 98304/327680 [22:18<31:29, 121.38sig/s]"
     ]
    },
    {
     "name": "stdout",
     "output_type": "stream",
     "text": [
      "\n",
      "Epoch = 0/10 (lr_mult = 0.00, loss = 2.694898843765259) done.\n"
     ]
    },
    {
     "name": "stderr",
     "output_type": "stream",
     "text": [
      " 35%|███▌      | 114688/327680 [25:43<42:03, 84.40sig/s]  "
     ]
    },
    {
     "name": "stdout",
     "output_type": "stream",
     "text": [
      "\n",
      "Epoch = 0/10 (lr_mult = 0.00, loss = 226211872.0) done.\n"
     ]
    },
    {
     "name": "stderr",
     "output_type": "stream",
     "text": [
      " 40%|████      | 131072/327680 [28:52<27:18, 120.02sig/s]"
     ]
    },
    {
     "name": "stdout",
     "output_type": "stream",
     "text": [
      "\n",
      "Epoch = 0/10 (lr_mult = 0.00, loss = 647483.625) done.\n"
     ]
    },
    {
     "name": "stderr",
     "output_type": "stream",
     "text": [
      " 45%|████▌     | 147456/327680 [32:07<32:47, 91.61sig/s] "
     ]
    },
    {
     "name": "stdout",
     "output_type": "stream",
     "text": [
      "\n",
      "Epoch = 0/10 (lr_mult = 0.00, loss = 87932.640625) done.\n"
     ]
    },
    {
     "name": "stderr",
     "output_type": "stream",
     "text": [
      " 50%|█████     | 163840/327680 [35:11<23:47, 114.81sig/s]"
     ]
    },
    {
     "name": "stdout",
     "output_type": "stream",
     "text": [
      "\n",
      "Epoch = 0/10 (lr_mult = 0.00, loss = 642779.375) done.\n"
     ]
    },
    {
     "name": "stderr",
     "output_type": "stream",
     "text": [
      " 55%|█████▌    | 180224/327680 [38:34<27:17, 90.03sig/s]] "
     ]
    },
    {
     "name": "stdout",
     "output_type": "stream",
     "text": [
      "\n",
      "Epoch = 0/10 (lr_mult = 0.00, loss = 138490.84375) done.\n"
     ]
    },
    {
     "name": "stderr",
     "output_type": "stream",
     "text": [
      " 60%|██████    | 196608/327680 [41:38<18:04, 120.87sig/s]"
     ]
    },
    {
     "name": "stdout",
     "output_type": "stream",
     "text": [
      "\n",
      "Epoch = 0/10 (lr_mult = 0.00, loss = 77715.6171875) done.\n"
     ]
    },
    {
     "name": "stderr",
     "output_type": "stream",
     "text": [
      " 65%|██████▌   | 212992/327680 [44:48<27:51, 68.62sig/s]]"
     ]
    },
    {
     "name": "stdout",
     "output_type": "stream",
     "text": [
      "\n",
      "Epoch = 0/10 (lr_mult = 0.00, loss = 26050.25390625) done.\n"
     ]
    },
    {
     "name": "stderr",
     "output_type": "stream",
     "text": [
      " 70%|███████   | 229376/327680 [48:21<13:44, 119.29sig/s] "
     ]
    },
    {
     "name": "stdout",
     "output_type": "stream",
     "text": [
      "\n",
      "Epoch = 0/10 (lr_mult = 0.00, loss = 74881.8046875) done.\n"
     ]
    },
    {
     "name": "stderr",
     "output_type": "stream",
     "text": [
      " 75%|███████▌  | 245760/327680 [51:27<17:46, 76.78sig/s]]"
     ]
    },
    {
     "name": "stdout",
     "output_type": "stream",
     "text": [
      "\n",
      "Epoch = 0/10 (lr_mult = 0.00, loss = 132152.78125) done.\n"
     ]
    },
    {
     "name": "stderr",
     "output_type": "stream",
     "text": [
      " 80%|████████  | 262144/327680 [54:31<08:51, 123.37sig/s]"
     ]
    },
    {
     "name": "stdout",
     "output_type": "stream",
     "text": [
      "\n",
      "Epoch = 0/10 (lr_mult = 0.00, loss = 42277.4375) done.\n"
     ]
    },
    {
     "name": "stderr",
     "output_type": "stream",
     "text": [
      " 85%|████████▌ | 278528/327680 [58:14<09:38, 85.03sig/s]]"
     ]
    },
    {
     "name": "stdout",
     "output_type": "stream",
     "text": [
      "\n",
      "Epoch = 0/10 (lr_mult = 0.00, loss = 17289.162109375) done.\n"
     ]
    },
    {
     "name": "stderr",
     "output_type": "stream",
     "text": [
      " 90%|█████████ | 294912/327680 [1:01:30<05:37, 96.95sig/s]"
     ]
    },
    {
     "name": "stdout",
     "output_type": "stream",
     "text": [
      "\n",
      "Epoch = 0/10 (lr_mult = 0.00, loss = 20661.458984375) done.\n"
     ]
    },
    {
     "name": "stderr",
     "output_type": "stream",
     "text": [
      " 95%|█████████▌| 311296/327680 [1:04:43<03:25, 79.76sig/s]"
     ]
    },
    {
     "name": "stdout",
     "output_type": "stream",
     "text": [
      "\n",
      "Epoch = 0/10 (lr_mult = 0.00, loss = 97434.140625) done.\n"
     ]
    },
    {
     "name": "stderr",
     "output_type": "stream",
     "text": [
      "100%|██████████| 327680/327680 [1:07:56<00:00, 122.37sig/s]"
     ]
    },
    {
     "name": "stdout",
     "output_type": "stream",
     "text": [
      "\n",
      "Epoch = 0/10 (lr_mult = 0.00, loss = 40325.6640625) done.\n",
      "Execution time: 4076.8439957750015\n"
     ]
    },
    {
     "name": "stderr",
     "output_type": "stream",
     "text": [
      "100%|██████████| 327680/327680 [1:07:57<00:00, 80.37sig/s] \n"
     ]
    }
   ],
   "source": [
    "\n",
    "batch_size = 128\n",
    "num_batches = 256\n",
    "num_epochs = 10\n",
    "\n",
    "t = tqdm(range(num_batches * num_epochs),\n",
    "                                unit='sig', unit_scale=batch_size,\n",
    "                                position=0)\n",
    "\n",
    "\n",
    "radio_data = tf.data.Dataset.from_generator(radioML(hdf5_path, 1), \n",
    "                output_types=(tf.float32, tf.float32),\n",
    "                output_shapes=(tf.TensorShape([1, 1024, 2]), tf.TensorShape([1, 24]))) #2555904, 1024, 2]\n",
    "\n",
    "loss_history = []\n",
    "loss = 0\n",
    "step_num=0\n",
    "radio_data = radio_data.take(batch_size*num_batches)\n",
    "radio_data = radio_data.map(radioML_map)\n",
    "radio_data = radio_data.batch(batch_size)\n",
    "radio_data = radio_data.prefetch(tf.data.experimental.AUTOTUNE)\n",
    "radio_data = radio_data.repeat(num_epochs)\n",
    "# radio_data = radio_data.cache()\n",
    "start_time = time.perf_counter()\n",
    "for step_num,(batch, labels) in enumerate(radio_data):      \n",
    "    epoch = tf.constant(int(step_num / (batch_size*num_batches)))\n",
    "    loss = step(batch, labels)\n",
    "    step_num+=1\n",
    "    with writer.as_default():\n",
    "        tf.summary.scalar('training loss', loss, step=i)\n",
    "    \n",
    "    t.update(1)\n",
    "    if step_num and (step_num % batch_size*num_batches == 0):\n",
    "        t.write('\\nEpoch = {}/{} (lr_mult = {:0.02f}, loss = {}) done.'.format(\n",
    "            epoch.numpy(), num_epochs, 0.001, loss.numpy()))\n",
    "tf.print(\"Execution time:\", time.perf_counter() - start_time)   \n",
    "t.close()\n",
    "# tf.print(\"batch.shape: \", i, batch.shape)  \n",
    "# tf.print(loss_history)                        "
   ]
  },
  {
   "cell_type": "code",
   "execution_count": 18,
   "metadata": {},
   "outputs": [
    {
     "data": {
      "text/html": [
       "\n",
       "      <iframe id=\"tensorboard-frame-274f4fd11fa2db51\" width=\"100%\" height=\"800\" frameborder=\"0\">\n",
       "      </iframe>\n",
       "      <script>\n",
       "        (function() {\n",
       "          const frame = document.getElementById(\"tensorboard-frame-274f4fd11fa2db51\");\n",
       "          const url = new URL(\"/\", window.location);\n",
       "          url.port = 6006;\n",
       "          frame.src = url;\n",
       "        })();\n",
       "      </script>\n",
       "  "
      ],
      "text/plain": [
       "<IPython.core.display.HTML object>"
      ]
     },
     "metadata": {},
     "output_type": "display_data"
    }
   ],
   "source": [
    "%tensorboard --logdir logs/scalars"
   ]
  },
  {
   "cell_type": "code",
   "execution_count": 15,
   "metadata": {},
   "outputs": [
    {
     "data": {
      "image/png": "[encoded data removed]",
      "text/plain": [
       "<Figure size 432x288 with 1 Axes>"
      ]
     },
     "metadata": {
      "needs_background": "light"
     },
     "output_type": "display_data"
    },
    {
     "data": {
      "text/plain": [
       "[]"
      ]
     },
     "execution_count": 15,
     "metadata": {},
     "output_type": "execute_result"
    }
   ],
   "source": [
    "tf.math.is_nan(loss_history)\n",
    "loss_history = loss_history\n",
    "fig2 = plt.figure()\n",
    "plt.plot(loss_history)\n",
    "plt.xlabel('Batch #')\n",
    "plt.ylabel('Loss [entropy]')\n",
    "plt.show()\n",
    "loss_history"
   ]
  },
  {
   "cell_type": "code",
   "execution_count": 16,
   "metadata": {},
   "outputs": [
    {
     "name": "stdout",
     "output_type": "stream",
     "text": [
      "| Variable                  | Spec          | Trainable   | Device   |\n",
      "|---------------------------+---------------+-------------+----------|\n",
      "| CNN/conv0/conv_max_pool/w | f32[64,64,64] | True        | GPU      |\n",
      "| CNN/conv0/conv_max_pool/b | f32[64]       | True        | GPU      |\n",
      "| CNN/conv1/conv_max_pool/w | f32[64,64,64] | True        | GPU      |\n",
      "| CNN/conv1/conv_max_pool/b | f32[64]       | True        | GPU      |\n",
      "| CNN/conv2/conv_max_pool/w | f32[64,64,64] | True        | GPU      |\n",
      "| CNN/conv2/conv_max_pool/b | f32[64]       | True        | GPU      |\n",
      "| CNN/conv3/conv_max_pool/w | f32[64,64,64] | True        | GPU      |\n",
      "| CNN/conv3/conv_max_pool/b | f32[64]       | True        | GPU      |\n",
      "| CNN/conv4/conv_max_pool/w | f32[64,64,64] | True        | GPU      |\n",
      "| CNN/conv4/conv_max_pool/b | f32[64]       | True        | GPU      |\n",
      "| CNN/conv5/conv_max_pool/w | f32[64,64,64] | True        | GPU      |\n",
      "| CNN/conv5/conv_max_pool/b | f32[64]       | True        | GPU      |\n",
      "| CNN/conv_input/w          | f32[2,2,64]   | True        | GPU      |\n",
      "| CNN/conv_input/b          | f32[64]       | True        | GPU      |\n",
      "| CNN/linear/w              | f32[512,128]  | True        | GPU      |\n",
      "| CNN/linear/w              | f32[128,128]  | True        | GPU      |\n",
      "| CNN/linear/w              | f32[128,24]   | True        | GPU      |\n",
      "| CNN/linear/b              | f32[128]      | True        | GPU      |\n",
      "| CNN/linear/b              | f32[128]      | True        | GPU      |\n",
      "| CNN/linear/b              | f32[24]       | True        | GPU      |\n"
     ]
    }
   ],
   "source": [
    "print(snt.format_variables(radio_model.variables))"
   ]
  }
 ],
 "metadata": {
  "accelerator": "GPU",
  "colab": {
   "authorship_tag": "ABX9TyMY5mQBDXgj2X9YLAbDo2fr",
   "collapsed_sections": [],
   "include_colab_link": true,
   "name": "Copy of tf_simple.ipynb",
   "provenance": []
  },
  "kernelspec": {
   "display_name": "Python 3",
   "language": "python",
   "name": "python3"
  },
  "language_info": {
   "codemirror_mode": {
    "name": "ipython",
    "version": 3
   },
   "file_extension": ".py",
   "mimetype": "text/x-python",
   "name": "python",
   "nbconvert_exporter": "python",
   "pygments_lexer": "ipython3",
   "version": "3.7.3"
  }
 },
 "nbformat": 4,
 "nbformat_minor": 1
}
