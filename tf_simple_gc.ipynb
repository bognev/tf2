{
 "cells": [
  {
   "cell_type": "code",
   "execution_count": 4,
   "metadata": {
    "colab": {},
    "colab_type": "code",
    "id": "B7G55GTG4y10"
   },
   "outputs": [
    {
     "name": "stdout",
     "output_type": "stream",
     "text": [
      "home\n"
     ]
    }
   ],
   "source": [
    "try:\n",
    "    from google.colab import drive\n",
    "    NOTEBOOK = 'colab'\n",
    "except:\n",
    "    import os    \n",
    "    if list(os.walk('/kaggle/input')):            \n",
    "        NOTEBOOK = 'kaggle'\n",
    "    else:\n",
    "        NOTEBOOK = 'home'\n",
    "        \n",
    "if NOTEBOOK == 'colab':\n",
    "    drive.mount(\"/content/gdrive\", force_remount=True)\n",
    "\n",
    "import tensorflow as tf\n",
    "# tf.debugging.set_log_device_placement(True)\n",
    "# tf.config.set_visible_devices([], 'GPU') \n",
    "# tf.executing_eagerly() \n",
    "\n",
    "print(NOTEBOOK)\n",
    "\n",
    "\n"
   ]
  },
  {
   "cell_type": "code",
   "execution_count": 5,
   "metadata": {},
   "outputs": [
    {
     "name": "stdout",
     "output_type": "stream",
     "text": [
      "/media/bognev/CE50072F50071DB9/2018.01/GOLD_XYZ_OSC.0001_1024.hdf5\n"
     ]
    }
   ],
   "source": [
    "if NOTEBOOK == 'colab':\n",
    "    !pip install -q dm-sonnet\n",
    "    !pip install -q gdown\n",
    "    import gdown    \n",
    "#     url = 'https://drive.google.com/uc?id=1Si-Fz-38xITBOvYOoPTn_xLtOHVwqFQO'\n",
    "    url = 'https://drive.google.com/uc?id=1_ndJOdlaVenrnMvo9dIVja8mBCNZP6AG'\n",
    "    output = 'GOLD_XYZ.hdf5'\n",
    "    gdown.download(url, output, quiet=False)\n",
    "    !df -h\n",
    "    !ls -l\n",
    "    !grep Model: /proc/driver/nvidia/gpus/*/information | awk '{$1=\"\";print$0}'\n",
    "    hdf5_path = '/content/'+output\n",
    "elif NOTEBOOK == 'kaggle':\n",
    "    !pip install -q dm-sonnet\n",
    "    import os\n",
    "    for dirname, _, filenames in os.walk('/kaggle/input'):\n",
    "        for filename in filenames:\n",
    "            hdf5_path = os.path.join(dirname, filename)\n",
    "else:          \n",
    "    hdf5_path = '/media/bognev/CE50072F50071DB9/2018.01/GOLD_XYZ_OSC.0001_1024.hdf5'\n",
    "print(hdf5_path)\n"
   ]
  },
  {
   "cell_type": "code",
   "execution_count": 6,
   "metadata": {
    "colab": {
     "base_uri": "https://localhost:8080/",
     "height": 52
    },
    "colab_type": "code",
    "id": "Lnmy6-UI6QG3",
    "outputId": "4bf0d8dc-a13a-45a6-b5d9-a6ce5034bd0a"
   },
   "outputs": [
    {
     "name": "stdout",
     "output_type": "stream",
     "text": [
      "TensorFlow version: 2.1.0\n",
      "    Sonnet version: 2.0.0\n",
      "    Numpy  version: 1.18.2\n",
      "TensorBoard version: 2.2.0\n"
     ]
    }
   ],
   "source": [
    "# import tensorflow as tf\n",
    "# tf.debugging.set_log_device_placement(True)\n",
    "# import h5py\n",
    "import numpy as np\n",
    "import matplotlib.pyplot as plt\n",
    "import random\n",
    "import tqdm\n",
    "import time\n",
    "import h5py\n",
    "import sonnet as snt\n",
    "from tqdm import tqdm\n",
    "\n",
    "print(\"TensorFlow version: {}\".format(tf.__version__))\n",
    "print(\"    Sonnet version: {}\".format(snt.__version__))\n",
    "print(\"    Numpy  version: {}\".format(np.__version__))\n",
    "from tensorboard import version; print(\"TensorBoard version: {}\".format(version.VERSION))\n",
    "# tf.config.list_physical_devices('GPU')"
   ]
  },
  {
   "cell_type": "code",
   "execution_count": 7,
   "metadata": {
    "colab": {},
    "colab_type": "code",
    "id": "aqPYo6YU6QpC"
   },
   "outputs": [],
   "source": [
    "class ConvMaxPool(snt.Module):\n",
    "    def __init__(self, name=None):\n",
    "        super(ConvMaxPool, self).__init__(name=name)\n",
    "        self.conv = snt.Conv1D(output_channels=64, kernel_shape=64, stride=1, rate=1,\n",
    "                               padding=\"SAME\", with_bias=True,\n",
    "                               data_format=\"NWC\", name=\"conv_max_pool\"\n",
    "                               )\n",
    "\n",
    "    def __call__(self, inputs):\n",
    "        features = self.conv(inputs)\n",
    "        outputs = tf.nn.max_pool1d(features, ksize=2, strides=2, padding=\"VALID\", \n",
    "                                   data_format='NWC', name=\"pool\") #64×1024\n",
    "        return outputs\n",
    "\n",
    "\n",
    "class CNN(snt.Module):\n",
    "    def __init__(self, epsilon, name=None):\n",
    "        super(CNN, self).__init__(name=name)\n",
    "        self.layers = [\n",
    "            ConvMaxPool(name=\"conv\"+str(ii))\n",
    "            for ii in range(6)\n",
    "        ]\n",
    "        self.conv_in = snt.Conv1D(output_channels=64, kernel_shape=2, stride=1, rate=1,\n",
    "                       padding=\"SAME\", with_bias=True,\n",
    "                       data_format=\"NWC\", name=\"conv_input\"\n",
    "                       )\n",
    "\n",
    "        self.linear = snt.Linear(output_size=128, with_bias=True)\n",
    "        self.linear1 = snt.Linear(output_size=128, with_bias=True)\n",
    "        self.linear2 = snt.Linear(output_size=24, with_bias=True)                \n",
    "        \n",
    "        self.alpha = tf.keras.layers.AlphaDropout(rate=0.5, noise_shape=None, seed=100)\n",
    "\n",
    "    @tf.function\n",
    "    def __call__(self, inputs, is_training=False):\n",
    "        features = self.conv_in(inputs) #2×1024\n",
    "        features = tf.nn.max_pool1d(features, ksize=2, strides=2, padding=\"VALID\", \n",
    "                                    data_format='NWC', name=\"pool_input\") \n",
    "#         print(features)\n",
    "        for layer in self.layers:\n",
    "            features = layer(features)    \n",
    "        features = snt.flatten(features)\n",
    "\n",
    "        features = self.linear(features)\n",
    "        features = self.alpha(tf.nn.selu(features), training=is_training)\n",
    "        features = self.linear1(features)\n",
    "        features = self.alpha(tf.nn.selu(features), training=is_training)\n",
    "\n",
    "        output = self.linear2(features)        \n",
    "#         output = tf.nn.softmax(features)\n",
    "        return output\n"
   ]
  },
  {
   "cell_type": "code",
   "execution_count": 8,
   "metadata": {},
   "outputs": [],
   "source": [
    "class CNNOptimizer(snt.Module):\n",
    "    def __init__(self, name, cnn, lr=1e-3, num_epochs=100, decay_lr_start_epoch=10, decay_lr=False):\n",
    "        super(CNNOptimizer, self).__init__(name=name)\n",
    "        self.cnn = cnn\n",
    "        self.init_lr = lr\n",
    "        self.lr = tf.Variable(lr, trainable=False, name='learning rate', dtype=tf.float32)\n",
    "        self.cnn_opt = snt.optimizers.Adam(learning_rate=self.lr, beta1=0.)\n",
    "        self.decay_lr_start_epoch = tf.constant(decay_lr_start_epoch, dtype=tf.int32)\n",
    "        self.decay_lr = tf.constant(decay_lr, dtype=tf.float32)\n",
    "        self.num_epochs = tf.constant(num_epochs, dtype=tf.int32)\n",
    "\n",
    "    def _gen_lr_mult(self, epoch):\n",
    "          # Linear decay to 0.\n",
    "        decay_epoch = tf.cast(epoch - self.decay_lr_start_epoch, tf.float32)\n",
    "        if decay_epoch < tf.constant(0, dtype=tf.float32):\n",
    "            return tf.constant(1., dtype=tf.float32)\n",
    "        num_decay_epochs = tf.cast(self.num_epochs - self.decay_lr_start_epoch, dtype=tf.float32)\n",
    "        return (num_decay_epochs - decay_epoch) / num_decay_epochs        \n",
    "      \n",
    "    def step(self, batch, labels, epoch):\n",
    "        with tf.GradientTape() as tape:\n",
    "            logits = self.cnn(batch, is_training=True)    \n",
    "            loss = tf.nn.softmax_cross_entropy_with_logits(labels=labels, logits=logits)\n",
    "            loss = tf.reduce_mean(loss)\n",
    "        params = self.cnn.trainable_variables\n",
    "        grads = tape.gradient(loss, params)                \n",
    "        lr_mult = self._gen_lr_mult(epoch)\n",
    "        if self.decay_lr:\n",
    "            self.lr.assign(self.init_lr * lr_mult)\n",
    "        self.cnn_opt.apply(grads, params)\n",
    "        return loss\n",
    "    \n",
    "\n",
    "\n"
   ]
  },
  {
   "cell_type": "code",
   "execution_count": 12,
   "metadata": {
    "colab": {},
    "colab_type": "code",
    "id": "i1VIhmNnY4ju"
   },
   "outputs": [],
   "source": [
    "class radioML:\n",
    "    def __init__(self, file, batch_size, is_training=False):\n",
    "        self.file = file\n",
    "        self.batch_size = batch_size\n",
    "        self.is_training = is_training\n",
    "\n",
    "    def __call__(self):        \n",
    "        N_r, N_m, N_db = 4096, 24, 13\n",
    "        if NOTEBOOK == 'colab':            \n",
    "            dbs = np.arange(0,32,2)     \n",
    "            db_range = np.arange(0,0+len(dbs))\n",
    "        else:                       \n",
    "            dbs = np.arange(0,32,2)                   \n",
    "            db_range = np.arange(10,10+len(dbs))\n",
    "        data_idxs_train = np.array([])\n",
    "        data_idxs_test = np.array([])\n",
    "        for i in np.arange(N_m):            \n",
    "            for j in db_range:\n",
    "                ids = i*N_r*N_db+j*N_r\n",
    "                idx = np.arange(ids, ids+N_r)                \n",
    "                data_idxs_train = np.append(data_idxs_train, idx[np.arange(int(0.8*N_r))])\n",
    "                data_idxs_test  = np.append(data_idxs_test, idx[np.arange(int(0.8*N_r)+1, N_r)])\n",
    "        with h5py.File(self.file, 'r') as f:\n",
    "            while True:\n",
    "                if self.is_training:\n",
    "                    idxs = np.random.choice(data_idxs_train, self.batch_size)\n",
    "                    yield (f['X'][sorted(idxs)], f['Y'][sorted(idxs)])\n",
    "                else:\n",
    "                    idxs = np.random.choice(data_idxs_test, self.batch_size)\n",
    "                    yield (f['X'][sorted(idxs)], f['Y'][sorted(idxs)])\n",
    "                \n",
    "\n",
    "def radioML_map(data_batch, data_label):\n",
    "#     print(data_batch.shape)\n",
    "    data_batch = tf.reshape(data_batch, [1024, 2])\n",
    "    data_label = tf.reshape(data_label, [24])\n",
    "#     mean = tf.math.reduce_mean(data_batch)\n",
    "#     std = tf.math.reduce_std(data_batch)\n",
    "#     data_batch = (data_batch - mean)/std\n",
    "#     print(std, mean)\n",
    "#     print(type(std))\n",
    "    return (data_batch, data_label)"
   ]
  },
  {
   "cell_type": "code",
   "execution_count": 13,
   "metadata": {
    "colab": {
     "base_uri": "https://localhost:8080/",
     "height": 1000
    },
    "colab_type": "code",
    "id": "W2kSsUBk8bOV",
    "outputId": "1f3931f2-7e98-4853-eef6-6adb76f5d2ea"
   },
   "outputs": [
    {
     "name": "stdout",
     "output_type": "stream",
     "text": [
      "<dtype: 'int32'>\n"
     ]
    },
    {
     "data": {
      "image/png": "[encoded data removed]",
      "text/plain": [
       "<Figure size 432x288 with 1 Axes>"
      ]
     },
     "metadata": {
      "needs_background": "light"
     },
     "output_type": "display_data"
    },
    {
     "data": {
      "image/png": "[encoded data removed]",
      "text/plain": [
       "<Figure size 432x288 with 1 Axes>"
      ]
     },
     "metadata": {
      "needs_background": "light"
     },
     "output_type": "display_data"
    }
   ],
   "source": [
    "radio_plot = tf.data.Dataset.from_generator(radioML(hdf5_path, 1, False), \n",
    "                output_types=(tf.float32, tf.int32),\n",
    "                output_shapes=(tf.TensorShape([1, 1024, 2]), tf.TensorShape([1, 24]))) #2555904, 1024, 2]\n",
    "\n",
    "radio_plot = radio_plot.take(1)\n",
    "radio_plot = radio_plot.map(radioML_map)\n",
    "for (batch, labels) in radio_plot:    \n",
    "    print(labels.dtype)\n",
    "    fig1 = plt.figure()\n",
    "    plt.plot(batch[:,0])\n",
    "    plt.xlabel('Time #')\n",
    "    plt.ylabel('Signal [random]')\n",
    "    fig2 = plt.figure()\n",
    "    plt.plot(batch[:,1])\n",
    "    plt.xlabel('Time #')\n",
    "    plt.ylabel('Signal [random]')\n",
    "    plt.show()"
   ]
  },
  {
   "cell_type": "code",
   "execution_count": 8,
   "metadata": {},
   "outputs": [],
   "source": [
    "# building tensorflow graph\n",
    "\n",
    "# from datetime import datetime as dt\n",
    "# # Clear any logs from previous runs\n",
    "# !rm -rf ./logs/\n",
    "\n",
    "# stamp = dt.now().strftime(\"%Y%m%d-%H%M%S\")\n",
    "# logdir = 'logs/func/%s' % stamp\n",
    "# writer = tf.summary.create_file_writer(logdir)\n",
    "\n",
    "# radio_model = CNN(epsilon=1e-8, name=\"CNN\")\n",
    "# radio_data_test = tf.data.Dataset.from_generator(radioML(hdf5_path, 1, False), \n",
    "#                 output_types=(tf.float32, tf.float32),\n",
    "#                 output_shapes=(tf.TensorShape([1, 1024, 2]), tf.TensorShape([1, 24]))) #2555904, 1024, 2]\n",
    "# radio_data_test = radio_data_test.take(1)\n",
    "# radio_data_test = radio_data_test.map(radioML_map)\n",
    "# radio_data_test = radio_data_test.batch(1)\n",
    "\n",
    "# for i,(batch, labels) in enumerate(radio_data_test):\n",
    "#     tf.summary.trace_on(graph=True, profiler=True)    \n",
    "#     preds = radio_model(batch)\n",
    "#     with writer.as_default():\n",
    "#         tf.summary.trace_export(\n",
    "#             name='tf2_graph',\n",
    "#             step=0,\n",
    "#             profiler_outdir=logdir)\n",
    "# %reload_ext tensorboard\n",
    "# %tensorboard --logdir logs/func     "
   ]
  },
  {
   "cell_type": "code",
   "execution_count": 9,
   "metadata": {},
   "outputs": [
    {
     "data": {
      "text/plain": [
       "Reusing TensorBoard on port 6006 (pid 10008), started 2:12:10 ago. (Use '!kill 10008' to kill it.)"
      ]
     },
     "metadata": {},
     "output_type": "display_data"
    },
    {
     "data": {
      "text/html": [
       "\n",
       "      <iframe id=\"tensorboard-frame-30bab261e2463d57\" width=\"100%\" height=\"800\" frameborder=\"0\">\n",
       "      </iframe>\n",
       "      <script>\n",
       "        (function() {\n",
       "          const frame = document.getElementById(\"tensorboard-frame-30bab261e2463d57\");\n",
       "          const url = new URL(\"/\", window.location);\n",
       "          url.port = 6006;\n",
       "          frame.src = url;\n",
       "        })();\n",
       "      </script>\n",
       "  "
      ],
      "text/plain": [
       "<IPython.core.display.HTML object>"
      ]
     },
     "metadata": {},
     "output_type": "display_data"
    }
   ],
   "source": [
    "if NOTEBOOK != 'kaggle':\n",
    "    # %load_ext tensorboard\n",
    "    # import os\n",
    "    from datetime import datetime as dt\n",
    "    # Clear any logs from previous runs\n",
    "    !rm -rf ./logs/\n",
    "    log_dir = \"logs/scalars/\" + dt.now().strftime(\"%Y%m%d-%H%M%S\")\n",
    "    writer = tf.summary.create_file_writer(log_dir)\n",
    "\n",
    "\n",
    "    %reload_ext tensorboard\n",
    "#     %tensorboard --logdir logs/func     \n",
    "    # writer.set_as_default()\n",
    "    %tensorboard --logdir logs/scalars"
   ]
  },
  {
   "cell_type": "code",
   "execution_count": 11,
   "metadata": {},
   "outputs": [
    {
     "name": "stderr",
     "output_type": "stream",
     "text": [
      "  2%|▏         | 32/1600 [00:02<01:39, 15.73sig/s]"
     ]
    },
    {
     "name": "stdout",
     "output_type": "stream",
     "text": [
      "Epoch = 1/10 (lr_mult = 0.001000000, loss = 3.4212646484375) done.\n"
     ]
    },
    {
     "name": "stderr",
     "output_type": "stream",
     "text": [
      "  2%|▏         | 32/1600 [00:03<01:39, 15.73sig/s]"
     ]
    },
    {
     "name": "stdout",
     "output_type": "stream",
     "text": [
      "Epoch = 1/10 (lr_mult = 0.001000000, loss = 3.42, accuracy = 2.64, incorrect = 997 done.\n"
     ]
    },
    {
     "name": "stderr",
     "output_type": "stream",
     "text": [
      " 12%|█▏        | 192/1600 [00:06<00:39, 35.37sig/s]"
     ]
    },
    {
     "name": "stdout",
     "output_type": "stream",
     "text": [
      "Epoch = 2/10 (lr_mult = 0.001000000, loss = 52.96, accuracy = 3.71, incorrect = 986 done.\n"
     ]
    },
    {
     "name": "stderr",
     "output_type": "stream",
     "text": [
      " 22%|██▏       | 352/1600 [00:10<00:26, 47.74sig/s]"
     ]
    },
    {
     "name": "stdout",
     "output_type": "stream",
     "text": [
      "Epoch = 3/10 (lr_mult = 0.000875000, loss = 47.48, accuracy = 4.39, incorrect = 979 done.\n"
     ]
    },
    {
     "name": "stderr",
     "output_type": "stream",
     "text": [
      " 32%|███▏      | 512/1600 [00:13<00:21, 49.97sig/s]"
     ]
    },
    {
     "name": "stdout",
     "output_type": "stream",
     "text": [
      "Epoch = 4/10 (lr_mult = 0.000750000, loss = 4.12, accuracy = 4.30, incorrect = 980 done.\n"
     ]
    },
    {
     "name": "stderr",
     "output_type": "stream",
     "text": [
      " 42%|████▏     | 672/1600 [00:16<00:17, 51.89sig/s]"
     ]
    },
    {
     "name": "stdout",
     "output_type": "stream",
     "text": [
      "Epoch = 5/10 (lr_mult = 0.000625000, loss = 3.73, accuracy = 4.88, incorrect = 974 done.\n"
     ]
    },
    {
     "name": "stderr",
     "output_type": "stream",
     "text": [
      " 52%|█████▏    | 832/1600 [00:20<00:14, 53.10sig/s]"
     ]
    },
    {
     "name": "stdout",
     "output_type": "stream",
     "text": [
      "Epoch = 6/10 (lr_mult = 0.000500000, loss = 3.59, accuracy = 3.71, incorrect = 986 done.\n"
     ]
    },
    {
     "name": "stderr",
     "output_type": "stream",
     "text": [
      " 62%|██████▏   | 992/1600 [00:23<00:11, 51.55sig/s]"
     ]
    },
    {
     "name": "stdout",
     "output_type": "stream",
     "text": [
      "Epoch = 7/10 (lr_mult = 0.000375000, loss = 3.32, accuracy = 4.88, incorrect = 974 done.\n"
     ]
    },
    {
     "name": "stderr",
     "output_type": "stream",
     "text": [
      " 72%|███████▏  | 1152/1600 [00:26<00:08, 51.99sig/s]"
     ]
    },
    {
     "name": "stdout",
     "output_type": "stream",
     "text": [
      "Epoch = 8/10 (lr_mult = 0.000250000, loss = 3.56, accuracy = 5.66, incorrect = 966 done.\n"
     ]
    },
    {
     "name": "stderr",
     "output_type": "stream",
     "text": [
      " 82%|████████▏ | 1312/1600 [00:30<00:05, 50.63sig/s]"
     ]
    },
    {
     "name": "stdout",
     "output_type": "stream",
     "text": [
      "Epoch = 9/10 (lr_mult = 0.000125000, loss = 3.44, accuracy = 4.30, incorrect = 980 done.\n"
     ]
    },
    {
     "name": "stderr",
     "output_type": "stream",
     "text": [
      " 92%|█████████▏| 1472/1600 [00:33<00:02, 51.48sig/s]"
     ]
    },
    {
     "name": "stdout",
     "output_type": "stream",
     "text": [
      "Epoch = 10/10 (lr_mult = 0.000000000, loss = 3.61, accuracy = 4.59, incorrect = 977 done.\n"
     ]
    },
    {
     "name": "stderr",
     "output_type": "stream",
     "text": [
      "100%|██████████| 1600/1600 [00:34<00:00, 45.82sig/s]"
     ]
    },
    {
     "name": "stdout",
     "output_type": "stream",
     "text": [
      "Execution time: 34.87727910599824\n"
     ]
    },
    {
     "name": "stderr",
     "output_type": "stream",
     "text": [
      "\n"
     ]
    }
   ],
   "source": [
    "\n",
    "batch_size = 32\n",
    "num_batches = int(1572864/batch_size)\n",
    "# num_batches = 5\n",
    "num_epochs = 10\n",
    "\n",
    "radio_model = CNN(epsilon=1e-8, name=\"CNN\")\n",
    "radio_opt = CNNOptimizer(name=\"Optimizer\", cnn=radio_model, lr=0.001, \\\n",
    "                         num_epochs=num_epochs, decay_lr_start_epoch=2, decay_lr=True)\n",
    "\n",
    "t = tqdm(range(num_batches * num_epochs),\n",
    "               unit='sig', unit_scale=batch_size, position=0)\n",
    "\n",
    "\n",
    "radio_data_train = tf.data.Dataset.from_generator(radioML(hdf5_path, 1, True), \n",
    "                output_types=(tf.float32, tf.int32),\n",
    "                output_shapes=(tf.TensorShape([1, 1024, 2]), tf.TensorShape([1, 24]))) #2555904, 1024, 2]\n",
    "\n",
    "radio_data_test = tf.data.Dataset.from_generator(radioML(hdf5_path, 1, False), \n",
    "                output_types=(tf.float32, tf.int32),\n",
    "                output_shapes=(tf.TensorShape([1, 1024, 2]), tf.TensorShape([1, 24]))) #2555904, 1024, 2]\n",
    "\n",
    "loss = 0\n",
    "\n",
    "radio_data_train = radio_data_train.take(batch_size*num_batches)\n",
    "radio_data_train = radio_data_train.map(radioML_map)\n",
    "radio_data_train = radio_data_train.batch(batch_size)\n",
    "radio_data_train = radio_data_train.prefetch(tf.data.experimental.AUTOTUNE)\n",
    "radio_data_train = radio_data_train.repeat(num_epochs)\n",
    "radio_data_train = radio_data_train.cache()\n",
    "\n",
    "test = radio_data_test.take(1024)\n",
    "test = test.map(radioML_map)\n",
    "test = test.batch(batch_size)\n",
    "\n",
    "\n",
    "# step = tf.function(radio_opt.step)\n",
    "print_every = 2048\n",
    "\n",
    "start_time = time.perf_counter()\n",
    "for step_num,(batch, labels) in enumerate(radio_data_train):      \n",
    "    epoch = tf.constant(1+int(step_num / (num_batches)))\n",
    "    loss = radio_opt.step(batch, labels, epoch)\n",
    "    \n",
    "    if NOTEBOOK != 'kaggle':\n",
    "        with writer.as_default():\n",
    "            tf.summary.scalar('training loss', loss, step=step_num)\n",
    "            tf.summary.scalar('learning rate', radio_opt.lr, step=step_num)    \n",
    "        \n",
    "    t.update(1)    \n",
    "    if step_num % print_every == 0:                \n",
    "        t.write('Current epoch = {}/{} (lr_mult = {:0.09f}, loss = {}) done.'.format(\n",
    "            epoch.numpy(), num_epochs, radio_opt.lr.numpy(), loss.numpy()))  \n",
    "        \n",
    "    if step_num % num_batches == 0: \n",
    "        accuracy, total, correct = tf.constant(0), tf.constant(0), tf.constant(0)\n",
    "        for (batch, labels) in test:            \n",
    "            logits = tf.nn.softmax(radio_opt.cnn(batch, is_training=False))\n",
    "            preds = tf.argmax(logits, axis=1, output_type=tf.int32)  \n",
    "            labels = tf.argmax(labels, axis=1, output_type=tf.int32)\n",
    "            correct += tf.math.count_nonzero(tf.equal(preds, labels), dtype=tf.int32)\n",
    "            total += tf.shape(labels)[0]            \n",
    "        accuracy = (correct / tf.cast(total, tf.int32)) * 100.          \n",
    "        t.write('Epoch = {}/{} (lr_mult = {:0.09f}, loss = {:0.02f}, accuracy = {:0.02f}, incorrect = {} done.'.format(\n",
    "            epoch.numpy(), num_epochs, radio_opt.lr.numpy(), loss.numpy(), accuracy, total - correct))  \n",
    "                 \n",
    "print(\"Execution time:\", time.perf_counter() - start_time)   \n",
    "t.close()\n",
    "   "
   ]
  },
  {
   "cell_type": "code",
   "execution_count": 11,
   "metadata": {},
   "outputs": [
    {
     "name": "stdout",
     "output_type": "stream",
     "text": [
      "Final accuracy: tf.Tensor(87.646484375, shape=(), dtype=float64)\n"
     ]
    }
   ],
   "source": [
    "radio_data_test = tf.data.Dataset.from_generator(radioML(hdf5_path, 1, False), \n",
    "                output_types=(tf.float32, tf.int32),\n",
    "                output_shapes=(tf.TensorShape([1, 1024, 2]), tf.TensorShape([1, 24]))) #2555904, 1024, 2]\n",
    "test = radio_data_test.take(1024)\n",
    "test = test.map(radioML_map)\n",
    "test = test.batch(batch_size)\n",
    "for (batch, labels) in test:\n",
    "    preds = tf.argmax(radio_opt.cnn(batch), output_type=tf.int32)\n",
    "    correct += tf.math.count_nonzero(tf.equal(preds, labels), dtype=tf.int32)\n",
    "    total += tf.shape(labels)[0]\n",
    "accuracy = (correct / tf.cast(total, tf.int32)) * 100.   \n",
    "print(\"Final accuracy:\", accuracy)"
   ]
  },
  {
   "cell_type": "code",
   "execution_count": null,
   "metadata": {},
   "outputs": [],
   "source": [
    "tf.math.is_nan(loss_history)\n",
    "loss_history = loss_history\n",
    "fig2 = plt.figure()\n",
    "plt.plot(loss_history)\n",
    "plt.xlabel('Batch #')\n",
    "plt.ylabel('Loss [entropy]')\n",
    "plt.show()\n",
    "loss_history"
   ]
  },
  {
   "cell_type": "code",
   "execution_count": null,
   "metadata": {},
   "outputs": [],
   "source": [
    "print(snt.format_variables(radio_model.variables))"
   ]
  }
 ],
 "metadata": {
  "accelerator": "GPU",
  "colab": {
   "authorship_tag": "ABX9TyMY5mQBDXgj2X9YLAbDo2fr",
   "collapsed_sections": [],
   "include_colab_link": true,
   "name": "Copy of tf_simple.ipynb",
   "provenance": []
  },
  "kernelspec": {
   "display_name": "Python 3",
   "language": "python",
   "name": "python3"
  },
  "language_info": {
   "codemirror_mode": {
    "name": "ipython",
    "version": 3
   },
   "file_extension": ".py",
   "mimetype": "text/x-python",
   "name": "python",
   "nbconvert_exporter": "python",
   "pygments_lexer": "ipython3",
   "version": "3.7.3"
  }
 },
 "nbformat": 4,
 "nbformat_minor": 4
}
