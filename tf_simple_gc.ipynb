{
 "cells": [
  {
   "cell_type": "code",
   "execution_count": null,
   "metadata": {
    "colab": {},
    "colab_type": "code",
    "id": "B7G55GTG4y10"
   },
   "outputs": [],
   "source": [
    "try:\n",
    "    from google.colab import drive\n",
    "    COLAB_NOTEBOOK = True\n",
    "except:\n",
    "    COLAB_NOTEBOOK = False\n",
    "if COLAB_NOTEBOOK:\n",
    "    drive.mount(\"/content/gdrive\", force_remount=True)\n",
    "import tensorflow as tf\n",
    "# tf.debugging.set_log_device_placement(True)\n",
    "# tf.config.set_visible_devices([], 'GPU') \n",
    "import h5py\n",
    "import random\n",
    "import time\n",
    "tf.executing_eagerly() \n"
   ]
  },
  {
   "cell_type": "code",
   "execution_count": 20,
   "metadata": {},
   "outputs": [
    {
     "name": "stdout",
     "output_type": "stream",
     "text": [
      "Filesystem      Size  Used Avail Use% Mounted on\n",
      "udev            3.9G     0  3.9G   0% /dev\n",
      "tmpfs           794M  2.0M  792M   1% /run\n",
      "/dev/sda8       216G  134G   72G  66% /\n",
      "tmpfs           3.9G  330M  3.6G   9% /dev/shm\n",
      "tmpfs           5.0M  4.0K  5.0M   1% /run/lock\n",
      "tmpfs           3.9G     0  3.9G   0% /sys/fs/cgroup\n",
      "/dev/loop0       92M   92M     0 100% /snap/core/8689\n",
      "/dev/loop1      4.4M  4.4M     0 100% /snap/gnome-calculator/704\n",
      "/dev/loop2      1.0M  1.0M     0 100% /snap/gnome-logs/93\n",
      "/dev/loop3       68M   68M     0 100% /snap/sublime-text/85\n",
      "/dev/loop4       15M   15M     0 100% /snap/gnome-characters/495\n",
      "/dev/loop5      161M  161M     0 100% /snap/gnome-3-28-1804/116\n",
      "/dev/loop6      3.8M  3.8M     0 100% /snap/gnome-system-monitor/135\n",
      "/dev/loop7       55M   55M     0 100% /snap/core18/1668\n",
      "/dev/loop11     198M  198M     0 100% /snap/viber-unofficial/37\n",
      "/dev/loop13     348M  348M     0 100% /snap/pycharm-community/188\n",
      "/dev/loop14     4.3M  4.3M     0 100% /snap/gnome-calculator/544\n",
      "/dev/loop15      15M   15M     0 100% /snap/gnome-characters/399\n",
      "/dev/loop16     3.8M  3.8M     0 100% /snap/gnome-system-monitor/127\n",
      "/dev/loop17     141M  141M     0 100% /snap/gnome-3-26-1604/98\n",
      "/dev/loop18      55M   55M     0 100% /snap/core18/1705\n",
      "/dev/loop19      45M   45M     0 100% /snap/gtk-common-themes/1440\n",
      "/dev/loop20     141M  141M     0 100% /snap/gnome-3-26-1604/97\n",
      "/dev/loop10     157M  157M     0 100% /snap/gnome-3-28-1804/110\n",
      "/dev/loop12     340M  340M     0 100% /snap/pycharm-community/192\n",
      "/dev/loop21     1.0M  1.0M     0 100% /snap/gnome-logs/81\n",
      "/dev/loop9       49M   49M     0 100% /snap/gtk-common-themes/1474\n",
      "/dev/loop8       94M   94M     0 100% /snap/core/8935\n",
      "/dev/sda2        96M  9.2M   87M  10% /boot/efi\n",
      "tmpfs           794M   16K  794M   1% /run/user/123\n",
      "tmpfs           794M   72K  794M   1% /run/user/1000\n",
      "/dev/sda4       244G   37G  208G  16% /media/bognev/CE50072F50071DB9\n",
      "total 24\n",
      "drwxr-xr-x 3 bognev bognev  4096 Apr  9 18:22 logs\n",
      "-rw-r--r-- 1 bognev bognev 14180 Apr  9 21:45 tf_simple_gc.ipynb\n",
      "-rw-r--r-- 1 bognev bognev   864 Apr  6 13:11 tutorial1.py\n"
     ]
    }
   ],
   "source": [
    "# !wget https://drive.google.com/file/d/1x7ieFTAYVlPe9xMvFAqx6oZvUZ4DLbdf/view?usp=sharing\n",
    "# !pip install gdown\n",
    "if COLAB_NOTEBOOK:\n",
    "    import gdown\n",
    "\n",
    "    # url = 'https://drive.google.com/uc?id=0B9P1L--7Wd2vNm9zMTJWOGxobkU'\n",
    "    url = 'https://drive.google.com/uc?id=1x7ieFTAYVlPe9xMvFAqx6oZvUZ4DLbdf'\n",
    "    # url = 'http://opendata.deepsig.io/datasets/2018.01/2018.01.OSC.0001_1024x2M.h5.tar.gz'\n",
    "    output = 'GOLD_XYZ.hdf5'\n",
    "    gdown.download(url, output, quiet=False)\n",
    "!df -h\n",
    "!ls -l\n",
    "\n"
   ]
  },
  {
   "cell_type": "code",
   "execution_count": null,
   "metadata": {
    "colab": {},
    "colab_type": "code",
    "id": "7DqwlFzY9FZ6"
   },
   "outputs": [],
   "source": [
    "# drive.flush_and_unmount()"
   ]
  },
  {
   "cell_type": "code",
   "execution_count": null,
   "metadata": {
    "colab": {},
    "colab_type": "code",
    "id": "N3rolEtjaEx-"
   },
   "outputs": [],
   "source": [
    "# Install sonnet (it doesn't come preinstalled in the colab VM).\n",
    "if COLAB_NOTEBOOK:\n",
    "    !pip install -q dm-sonnet\n",
    "\n",
    "!grep Model: /proc/driver/nvidia/gpus/*/information | awk '{$1=\"\";print$0}'\n"
   ]
  },
  {
   "cell_type": "code",
   "execution_count": null,
   "metadata": {
    "colab": {
     "base_uri": "https://localhost:8080/",
     "height": 52
    },
    "colab_type": "code",
    "id": "Lnmy6-UI6QG3",
    "outputId": "4bf0d8dc-a13a-45a6-b5d9-a6ce5034bd0a"
   },
   "outputs": [],
   "source": [
    "# import tensorflow as tf\n",
    "# tf.debugging.set_log_device_placement(True)\n",
    "# import h5py\n",
    "import numpy as np\n",
    "import matplotlib.pyplot as plt\n",
    "import random\n",
    "import tqdm\n",
    "import time\n",
    "import sonnet as snt\n",
    "from tqdm import tqdm\n",
    "\n",
    "print(\"TensorFlow version: {}\".format(tf.__version__))\n",
    "print(\"    Sonnet version: {}\".format(snt.__version__))\n",
    "print(\"    Numpy  version: {}\".format(np.__version__))\n",
    "from tensorboard import version; print(\"TensorBoard version: {}\".format(version.VERSION))\n",
    "# tf.config.list_physical_devices('GPU')"
   ]
  },
  {
   "cell_type": "code",
   "execution_count": null,
   "metadata": {
    "colab": {},
    "colab_type": "code",
    "id": "aqPYo6YU6QpC"
   },
   "outputs": [],
   "source": [
    "class ConvMaxPool(snt.Module):\n",
    "    def __init__(self, name=None):\n",
    "        super(ConvMaxPool, self).__init__(name=name)\n",
    "        self.conv = snt.Conv1D(output_channels=64, kernel_shape=64, stride=1, rate=1,\n",
    "                               padding=\"SAME\", with_bias=True,\n",
    "                               data_format=\"NWC\", name=\"conv_max_pool\"\n",
    "                               )\n",
    "\n",
    "    def __call__(self, inputs):\n",
    "        features = self.conv(inputs)\n",
    "        outputs = tf.nn.max_pool1d(features, ksize=2, strides=2, padding=\"VALID\", \n",
    "                                   data_format='NWC', name=\"pool\") #64×1024\n",
    "        return outputs\n",
    "\n",
    "\n",
    "class CNN(snt.Module):\n",
    "    def __init__(self, epsilon, name=None):\n",
    "        super(CNN, self).__init__(name=name)\n",
    "        self.layers = [\n",
    "            ConvMaxPool(name=\"conv\"+str(ii))\n",
    "            for ii in range(6)\n",
    "        ]\n",
    "        self.conv_in = snt.Conv1D(output_channels=64, kernel_shape=2, stride=1, rate=1,\n",
    "                       padding=\"SAME\", with_bias=True,\n",
    "                       data_format=\"NWC\", name=\"conv_input\"\n",
    "                       )\n",
    "\n",
    "        self.linear = snt.Linear(output_size=128, with_bias=True)\n",
    "        self.linear1 = snt.Linear(output_size=128, with_bias=True)\n",
    "        self.linear2 = snt.Linear(output_size=24, with_bias=True)        \n",
    "        self.decay_lr = 0\n",
    "        self.lr=2e-4\n",
    "\n",
    "\n",
    "    # @snt.once\n",
    "    def __initialize(self, weight):\n",
    "        pass\n",
    "\n",
    "    def __call__(self, inputs):\n",
    "        features = self.conv_in(inputs) #2×1024\n",
    "        features = tf.nn.max_pool1d(features, ksize=2, strides=2, padding=\"VALID\", \n",
    "                                    data_format='NWC', name=\"pool_input\") \n",
    "#         print(features)\n",
    "        for layer in self.layers:\n",
    "            features = layer(features)    \n",
    "        features = snt.flatten(features)\n",
    "\n",
    "        features = self.linear(features)\n",
    "        features = tf.nn.relu(features)\n",
    "        features = self.linear1(features)\n",
    "        features = tf.nn.relu(features)\n",
    "\n",
    "        output = self.linear2(features)        \n",
    "#         output = tf.nn.softmax(features)\n",
    "        return output\n",
    "\n",
    "opt = snt.optimizers.Adam(learning_rate=0.001, beta1=0.)\n",
    "\n",
    "def step(batch, labels):\n",
    "    with tf.GradientTape() as tape:\n",
    "        logits = radio_model(batch)\n",
    "#         loss = cross_entropy_loss(logits, labels)\n",
    "        loss = tf.nn.softmax_cross_entropy_with_logits(labels=labels, logits=logits)\n",
    "        loss = tf.reduce_mean(loss)\n",
    "\n",
    "    params = radio_model.trainable_variables\n",
    "    grads = tape.gradient(loss, params)        \n",
    "    \n",
    "#     if self.decay_lr:\n",
    "#       self.lr.assign(self.init_lr * lr_mult)\n",
    "    \n",
    "    opt.apply(grads, params)\n",
    "    return loss\n",
    "\n",
    "def cross_entropy_loss(logits, target):\n",
    "    return -tf.reduce_sum(target*tf.math.log(logits))\n",
    "\n"
   ]
  },
  {
   "cell_type": "code",
   "execution_count": null,
   "metadata": {
    "colab": {},
    "colab_type": "code",
    "id": "i1VIhmNnY4ju"
   },
   "outputs": [],
   "source": [
    "class radioML:\n",
    "    def __init__(self, file, batch_size):\n",
    "        self.file = file\n",
    "        self.batch_size = batch_size\n",
    "\n",
    "    def __call__(self):\n",
    "        with h5py.File(self.file, 'r') as f:\n",
    "            datasize = len(f['X'])\n",
    "            while True:\n",
    "                idxs = random.sample(range(datasize), self.batch_size)\n",
    "                yield (f['X'][sorted(idxs)], f['Y'][sorted(idxs)])\n",
    "                # f.close()\n",
    "\n",
    "def radioML_map(data_batch, data_label):\n",
    "#     print(data_batch.shape)\n",
    "    data_batch = tf.reshape(data_batch, [1024, 2])\n",
    "#     mean = tf.math.reduce_mean(data_batch)\n",
    "#     std = tf.math.reduce_std(data_batch)\n",
    "#     data_batch = (data_batch - mean)/std\n",
    "#     print(std, mean)\n",
    "#     print(type(std))\n",
    "    return (data_batch, data_label)"
   ]
  },
  {
   "cell_type": "code",
   "execution_count": null,
   "metadata": {
    "colab": {
     "base_uri": "https://localhost:8080/",
     "height": 34
    },
    "colab_type": "code",
    "id": "T7UDaOKT6rXt",
    "outputId": "d7b02ea9-a652-4859-a91b-7e76bbd9869e"
   },
   "outputs": [],
   "source": [
    "radio_model = CNN(epsilon=1e-8, name=\"CNN\")\n",
    "print(radio_model)\n"
   ]
  },
  {
   "cell_type": "code",
   "execution_count": null,
   "metadata": {
    "colab": {
     "base_uri": "https://localhost:8080/",
     "height": 1000
    },
    "colab_type": "code",
    "id": "W2kSsUBk8bOV",
    "outputId": "1f3931f2-7e98-4853-eef6-6adb76f5d2ea"
   },
   "outputs": [],
   "source": [
    "if COLAB_NOTEBOOK:\n",
    "    hdf5_path = '/content/gdrive/My Drive/data/GOLD_XYZ.hdf5'\n",
    "else:          \n",
    "    hdf5_path = '/media/bognev/CE50072F50071DB9/2018.01/GOLD_XYZ_OSC.0001_1024.hdf5'\n",
    "    \n",
    "    \n",
    "\n",
    "\n",
    "radio_plot = tf.data.Dataset.from_generator(radioML(hdf5_path, 1), \n",
    "                output_types=(tf.float32, tf.float32),\n",
    "                output_shapes=(tf.TensorShape([1, 1024, 2]), tf.TensorShape([1, 24]))) #2555904, 1024, 2]\n",
    "\n",
    "radio_plot = radio_plot.take(1)\n",
    "radio_plot = radio_plot.map(radioML_map)\n",
    "for (batch, labels) in radio_plot:    \n",
    "    print(batch.shape)\n",
    "    fig1 = plt.figure()\n",
    "    plt.plot(batch[:,0])\n",
    "    plt.xlabel('Batch #')\n",
    "    plt.ylabel('Loss [entropy]')\n",
    "    fig2 = plt.figure()\n",
    "    plt.plot(batch[:,1])\n",
    "    plt.xlabel('Batch #')\n",
    "    plt.ylabel('Loss [entropy]')\n",
    "    plt.show()"
   ]
  },
  {
   "cell_type": "code",
   "execution_count": null,
   "metadata": {},
   "outputs": [],
   "source": [
    "%reload_ext tensorboard\n",
    "# %load_ext tensorboard\n",
    "# import os\n",
    "from datetime import datetime as dt\n",
    "# Clear any logs from previous runs\n",
    "!rm -rf ./logs/\n",
    "log_dir = \"logs/scalars/\" + dt.now().strftime(\"%Y%m%d-%H%M%S\")\n",
    "writer = tf.summary.create_file_writer(log_dir)\n",
    "\n",
    "\n",
    "writer.set_as_default()"
   ]
  },
  {
   "cell_type": "code",
   "execution_count": null,
   "metadata": {},
   "outputs": [],
   "source": [
    "\n",
    "batch_size = 128\n",
    "num_batches = 256\n",
    "num_epochs = 10\n",
    "\n",
    "t = tqdm(range(num_batches * num_epochs),\n",
    "                                unit='sig', unit_scale=batch_size,\n",
    "                                position=0)\n",
    "\n",
    "\n",
    "radio_data = tf.data.Dataset.from_generator(radioML(hdf5_path, 1), \n",
    "                output_types=(tf.float32, tf.float32),\n",
    "                output_shapes=(tf.TensorShape([1, 1024, 2]), tf.TensorShape([1, 24]))) #2555904, 1024, 2]\n",
    "\n",
    "loss_history = []\n",
    "loss = 0\n",
    "step_num=0\n",
    "radio_data = radio_data.take(batch_size*num_batches)\n",
    "radio_data = radio_data.map(radioML_map)\n",
    "radio_data = radio_data.batch(batch_size)\n",
    "radio_data = radio_data.prefetch(tf.data.experimental.AUTOTUNE)\n",
    "radio_data = radio_data.repeat(num_epochs)\n",
    "# radio_data = radio_data.cache()\n",
    "start_time = time.perf_counter()\n",
    "for step_num,(batch, labels) in enumerate(radio_data):      \n",
    "    epoch = tf.constant(int(step_num / (batch_size*num_batches)))\n",
    "    loss = step(batch, labels)\n",
    "    step_num+=1\n",
    "    with writer.as_default():\n",
    "        tf.summary.scalar('training loss', loss, step=i)\n",
    "    \n",
    "    t.update(1)\n",
    "    if step_num and (step_num % batch_size*num_batches == 0):\n",
    "        t.write('\\nEpoch = {}/{} (lr_mult = {:0.02f}, loss = {}) done.'.format(\n",
    "            epoch.numpy(), num_epochs, 0.001, loss.numpy()))\n",
    "tf.print(\"Execution time:\", time.perf_counter() - start_time)   \n",
    "t.close()\n",
    "# tf.print(\"batch.shape: \", i, batch.shape)  \n",
    "# tf.print(loss_history)                        "
   ]
  },
  {
   "cell_type": "code",
   "execution_count": 19,
   "metadata": {},
   "outputs": [
    {
     "data": {
      "text/plain": [
       "Reusing TensorBoard on port 6006 (pid 10963), started 0:14:22 ago. (Use '!kill 10963' to kill it.)"
      ]
     },
     "metadata": {},
     "output_type": "display_data"
    },
    {
     "data": {
      "text/html": [
       "\n",
       "      <iframe id=\"tensorboard-frame-37b87b96dc7230b\" width=\"100%\" height=\"800\" frameborder=\"0\">\n",
       "      </iframe>\n",
       "      <script>\n",
       "        (function() {\n",
       "          const frame = document.getElementById(\"tensorboard-frame-37b87b96dc7230b\");\n",
       "          const url = new URL(\"/\", window.location);\n",
       "          url.port = 6006;\n",
       "          frame.src = url;\n",
       "        })();\n",
       "      </script>\n",
       "  "
      ],
      "text/plain": [
       "<IPython.core.display.HTML object>"
      ]
     },
     "metadata": {},
     "output_type": "display_data"
    }
   ],
   "source": [
    "%tensorboard --logdir logs/scalars"
   ]
  },
  {
   "cell_type": "code",
   "execution_count": null,
   "metadata": {},
   "outputs": [],
   "source": [
    "tf.math.is_nan(loss_history)\n",
    "loss_history = loss_history\n",
    "fig2 = plt.figure()\n",
    "plt.plot(loss_history)\n",
    "plt.xlabel('Batch #')\n",
    "plt.ylabel('Loss [entropy]')\n",
    "plt.show()\n",
    "loss_history"
   ]
  },
  {
   "cell_type": "code",
   "execution_count": null,
   "metadata": {},
   "outputs": [],
   "source": [
    "print(snt.format_variables(radio_model.variables))"
   ]
  }
 ],
 "metadata": {
  "accelerator": "GPU",
  "colab": {
   "authorship_tag": "ABX9TyMY5mQBDXgj2X9YLAbDo2fr",
   "collapsed_sections": [],
   "include_colab_link": true,
   "name": "Copy of tf_simple.ipynb",
   "provenance": []
  },
  "kernelspec": {
   "display_name": "Python 3",
   "language": "python",
   "name": "python3"
  },
  "language_info": {
   "codemirror_mode": {
    "name": "ipython",
    "version": 3
   },
   "file_extension": ".py",
   "mimetype": "text/x-python",
   "name": "python",
   "nbconvert_exporter": "python",
   "pygments_lexer": "ipython3",
   "version": "3.7.3"
  }
 },
 "nbformat": 4,
 "nbformat_minor": 1
}
