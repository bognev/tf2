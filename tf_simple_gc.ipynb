{
 "cells": [
  {
   "cell_type": "code",
   "execution_count": 3,
   "metadata": {
    "colab": {},
    "colab_type": "code",
    "id": "B7G55GTG4y10"
   },
   "outputs": [
    {
     "name": "stdout",
     "output_type": "stream",
     "text": [
      "home\n"
     ]
    }
   ],
   "source": [
    "try:\n",
    "    from google.colab import drive\n",
    "    NOTEBOOK = 'colab'\n",
    "except:\n",
    "    import os    \n",
    "    if list(os.walk('/kaggle/input')):            \n",
    "        NOTEBOOK = 'kaggle'\n",
    "    else:\n",
    "        NOTEBOOK = 'home'\n",
    "        \n",
    "if NOTEBOOK == 'colab':\n",
    "    drive.mount(\"/content/gdrive\", force_remount=True)\n",
    "\n",
    "import tensorflow as tf\n",
    "# tf.debugging.set_log_device_placement(True)\n",
    "# tf.config.set_visible_devices([], 'GPU') \n",
    "# tf.executing_eagerly() \n",
    "\n",
    "print(NOTEBOOK)\n",
    "\n",
    "\n"
   ]
  },
  {
   "cell_type": "code",
   "execution_count": 4,
   "metadata": {},
   "outputs": [
    {
     "name": "stdout",
     "output_type": "stream",
     "text": [
      "/media/bognev/CE50072F50071DB9/2018.01/GOLD_XYZ_OSC.0001_1024.hdf5\n"
     ]
    }
   ],
   "source": [
    "if NOTEBOOK == 'colab':\n",
    "    !pip install -q dm-sonnet\n",
    "    !pip install -q gdown\n",
    "    import gdown    \n",
    "#     url = 'https://drive.google.com/uc?id=1Si-Fz-38xITBOvYOoPTn_xLtOHVwqFQO'\n",
    "    url = 'https://drive.google.com/uc?id=1rMDDybiyw6bLOdVOL_SY-RoQdocRRNzl'\n",
    "    output = 'GOLD_XYZ.hdf5'\n",
    "    gdown.download(url, output, quiet=False)\n",
    "    !df -h\n",
    "    !ls -l\n",
    "    !grep Model: /proc/driver/nvidia/gpus/*/information | awk '{$1=\"\";print$0}'\n",
    "    hdf5_path = '/content/'+output\n",
    "elif NOTEBOOK == 'kaggle':\n",
    "    !pip install -q dm-sonnet\n",
    "    import os\n",
    "    for dirname, _, filenames in os.walk('/kaggle/input'):\n",
    "        for filename in filenames:\n",
    "            hdf5_path = os.path.join(dirname, filename)\n",
    "else:          \n",
    "    hdf5_path = '/media/bognev/CE50072F50071DB9/2018.01/GOLD_XYZ_OSC.0001_1024.hdf5'\n",
    "print(hdf5_path)\n"
   ]
  },
  {
   "cell_type": "code",
   "execution_count": 5,
   "metadata": {
    "colab": {
     "base_uri": "https://localhost:8080/",
     "height": 52
    },
    "colab_type": "code",
    "id": "Lnmy6-UI6QG3",
    "outputId": "4bf0d8dc-a13a-45a6-b5d9-a6ce5034bd0a"
   },
   "outputs": [
    {
     "name": "stdout",
     "output_type": "stream",
     "text": [
      "TensorFlow version: 2.1.0\n",
      "    Sonnet version: 2.0.0\n",
      "    Numpy  version: 1.18.2\n",
      "TensorBoard version: 2.2.0\n"
     ]
    }
   ],
   "source": [
    "# import tensorflow as tf\n",
    "# tf.debugging.set_log_device_placement(True)\n",
    "# import h5py\n",
    "import numpy as np\n",
    "import matplotlib.pyplot as plt\n",
    "import random\n",
    "import tqdm\n",
    "import time\n",
    "import h5py\n",
    "import sonnet as snt\n",
    "from tqdm import tqdm\n",
    "\n",
    "print(\"TensorFlow version: {}\".format(tf.__version__))\n",
    "print(\"    Sonnet version: {}\".format(snt.__version__))\n",
    "print(\"    Numpy  version: {}\".format(np.__version__))\n",
    "from tensorboard import version; print(\"TensorBoard version: {}\".format(version.VERSION))\n",
    "# tf.config.list_physical_devices('GPU')"
   ]
  },
  {
   "cell_type": "code",
   "execution_count": 32,
   "metadata": {},
   "outputs": [],
   "source": [
    "from tensorflow.python.ops import array_ops\n",
    "from tensorflow.python.ops import math_ops\n",
    "\n",
    "class AlphaDropout(snt.Module):\n",
    "\n",
    "  def __init__(self, name=None, rate=0.5, noise_shape=None, seed=None, **kwargs):\n",
    "    super(AlphaDropout, self).__init__(name=name)\n",
    "    self.rate = rate\n",
    "    self.noise_shape = noise_shape\n",
    "    self.seed = seed\n",
    "\n",
    "  def _get_noise_shape(self, inputs):\n",
    "    return self.noise_shape if self.noise_shape else inputs.shape\n",
    "\n",
    "  def __call__(self, inputs, is_training=None):\n",
    "    if 0. < self.rate < 1.:\n",
    "      noise_shape = self._get_noise_shape(inputs)\n",
    "\n",
    "      def dropped_inputs(inputs=inputs, rate=self.rate, seed=self.seed):  # pylint: disable=missing-docstring\n",
    "        alpha = 1.6732632423543772848170429916717\n",
    "        scale = 1.0507009873554804934193349852946\n",
    "        alpha_p = -alpha * scale\n",
    "\n",
    "        kept_idx = math_ops.greater_equal(\n",
    "            tf.random.uniform(noise_shape, minval=0, maxval=None, dtype=tf.dtypes.float32, seed=seed, name=None), rate)\n",
    "        kept_idx = math_ops.cast(kept_idx, dtypes.float32)\n",
    "\n",
    "        # Get affine transformation params\n",
    "        a = ((1 - rate) * (1 + rate * alpha_p**2))**-0.5\n",
    "        b = -a * alpha_p * rate\n",
    "\n",
    "        # Apply mask\n",
    "        x = inputs * kept_idx + alpha_p * (1 - kept_idx)\n",
    "\n",
    "        # Do affine transformation\n",
    "        return a * x + b\n",
    "      \n",
    "        if is_training==True:\n",
    "            return dropped_inputs(inputs)\n",
    "        else: \n",
    "            return inputs\n",
    "    return inputs\n",
    "\n",
    "\n",
    "  "
   ]
  },
  {
   "cell_type": "code",
   "execution_count": 45,
   "metadata": {
    "colab": {},
    "colab_type": "code",
    "id": "aqPYo6YU6QpC"
   },
   "outputs": [],
   "source": [
    "class ConvMaxPool(snt.Module):\n",
    "    def __init__(self, name=None):\n",
    "        super(ConvMaxPool, self).__init__(name=name)\n",
    "        self.conv = snt.Conv1D(output_channels=64, kernel_shape=3, stride=1, rate=1,\n",
    "                               padding=\"SAME\", with_bias=True,\n",
    "                               data_format=\"NWC\", name=\"conv_max_pool\"\n",
    "                               )\n",
    "\n",
    "    def __call__(self, inputs):\n",
    "        features = self.conv(inputs)\n",
    "        outputs = tf.nn.max_pool1d(features, ksize=2, strides=2, padding=\"SAME\", \n",
    "                                   data_format='NWC', name=\"pool\") #64×1024\n",
    "        return outputs\n",
    "\n",
    "# @tf.function\n",
    "class CNN(snt.Module):\n",
    "    def __init__(self, epsilon, name=None):\n",
    "        super(CNN, self).__init__(name=name)\n",
    "        self.layers = [\n",
    "            ConvMaxPool(name=\"conv\"+str(ii))\n",
    "            for ii in range(6)\n",
    "        ]\n",
    "        self.conv_in = snt.Conv1D(output_channels=64, kernel_shape=2, stride=1, rate=1,\n",
    "                       padding=\"SAME\", with_bias=True,\n",
    "                       data_format=\"NWC\", name=\"conv_input\"\n",
    "                       )\n",
    "        \n",
    "        self.linear = snt.Linear(output_size=128, with_bias=True, \n",
    "                                 w_init=snt.initializers.VarianceScaling(scale = 1.0, mode='fan_in', distribution='truncated_normal', seed=10))\n",
    "        self.linear1 = snt.Linear(output_size=128, with_bias=True,\n",
    "                                 w_init=snt.initializers.VarianceScaling(scale = 1.0, mode='fan_in', distribution='truncated_normal', seed=13))\n",
    "        self.linear2 = snt.Linear(output_size=24, with_bias=True,\n",
    "                                 w_init=snt.initializers.VarianceScaling(scale = 1.0, mode='fan_in', distribution='truncated_normal', seed=14))                \n",
    "        \n",
    "        self.alpha = AlphaDropout(rate=0.1, noise_shape=None, seed=21)\n",
    "#         self.alpha = snt.Dropout(rate=0.1, noise_shape=None, seed=21, name=\"DO\")\n",
    "\n",
    "    \n",
    "    def __call__(self, inputs, is_training=False):\n",
    "        features = self.conv_in(inputs) #2×1024\n",
    "        features = tf.nn.max_pool1d(features, ksize=2, strides=2, padding=\"VALID\", \n",
    "                                    data_format='NWC', name=\"pool_input\") \n",
    "#         print(features)\n",
    "        for layer in self.layers:\n",
    "            features = layer(features)    \n",
    "        features = snt.flatten(features)\n",
    "\n",
    "        features = self.linear(features)\n",
    "        features = self.alpha(tf.nn.selu(features), is_training=is_training)\n",
    "        features = self.linear1(features)\n",
    "        features = self.alpha(tf.nn.selu(features), is_training=is_training)\n",
    "\n",
    "        output = self.linear2(features)        \n",
    "#         output = tf.nn.softmax(features)\n",
    "        return output\n"
   ]
  },
  {
   "cell_type": "code",
   "execution_count": 46,
   "metadata": {},
   "outputs": [],
   "source": [
    "class CNNOptimizer(snt.Module):\n",
    "    def __init__(self, name, cnn, lr=1e-3, num_epochs=100, decay_lr_start_epoch=10, decay_lr=False):\n",
    "        super(CNNOptimizer, self).__init__(name=name)\n",
    "        self.cnn = cnn\n",
    "        self.init_lr = lr\n",
    "        self.lr = tf.Variable(lr, trainable=False, name='learning rate', dtype=tf.float32)\n",
    "        self.cnn_opt = snt.optimizers.Adam(learning_rate=self.lr)#, beta1=0.)\n",
    "        self.decay_lr_start_epoch = tf.constant(decay_lr_start_epoch, dtype=tf.int32)\n",
    "        self.decay_lr = tf.constant(decay_lr, dtype=tf.float32)\n",
    "        self.num_epochs = tf.constant(num_epochs, dtype=tf.int32)\n",
    "\n",
    "    def _gen_lr_mult(self, epoch):\n",
    "          # Linear decay to 0.\n",
    "        decay_epoch = tf.cast(epoch - self.decay_lr_start_epoch, tf.float32)\n",
    "        if decay_epoch < tf.constant(0, dtype=tf.float32):\n",
    "            return tf.constant(1., dtype=tf.float32)\n",
    "        num_decay_epochs = tf.cast(self.num_epochs - self.decay_lr_start_epoch, dtype=tf.float32)\n",
    "        return (num_decay_epochs - decay_epoch) / num_decay_epochs        \n",
    "      \n",
    "    def step(self, batch, labels, epoch, step):\n",
    "        with tf.GradientTape() as tape:\n",
    "            logits = self.cnn(batch, is_training=True)    \n",
    "            loss = tf.nn.softmax_cross_entropy_with_logits(labels=labels, logits=logits)\n",
    "            loss = tf.reduce_mean(loss)\n",
    "        params = self.cnn.trainable_variables\n",
    "        grads = tape.gradient(loss, params)                \n",
    "        lr_mult = self._gen_lr_mult(epoch)\n",
    "        if self.decay_lr:\n",
    "            self.lr.assign(self.init_lr * lr_mult)\n",
    "        self.cnn_opt.apply(grads, params)   \n",
    "        if NOTEBOOK != 'kaggle':\n",
    "            with writer.as_default():\n",
    "                for i,g in enumerate(grads):                \n",
    "                    tf.summary.histogram(name=\"Grad_\"+params[i].name, data=g, step=step)                \n",
    "                    tf.summary.histogram(name=params[i].name, data=params[i].value(), step=step)                \n",
    "        return loss\n",
    "    \n",
    "\n",
    "\n"
   ]
  },
  {
   "cell_type": "code",
   "execution_count": 25,
   "metadata": {
    "colab": {},
    "colab_type": "code",
    "id": "i1VIhmNnY4ju"
   },
   "outputs": [],
   "source": [
    "class radioML:\n",
    "    def __init__(self, file, batch_size, is_training=False):\n",
    "        self.file = file\n",
    "        self.batch_size = batch_size\n",
    "        self.is_training = is_training\n",
    "\n",
    "    def __call__(self):        \n",
    "        N_r, N_m, N_db = 4096, 24, 13\n",
    "        if NOTEBOOK == 'colab':            \n",
    "            dbs = np.arange(0,32,2)     \n",
    "            db_range = np.arange(0,0+len(dbs))\n",
    "        else:                       \n",
    "            dbs = np.arange(0,32,2)                   \n",
    "            db_range = np.arange(10,10+len(dbs))\n",
    "        data_idxs_train = np.array([])\n",
    "        data_idxs_test = np.array([])\n",
    "        for i in np.arange(N_m):            \n",
    "            for j in db_range:\n",
    "                ids = i*N_r*N_db+j*N_r\n",
    "                idx = np.arange(ids, ids+N_r)                \n",
    "                data_idxs_train = np.append(data_idxs_train, idx[np.arange(int(0.8*N_r))])\n",
    "                data_idxs_test  = np.append(data_idxs_test, idx[np.arange(int(0.8*N_r)+1, N_r)])\n",
    "        with h5py.File(self.file, 'r') as f:\n",
    "            while True:\n",
    "                if self.is_training:\n",
    "                    idxs = np.random.choice(data_idxs_train, self.batch_size)\n",
    "                    yield (f['X'][sorted(idxs)], f['Y'][sorted(idxs)])\n",
    "                else:\n",
    "                    idxs = np.random.choice(data_idxs_test, self.batch_size)\n",
    "                    yield (f['X'][sorted(idxs)], f['Y'][sorted(idxs)])\n",
    "                \n",
    "\n",
    "def radioML_map(data_batch, data_label):\n",
    "#     print(data_batch.shape)\n",
    "    data_batch = tf.reshape(data_batch, [1024, 2])\n",
    "    data_label = tf.reshape(data_label, [24])\n",
    "#     mean = tf.math.reduce_mean(data_batch)\n",
    "#     std = tf.math.reduce_std(data_batch)\n",
    "#     data_batch = (data_batch - mean)/std\n",
    "#     print(std, mean)\n",
    "#     print(type(std))\n",
    "    return (data_batch, data_label)"
   ]
  },
  {
   "cell_type": "code",
   "execution_count": 47,
   "metadata": {
    "colab": {
     "base_uri": "https://localhost:8080/",
     "height": 1000
    },
    "colab_type": "code",
    "id": "W2kSsUBk8bOV",
    "outputId": "1f3931f2-7e98-4853-eef6-6adb76f5d2ea"
   },
   "outputs": [
    {
     "name": "stdout",
     "output_type": "stream",
     "text": [
      "<dtype: 'int32'>\n"
     ]
    },
    {
     "data": {
      "image/png": "[encoded data removed]",
      "text/plain": [
       "<Figure size 432x288 with 1 Axes>"
      ]
     },
     "metadata": {
      "needs_background": "light"
     },
     "output_type": "display_data"
    },
    {
     "data": {
      "image/png": "[encoded data removed]",
      "text/plain": [
       "<Figure size 432x288 with 1 Axes>"
      ]
     },
     "metadata": {
      "needs_background": "light"
     },
     "output_type": "display_data"
    }
   ],
   "source": [
    "radio_plot = tf.data.Dataset.from_generator(radioML(hdf5_path, 1, False), \n",
    "                output_types=(tf.float32, tf.int32),\n",
    "                output_shapes=(tf.TensorShape([1, 1024, 2]), tf.TensorShape([1, 24]))) #2555904, 1024, 2]\n",
    "\n",
    "radio_plot = radio_plot.take(1)\n",
    "radio_plot = radio_plot.map(radioML_map)\n",
    "for (batch, labels) in radio_plot:    \n",
    "    print(labels.dtype)\n",
    "    fig1 = plt.figure()\n",
    "    plt.plot(batch[:,0])\n",
    "    plt.xlabel('Time #')\n",
    "    plt.ylabel('Signal [random]')\n",
    "    fig2 = plt.figure()\n",
    "    plt.plot(batch[:,1])\n",
    "    plt.xlabel('Time #')\n",
    "    plt.ylabel('Signal [random]')\n",
    "    plt.show()"
   ]
  },
  {
   "cell_type": "code",
   "execution_count": null,
   "metadata": {},
   "outputs": [],
   "source": [
    "# building tensorflow graph\n",
    "\n",
    "# from datetime import datetime as dt\n",
    "# # Clear any logs from previous runs\n",
    "# !rm -rf ./logs/\n",
    "\n",
    "# stamp = dt.now().strftime(\"%Y%m%d-%H%M%S\")\n",
    "# logdir = 'logs/func/%s' % stamp\n",
    "# writer = tf.summary.create_file_writer(logdir)\n",
    "\n",
    "# radio_model = CNN(epsilon=1e-8, name=\"CNN\")\n",
    "# radio_data_test = tf.data.Dataset.from_generator(radioML(hdf5_path, 1, False), \n",
    "#                 output_types=(tf.float32, tf.float32),\n",
    "#                 output_shapes=(tf.TensorShape([1, 1024, 2]), tf.TensorShape([1, 24]))) #2555904, 1024, 2]\n",
    "# radio_data_test = radio_data_test.take(1)\n",
    "# radio_data_test = radio_data_test.map(radioML_map)\n",
    "# radio_data_test = radio_data_test.batch(1)\n",
    "\n",
    "# for i,(batch, labels) in enumerate(radio_data_test):\n",
    "#     tf.summary.trace_on(graph=True, profiler=True)    \n",
    "#     preds = radio_model(batch)\n",
    "#     with writer.as_default():\n",
    "#         tf.summary.trace_export(\n",
    "#             name='tf2_graph',\n",
    "#             step=0,\n",
    "#             profiler_outdir=logdir)\n",
    "# %reload_ext tensorboard\n",
    "# %tensorboard --logdir logs/func     "
   ]
  },
  {
   "cell_type": "code",
   "execution_count": 51,
   "metadata": {},
   "outputs": [
    {
     "data": {
      "text/html": [
       "\n",
       "      <iframe id=\"tensorboard-frame-7c45e10cf8b71a1\" width=\"100%\" height=\"800\" frameborder=\"0\">\n",
       "      </iframe>\n",
       "      <script>\n",
       "        (function() {\n",
       "          const frame = document.getElementById(\"tensorboard-frame-7c45e10cf8b71a1\");\n",
       "          const url = new URL(\"/\", window.location);\n",
       "          url.port = 6006;\n",
       "          frame.src = url;\n",
       "        })();\n",
       "      </script>\n",
       "  "
      ],
      "text/plain": [
       "<IPython.core.display.HTML object>"
      ]
     },
     "metadata": {},
     "output_type": "display_data"
    }
   ],
   "source": [
    "if NOTEBOOK != 'kaggle':\n",
    "    # %load_ext tensorboard\n",
    "    # import os\n",
    "    from datetime import datetime as dt\n",
    "    # Clear any logs from previous runs\n",
    "    !rm -rf ./logs/\n",
    "    log_dir = \"logs/\" + dt.now().strftime(\"%Y%m%d-%H%M%S\")\n",
    "    writer = tf.summary.create_file_writer(log_dir)\n",
    "\n",
    "\n",
    "    %reload_ext tensorboard\n",
    "#     %tensorboard --logdir logs/func     \n",
    "    # writer.set_as_default()\n",
    "    %tensorboard --logdir logs"
   ]
  },
  {
   "cell_type": "code",
   "execution_count": 53,
   "metadata": {},
   "outputs": [
    {
     "name": "stderr",
     "output_type": "stream",
     "text": [
      "  0%|          | 0/81920 [09:07<?, ?sig/s], 56.30sig/s]2sig/s]"
     ]
    },
    {
     "name": "stdout",
     "output_type": "stream",
     "text": [
      "Current epoch = 1/20 (lr_mult = 0.001000000, loss = 3.254000186920166) done.\n"
     ]
    },
    {
     "name": "stderr",
     "output_type": "stream",
     "text": [
      "  0%|          | 0/81920 [09:35<?, ?sig/s], 56.30sig/s]2sig/s]"
     ]
    },
    {
     "name": "stdout",
     "output_type": "stream",
     "text": [
      "Epoch = 1/20 (lr_mult = 0.001000000, loss = 3.25, accuracy = 6.84, incorrect = 954 done.\n"
     ]
    },
    {
     "name": "stderr",
     "output_type": "stream",
     "text": [
      "  0%|          | 0/81920 [09:45<?, ?sig/s], 56.30sig/s]2sig/s]"
     ]
    },
    {
     "name": "stdout",
     "output_type": "stream",
     "text": [
      "Current epoch = 1/20 (lr_mult = 0.001000000, loss = 2.4381723403930664) done.\n"
     ]
    },
    {
     "name": "stderr",
     "output_type": "stream",
     "text": [
      "  0%|          | 0/81920 [10:41<?, ?sig/s], 56.30sig/s]2sig/s]"
     ]
    },
    {
     "name": "stdout",
     "output_type": "stream",
     "text": [
      "Current epoch = 2/20 (lr_mult = 0.001000000, loss = 2.1890549659729004) done.\n"
     ]
    },
    {
     "name": "stderr",
     "output_type": "stream",
     "text": [
      "  0%|          | 0/81920 [11:03<?, ?sig/s], 56.30sig/s]2sig/s]"
     ]
    },
    {
     "name": "stdout",
     "output_type": "stream",
     "text": [
      "Epoch = 2/20 (lr_mult = 0.001000000, loss = 2.19, accuracy = 14.84, incorrect = 872 done.\n"
     ]
    },
    {
     "name": "stderr",
     "output_type": "stream",
     "text": [
      "  0%|          | 0/81920 [11:13<?, ?sig/s], 56.30sig/s]2sig/s]"
     ]
    },
    {
     "name": "stdout",
     "output_type": "stream",
     "text": [
      "Current epoch = 2/20 (lr_mult = 0.001000000, loss = 2.2902097702026367) done.\n"
     ]
    },
    {
     "name": "stderr",
     "output_type": "stream",
     "text": [
      "  0%|          | 0/81920 [12:12<?, ?sig/s], 56.30sig/s]2sig/s]"
     ]
    },
    {
     "name": "stdout",
     "output_type": "stream",
     "text": [
      "Current epoch = 3/20 (lr_mult = 0.001000000, loss = 2.089132308959961) done.\n"
     ]
    },
    {
     "name": "stderr",
     "output_type": "stream",
     "text": [
      "  0%|          | 0/81920 [12:27<?, ?sig/s], 56.30sig/s]2sig/s]"
     ]
    },
    {
     "name": "stdout",
     "output_type": "stream",
     "text": [
      "Epoch = 3/20 (lr_mult = 0.001000000, loss = 2.09, accuracy = 14.55, incorrect = 875 done.\n"
     ]
    },
    {
     "name": "stderr",
     "output_type": "stream",
     "text": [
      "  0%|          | 0/81920 [12:36<?, ?sig/s], 56.30sig/s]2sig/s]"
     ]
    },
    {
     "name": "stdout",
     "output_type": "stream",
     "text": [
      "Current epoch = 3/20 (lr_mult = 0.001000000, loss = 2.0538809299468994) done.\n"
     ]
    },
    {
     "name": "stderr",
     "output_type": "stream",
     "text": [
      "  0%|          | 0/81920 [13:39<?, ?sig/s], 56.30sig/s]2sig/s]"
     ]
    },
    {
     "name": "stdout",
     "output_type": "stream",
     "text": [
      "Current epoch = 4/20 (lr_mult = 0.001000000, loss = 2.093994617462158) done.\n"
     ]
    },
    {
     "name": "stderr",
     "output_type": "stream",
     "text": [
      "  0%|          | 0/81920 [13:52<?, ?sig/s], 56.30sig/s]2sig/s]"
     ]
    },
    {
     "name": "stdout",
     "output_type": "stream",
     "text": [
      "Epoch = 4/20 (lr_mult = 0.001000000, loss = 2.09, accuracy = 19.53, incorrect = 824 done.\n"
     ]
    },
    {
     "name": "stderr",
     "output_type": "stream",
     "text": [
      "  0%|          | 0/81920 [14:02<?, ?sig/s], 56.30sig/s]2sig/s]"
     ]
    },
    {
     "name": "stdout",
     "output_type": "stream",
     "text": [
      "Current epoch = 4/20 (lr_mult = 0.001000000, loss = 2.194552421569824) done.\n"
     ]
    },
    {
     "name": "stderr",
     "output_type": "stream",
     "text": [
      "  0%|          | 0/81920 [15:03<?, ?sig/s], 56.30sig/s]2sig/s]"
     ]
    },
    {
     "name": "stdout",
     "output_type": "stream",
     "text": [
      "Current epoch = 5/20 (lr_mult = 0.001000000, loss = 2.0135185718536377) done.\n"
     ]
    },
    {
     "name": "stderr",
     "output_type": "stream",
     "text": [
      "  0%|          | 0/81920 [15:16<?, ?sig/s], 56.30sig/s]2sig/s]"
     ]
    },
    {
     "name": "stdout",
     "output_type": "stream",
     "text": [
      "Epoch = 5/20 (lr_mult = 0.001000000, loss = 2.01, accuracy = 20.12, incorrect = 818 done.\n"
     ]
    },
    {
     "name": "stderr",
     "output_type": "stream",
     "text": [
      "  0%|          | 0/81920 [15:25<?, ?sig/s], 56.30sig/s]2sig/s]"
     ]
    },
    {
     "name": "stdout",
     "output_type": "stream",
     "text": [
      "Current epoch = 5/20 (lr_mult = 0.001000000, loss = 2.066833257675171) done.\n"
     ]
    },
    {
     "name": "stderr",
     "output_type": "stream",
     "text": [
      "  0%|          | 0/81920 [16:29<?, ?sig/s], 56.30sig/s]2sig/s]"
     ]
    },
    {
     "name": "stdout",
     "output_type": "stream",
     "text": [
      "Current epoch = 6/20 (lr_mult = 0.001000000, loss = 2.092653751373291) done.\n"
     ]
    },
    {
     "name": "stderr",
     "output_type": "stream",
     "text": [
      "  0%|          | 0/81920 [16:41<?, ?sig/s], 56.30sig/s]2sig/s]"
     ]
    },
    {
     "name": "stdout",
     "output_type": "stream",
     "text": [
      "Epoch = 6/20 (lr_mult = 0.001000000, loss = 2.09, accuracy = 21.39, incorrect = 805 done.\n"
     ]
    },
    {
     "name": "stderr",
     "output_type": "stream",
     "text": [
      "  0%|          | 0/81920 [16:50<?, ?sig/s], 56.30sig/s]2sig/s]"
     ]
    },
    {
     "name": "stdout",
     "output_type": "stream",
     "text": [
      "Current epoch = 6/20 (lr_mult = 0.001000000, loss = 2.0932154655456543) done.\n"
     ]
    },
    {
     "name": "stderr",
     "output_type": "stream",
     "text": [
      "  0%|          | 0/81920 [17:50<?, ?sig/s], 56.30sig/s]2sig/s]"
     ]
    },
    {
     "name": "stdout",
     "output_type": "stream",
     "text": [
      "Current epoch = 7/20 (lr_mult = 0.001000000, loss = 1.886879324913025) done.\n"
     ]
    },
    {
     "name": "stderr",
     "output_type": "stream",
     "text": [
      "  0%|          | 0/81920 [18:07<?, ?sig/s], 56.30sig/s]2sig/s]"
     ]
    },
    {
     "name": "stdout",
     "output_type": "stream",
     "text": [
      "Epoch = 7/20 (lr_mult = 0.001000000, loss = 1.89, accuracy = 21.29, incorrect = 806 done.\n"
     ]
    },
    {
     "name": "stderr",
     "output_type": "stream",
     "text": [
      "  0%|          | 0/81920 [18:16<?, ?sig/s], 56.30sig/s]2sig/s]"
     ]
    },
    {
     "name": "stdout",
     "output_type": "stream",
     "text": [
      "Current epoch = 7/20 (lr_mult = 0.001000000, loss = 2.0532217025756836) done.\n"
     ]
    },
    {
     "name": "stderr",
     "output_type": "stream",
     "text": [
      "  0%|          | 0/81920 [19:15<?, ?sig/s], 56.30sig/s]2sig/s]"
     ]
    },
    {
     "name": "stdout",
     "output_type": "stream",
     "text": [
      "Current epoch = 8/20 (lr_mult = 0.001000000, loss = 2.08137845993042) done.\n"
     ]
    },
    {
     "name": "stderr",
     "output_type": "stream",
     "text": [
      "  0%|          | 0/81920 [19:26<?, ?sig/s], 56.30sig/s]2sig/s]"
     ]
    },
    {
     "name": "stdout",
     "output_type": "stream",
     "text": [
      "Epoch = 8/20 (lr_mult = 0.001000000, loss = 2.08, accuracy = 22.46, incorrect = 794 done.\n"
     ]
    },
    {
     "name": "stderr",
     "output_type": "stream",
     "text": [
      "  0%|          | 0/81920 [19:36<?, ?sig/s], 56.30sig/s]2sig/s]"
     ]
    },
    {
     "name": "stdout",
     "output_type": "stream",
     "text": [
      "Current epoch = 8/20 (lr_mult = 0.001000000, loss = 2.0479912757873535) done.\n"
     ]
    },
    {
     "name": "stderr",
     "output_type": "stream",
     "text": [
      "  0%|          | 0/81920 [20:38<?, ?sig/s], 56.30sig/s]2sig/s]"
     ]
    },
    {
     "name": "stdout",
     "output_type": "stream",
     "text": [
      "Current epoch = 9/20 (lr_mult = 0.001000000, loss = 2.020162582397461) done.\n"
     ]
    },
    {
     "name": "stderr",
     "output_type": "stream",
     "text": [
      "  0%|          | 0/81920 [20:52<?, ?sig/s], 56.30sig/s]2sig/s]"
     ]
    },
    {
     "name": "stdout",
     "output_type": "stream",
     "text": [
      "Epoch = 9/20 (lr_mult = 0.001000000, loss = 2.02, accuracy = 21.09, incorrect = 808 done.\n"
     ]
    },
    {
     "name": "stderr",
     "output_type": "stream",
     "text": [
      "  0%|          | 0/81920 [21:02<?, ?sig/s], 56.30sig/s]2sig/s]"
     ]
    },
    {
     "name": "stdout",
     "output_type": "stream",
     "text": [
      "Current epoch = 9/20 (lr_mult = 0.001000000, loss = 2.052412748336792) done.\n"
     ]
    },
    {
     "name": "stderr",
     "output_type": "stream",
     "text": [
      "  0%|          | 0/81920 [22:03<?, ?sig/s], 56.30sig/s]2sig/s]"
     ]
    },
    {
     "name": "stdout",
     "output_type": "stream",
     "text": [
      "Current epoch = 10/20 (lr_mult = 0.001000000, loss = 1.7996009588241577) done.\n"
     ]
    },
    {
     "name": "stderr",
     "output_type": "stream",
     "text": [
      "  0%|          | 0/81920 [22:17<?, ?sig/s], 56.30sig/s]2sig/s]"
     ]
    },
    {
     "name": "stdout",
     "output_type": "stream",
     "text": [
      "Epoch = 10/20 (lr_mult = 0.001000000, loss = 1.80, accuracy = 23.05, incorrect = 788 done.\n"
     ]
    },
    {
     "name": "stderr",
     "output_type": "stream",
     "text": [
      "  0%|          | 0/81920 [22:26<?, ?sig/s], 56.30sig/s]2sig/s]"
     ]
    },
    {
     "name": "stdout",
     "output_type": "stream",
     "text": [
      "Current epoch = 10/20 (lr_mult = 0.001000000, loss = 2.024196147918701) done.\n"
     ]
    },
    {
     "name": "stderr",
     "output_type": "stream",
     "text": [
      "  0%|          | 0/81920 [23:33<?, ?sig/s], 56.30sig/s]2sig/s]"
     ]
    },
    {
     "name": "stdout",
     "output_type": "stream",
     "text": [
      "Current epoch = 11/20 (lr_mult = 0.000900000, loss = 1.9665948152542114) done.\n"
     ]
    },
    {
     "name": "stderr",
     "output_type": "stream",
     "text": [
      "  0%|          | 0/81920 [23:45<?, ?sig/s], 56.30sig/s]2sig/s]"
     ]
    },
    {
     "name": "stdout",
     "output_type": "stream",
     "text": [
      "Epoch = 11/20 (lr_mult = 0.000900000, loss = 1.97, accuracy = 19.92, incorrect = 820 done.\n"
     ]
    },
    {
     "name": "stderr",
     "output_type": "stream",
     "text": [
      "  0%|          | 0/81920 [23:54<?, ?sig/s], 56.30sig/s]2sig/s]"
     ]
    },
    {
     "name": "stdout",
     "output_type": "stream",
     "text": [
      "Current epoch = 11/20 (lr_mult = 0.000900000, loss = 1.9188499450683594) done.\n"
     ]
    },
    {
     "name": "stderr",
     "output_type": "stream",
     "text": [
      "  0%|          | 0/81920 [25:03<?, ?sig/s], 56.30sig/s]2sig/s]"
     ]
    },
    {
     "name": "stdout",
     "output_type": "stream",
     "text": [
      "Current epoch = 12/20 (lr_mult = 0.000800000, loss = 2.013108730316162) done.\n"
     ]
    },
    {
     "name": "stderr",
     "output_type": "stream",
     "text": [
      "  0%|          | 0/81920 [25:17<?, ?sig/s], 56.30sig/s]2sig/s]"
     ]
    },
    {
     "name": "stdout",
     "output_type": "stream",
     "text": [
      "Epoch = 12/20 (lr_mult = 0.000800000, loss = 2.01, accuracy = 19.92, incorrect = 820 done.\n"
     ]
    },
    {
     "name": "stderr",
     "output_type": "stream",
     "text": [
      "  0%|          | 0/81920 [25:27<?, ?sig/s], 56.30sig/s]2sig/s]"
     ]
    },
    {
     "name": "stdout",
     "output_type": "stream",
     "text": [
      "Current epoch = 12/20 (lr_mult = 0.000800000, loss = 1.8626848459243774) done.\n"
     ]
    },
    {
     "name": "stderr",
     "output_type": "stream",
     "text": [
      "  0%|          | 0/81920 [26:32<?, ?sig/s], 56.30sig/s]2sig/s]"
     ]
    },
    {
     "name": "stdout",
     "output_type": "stream",
     "text": [
      "Current epoch = 13/20 (lr_mult = 0.000700000, loss = 1.926251769065857) done.\n"
     ]
    },
    {
     "name": "stderr",
     "output_type": "stream",
     "text": [
      "  0%|          | 0/81920 [26:49<?, ?sig/s], 56.30sig/s]2sig/s]"
     ]
    },
    {
     "name": "stdout",
     "output_type": "stream",
     "text": [
      "Epoch = 13/20 (lr_mult = 0.000700000, loss = 1.93, accuracy = 21.39, incorrect = 805 done.\n"
     ]
    },
    {
     "name": "stderr",
     "output_type": "stream",
     "text": [
      "  0%|          | 0/81920 [26:59<?, ?sig/s], 56.30sig/s]2sig/s]"
     ]
    },
    {
     "name": "stdout",
     "output_type": "stream",
     "text": [
      "Current epoch = 13/20 (lr_mult = 0.000700000, loss = 2.0558207035064697) done.\n"
     ]
    },
    {
     "name": "stderr",
     "output_type": "stream",
     "text": [
      "  0%|          | 0/81920 [28:03<?, ?sig/s]49, 56.30sig/s]ig/s]"
     ]
    },
    {
     "name": "stdout",
     "output_type": "stream",
     "text": [
      "Current epoch = 14/20 (lr_mult = 0.000600000, loss = 2.0721988677978516) done.\n"
     ]
    },
    {
     "name": "stderr",
     "output_type": "stream",
     "text": [
      "  0%|          | 0/81920 [28:17<?, ?sig/s]49, 56.30sig/s]ig/s]"
     ]
    },
    {
     "name": "stdout",
     "output_type": "stream",
     "text": [
      "Epoch = 14/20 (lr_mult = 0.000600000, loss = 2.07, accuracy = 23.93, incorrect = 779 done.\n"
     ]
    },
    {
     "name": "stderr",
     "output_type": "stream",
     "text": [
      "  0%|          | 0/81920 [28:26<?, ?sig/s]49, 56.30sig/s]ig/s]"
     ]
    },
    {
     "name": "stdout",
     "output_type": "stream",
     "text": [
      "Current epoch = 14/20 (lr_mult = 0.000600000, loss = 1.987619161605835) done.\n"
     ]
    },
    {
     "name": "stderr",
     "output_type": "stream",
     "text": [
      "  0%|          | 0/81920 [29:31<?, ?sig/s]49, 56.30sig/s]ig/s]"
     ]
    },
    {
     "name": "stdout",
     "output_type": "stream",
     "text": [
      "Current epoch = 15/20 (lr_mult = 0.000500000, loss = 2.0007917881011963) done.\n"
     ]
    },
    {
     "name": "stderr",
     "output_type": "stream",
     "text": [
      "  0%|          | 0/81920 [29:46<?, ?sig/s]49, 56.30sig/s]ig/s]"
     ]
    },
    {
     "name": "stdout",
     "output_type": "stream",
     "text": [
      "Epoch = 15/20 (lr_mult = 0.000500000, loss = 2.00, accuracy = 27.44, incorrect = 743 done.\n"
     ]
    },
    {
     "name": "stderr",
     "output_type": "stream",
     "text": [
      "  0%|          | 0/81920 [29:55<?, ?sig/s]49, 56.30sig/s]ig/s]"
     ]
    },
    {
     "name": "stdout",
     "output_type": "stream",
     "text": [
      "Current epoch = 15/20 (lr_mult = 0.000500000, loss = 1.9080508947372437) done.\n"
     ]
    },
    {
     "name": "stderr",
     "output_type": "stream",
     "text": [
      "  0%|          | 0/81920 [30:53<?, ?sig/s]49, 56.30sig/s]ig/s]"
     ]
    },
    {
     "name": "stdout",
     "output_type": "stream",
     "text": [
      "Current epoch = 16/20 (lr_mult = 0.000400000, loss = 1.8984897136688232) done.\n"
     ]
    },
    {
     "name": "stderr",
     "output_type": "stream",
     "text": [
      "  0%|          | 0/81920 [31:05<?, ?sig/s]49, 56.30sig/s]ig/s]"
     ]
    },
    {
     "name": "stdout",
     "output_type": "stream",
     "text": [
      "Epoch = 16/20 (lr_mult = 0.000400000, loss = 1.90, accuracy = 25.00, incorrect = 768 done.\n"
     ]
    },
    {
     "name": "stderr",
     "output_type": "stream",
     "text": [
      "  0%|          | 0/81920 [31:14<?, ?sig/s]49, 56.30sig/s]ig/s]"
     ]
    },
    {
     "name": "stdout",
     "output_type": "stream",
     "text": [
      "Current epoch = 16/20 (lr_mult = 0.000400000, loss = 1.7692502737045288) done.\n"
     ]
    },
    {
     "name": "stderr",
     "output_type": "stream",
     "text": [
      "  0%|          | 0/81920 [32:12<?, ?sig/s]49, 56.30sig/s]ig/s]"
     ]
    },
    {
     "name": "stdout",
     "output_type": "stream",
     "text": [
      "Current epoch = 17/20 (lr_mult = 0.000300000, loss = 2.013735771179199) done.\n"
     ]
    },
    {
     "name": "stderr",
     "output_type": "stream",
     "text": [
      "  0%|          | 0/81920 [32:25<?, ?sig/s]49, 56.30sig/s]ig/s]"
     ]
    },
    {
     "name": "stdout",
     "output_type": "stream",
     "text": [
      "Epoch = 17/20 (lr_mult = 0.000300000, loss = 2.01, accuracy = 25.29, incorrect = 765 done.\n"
     ]
    },
    {
     "name": "stderr",
     "output_type": "stream",
     "text": [
      "  0%|          | 0/81920 [32:34<?, ?sig/s]49, 56.30sig/s]ig/s]"
     ]
    },
    {
     "name": "stdout",
     "output_type": "stream",
     "text": [
      "Current epoch = 17/20 (lr_mult = 0.000300000, loss = 1.9139249324798584) done.\n"
     ]
    },
    {
     "name": "stderr",
     "output_type": "stream",
     "text": [
      "  0%|          | 0/81920 [33:41<?, ?sig/s]49, 56.30sig/s]ig/s]"
     ]
    },
    {
     "name": "stdout",
     "output_type": "stream",
     "text": [
      "Current epoch = 18/20 (lr_mult = 0.000200000, loss = 1.8887553215026855) done.\n"
     ]
    },
    {
     "name": "stderr",
     "output_type": "stream",
     "text": [
      "  0%|          | 0/81920 [33:54<?, ?sig/s]49, 56.30sig/s]ig/s]"
     ]
    },
    {
     "name": "stdout",
     "output_type": "stream",
     "text": [
      "Epoch = 18/20 (lr_mult = 0.000200000, loss = 1.89, accuracy = 26.27, incorrect = 755 done.\n"
     ]
    },
    {
     "name": "stderr",
     "output_type": "stream",
     "text": [
      "  0%|          | 0/81920 [34:03<?, ?sig/s]49, 56.30sig/s]ig/s]"
     ]
    },
    {
     "name": "stdout",
     "output_type": "stream",
     "text": [
      "Current epoch = 18/20 (lr_mult = 0.000200000, loss = 1.8612724542617798) done.\n"
     ]
    },
    {
     "name": "stderr",
     "output_type": "stream",
     "text": [
      "  0%|          | 0/81920 [35:14<?, ?sig/s]49, 56.30sig/s]ig/s]"
     ]
    },
    {
     "name": "stdout",
     "output_type": "stream",
     "text": [
      "Current epoch = 19/20 (lr_mult = 0.000100000, loss = 1.8229283094406128) done.\n"
     ]
    },
    {
     "name": "stderr",
     "output_type": "stream",
     "text": [
      "  0%|          | 0/81920 [35:27<?, ?sig/s]49, 56.30sig/s]ig/s]"
     ]
    },
    {
     "name": "stdout",
     "output_type": "stream",
     "text": [
      "Epoch = 19/20 (lr_mult = 0.000100000, loss = 1.82, accuracy = 28.52, incorrect = 732 done.\n"
     ]
    },
    {
     "name": "stderr",
     "output_type": "stream",
     "text": [
      "  0%|          | 0/81920 [35:35<?, ?sig/s]49, 56.30sig/s]ig/s]"
     ]
    },
    {
     "name": "stdout",
     "output_type": "stream",
     "text": [
      "Current epoch = 19/20 (lr_mult = 0.000100000, loss = 1.79054594039917) done.\n"
     ]
    },
    {
     "name": "stderr",
     "output_type": "stream",
     "text": [
      "  0%|          | 0/81920 [36:33<?, ?sig/s]49, 56.30sig/s]ig/s]"
     ]
    },
    {
     "name": "stdout",
     "output_type": "stream",
     "text": [
      "Current epoch = 20/20 (lr_mult = 0.000000000, loss = 1.7569247484207153) done.\n"
     ]
    },
    {
     "name": "stderr",
     "output_type": "stream",
     "text": [
      "  0%|          | 0/81920 [36:46<?, ?sig/s]49, 56.30sig/s]ig/s]"
     ]
    },
    {
     "name": "stdout",
     "output_type": "stream",
     "text": [
      "Epoch = 20/20 (lr_mult = 0.000000000, loss = 1.76, accuracy = 31.15, incorrect = 705 done.\n"
     ]
    },
    {
     "name": "stderr",
     "output_type": "stream",
     "text": [
      "  0%|          | 0/81920 [36:55<?, ?sig/s]49, 56.30sig/s]ig/s]"
     ]
    },
    {
     "name": "stdout",
     "output_type": "stream",
     "text": [
      "Current epoch = 20/20 (lr_mult = 0.000000000, loss = 1.914027214050293) done.\n"
     ]
    },
    {
     "name": "stderr",
     "output_type": "stream",
     "text": [
      "100%|██████████| 81920/81920 [28:51<00:00, 47.31sig/s] "
     ]
    },
    {
     "name": "stdout",
     "output_type": "stream",
     "text": [
      "Execution time: 1731.5753917750008\n"
     ]
    },
    {
     "name": "stderr",
     "output_type": "stream",
     "text": [
      "\n"
     ]
    }
   ],
   "source": [
    "\n",
    "batch_size = 64\n",
    "# num_batches = int(1572864/batch_size)\n",
    "num_batches = int(4096/batch_size)\n",
    "\n",
    "num_epochs = 20\n",
    "\n",
    "radio_model = CNN(epsilon=1e-8, name=\"CNN\")\n",
    "radio_opt = CNNOptimizer(name=\"Optimizer\", cnn=radio_model, lr=0.001, \\\n",
    "                         num_epochs=num_epochs, decay_lr_start_epoch=10, decay_lr=True)\n",
    "\n",
    "t = tqdm(range(num_batches * num_epochs),\n",
    "               unit='sig', unit_scale=batch_size, position=0)\n",
    "\n",
    "\n",
    "radio_data_train = tf.data.Dataset.from_generator(radioML(hdf5_path, 1, True), \n",
    "                output_types=(tf.float32, tf.int32),\n",
    "                output_shapes=(tf.TensorShape([1, 1024, 2]), tf.TensorShape([1, 24]))) #2555904, 1024, 2]\n",
    "\n",
    "radio_data_test = tf.data.Dataset.from_generator(radioML(hdf5_path, 1, False), \n",
    "                output_types=(tf.float32, tf.int32),\n",
    "                output_shapes=(tf.TensorShape([1, 1024, 2]), tf.TensorShape([1, 24]))) #2555904, 1024, 2]\n",
    "\n",
    "loss = 0\n",
    "\n",
    "radio_data_train = radio_data_train.take(batch_size*num_batches)\n",
    "radio_data_train = radio_data_train.map(radioML_map)\n",
    "radio_data_train = radio_data_train.shuffle(buffer_size=batch_size*num_batches)\n",
    "radio_data_train = radio_data_train.batch(batch_size)\n",
    "radio_data_train = radio_data_train.prefetch(tf.data.experimental.AUTOTUNE)\n",
    "radio_data_train = radio_data_train.repeat(num_epochs)\n",
    "radio_data_train = radio_data_train.cache()\n",
    "\n",
    "test = radio_data_test.take(1024)\n",
    "test = test.map(radioML_map)\n",
    "test = test.batch(batch_size)\n",
    "\n",
    "\n",
    "# step = tf.function(radio_opt.step)\n",
    "print_every = int(num_batches/2)\n",
    "\n",
    "start_time = time.perf_counter()\n",
    "for step_num,(batch, labels) in enumerate(radio_data_train):      \n",
    "    epoch = tf.constant(1+int(step_num / (num_batches)))\n",
    "    loss = radio_opt.step(batch, labels, epoch, step_num)\n",
    "    \n",
    "    if NOTEBOOK != 'kaggle':\n",
    "        with writer.as_default():\n",
    "            tf.summary.scalar('training loss', loss, step=step_num)            \n",
    "        \n",
    "    t.update(1)    \n",
    "    if step_num % print_every == 0:                \n",
    "        t.write('Current epoch = {}/{} (lr_mult = {:0.09f}, loss = {}) done.'.format(\n",
    "            epoch.numpy(), num_epochs, radio_opt.lr.numpy(), loss.numpy()))  \n",
    "        \n",
    "    if step_num % num_batches == 0: \n",
    "        accuracy, total, correct = tf.constant(0), tf.constant(0), tf.constant(0)\n",
    "        for (batch, labels) in test:            \n",
    "            logits = tf.nn.softmax(radio_opt.cnn(batch, is_training=False))\n",
    "            preds = tf.argmax(logits, axis=1, output_type=tf.int32)  \n",
    "            labels = tf.argmax(labels, axis=1, output_type=tf.int32)\n",
    "            correct += tf.math.count_nonzero(tf.equal(preds, labels), dtype=tf.int32)\n",
    "            total += tf.shape(labels)[0]            \n",
    "        accuracy = (correct / tf.cast(total, tf.int32)) * 100. \n",
    "        if NOTEBOOK != 'kaggle':\n",
    "            with writer.as_default():\n",
    "                tf.summary.scalar('Accuracy', accuracy, step=epoch.numpy())   \n",
    "                tf.summary.scalar('learning rate', radio_opt.lr, step=step_num)    \n",
    "        t.write('Epoch = {}/{} (lr_mult = {:0.09f}, loss = {:0.02f}, accuracy = {:0.02f}, incorrect = {} done.'.format(\n",
    "            epoch.numpy(), num_epochs, radio_opt.lr.numpy(), loss.numpy(), accuracy, total - correct))  \n",
    "                 \n",
    "print(\"Execution time:\", time.perf_counter() - start_time)   \n",
    "t.close()\n",
    "   "
   ]
  },
  {
   "cell_type": "code",
   "execution_count": null,
   "metadata": {},
   "outputs": [],
   "source": [
    "radio_data_test = tf.data.Dataset.from_generator(radioML(hdf5_path, 1, False), \n",
    "                output_types=(tf.float32, tf.int32),\n",
    "                output_shapes=(tf.TensorShape([1, 1024, 2]), tf.TensorShape([1, 24]))) #2555904, 1024, 2]\n",
    "test = radio_data_test.take(1024)\n",
    "test = test.map(radioML_map)\n",
    "test = test.batch(batch_size)\n",
    "for (batch, labels) in test:\n",
    "    preds = tf.argmax(radio_opt.cnn(batch), output_type=tf.int32)\n",
    "    correct += tf.math.count_nonzero(tf.equal(preds, labels), dtype=tf.int32)\n",
    "    total += tf.shape(labels)[0]\n",
    "accuracy = (correct / tf.cast(total, tf.int32)) * 100.   \n",
    "print(\"Final accuracy:\", accuracy)"
   ]
  },
  {
   "cell_type": "code",
   "execution_count": null,
   "metadata": {},
   "outputs": [],
   "source": [
    "tf.math.is_nan(loss_history)\n",
    "loss_history = loss_history\n",
    "fig2 = plt.figure()\n",
    "plt.plot(loss_history)\n",
    "plt.xlabel('Batch #')\n",
    "plt.ylabel('Loss [entropy]')\n",
    "plt.show()\n",
    "loss_history"
   ]
  },
  {
   "cell_type": "code",
   "execution_count": 16,
   "metadata": {},
   "outputs": [
    {
     "name": "stdout",
     "output_type": "stream",
     "text": [
      "| Variable                  | Spec          | Trainable   | Device   |\n",
      "|---------------------------+---------------+-------------+----------|\n",
      "| CNN/conv0/conv_max_pool/w | f32[64,64,64] | True        | GPU      |\n",
      "| CNN/conv0/conv_max_pool/b | f32[64]       | True        | GPU      |\n",
      "| CNN/conv1/conv_max_pool/w | f32[64,64,64] | True        | GPU      |\n",
      "| CNN/conv1/conv_max_pool/b | f32[64]       | True        | GPU      |\n",
      "| CNN/conv2/conv_max_pool/w | f32[64,64,64] | True        | GPU      |\n",
      "| CNN/conv2/conv_max_pool/b | f32[64]       | True        | GPU      |\n",
      "| CNN/conv3/conv_max_pool/w | f32[64,64,64] | True        | GPU      |\n",
      "| CNN/conv3/conv_max_pool/b | f32[64]       | True        | GPU      |\n",
      "| CNN/conv4/conv_max_pool/w | f32[64,64,64] | True        | GPU      |\n",
      "| CNN/conv4/conv_max_pool/b | f32[64]       | True        | GPU      |\n",
      "| CNN/conv5/conv_max_pool/w | f32[64,64,64] | True        | GPU      |\n",
      "| CNN/conv5/conv_max_pool/b | f32[64]       | True        | GPU      |\n",
      "| CNN/conv_input/w          | f32[2,2,64]   | True        | GPU      |\n",
      "| CNN/conv_input/b          | f32[64]       | True        | GPU      |\n",
      "| CNN/linear/w              | f32[512,128]  | True        | GPU      |\n",
      "| CNN/linear/w              | f32[128,128]  | True        | GPU      |\n",
      "| CNN/linear/w              | f32[128,24]   | True        | GPU      |\n",
      "| CNN/linear/b              | f32[128]      | True        | GPU      |\n",
      "| CNN/linear/b              | f32[128]      | True        | GPU      |\n",
      "| CNN/linear/b              | f32[24]       | True        | GPU      |\n"
     ]
    }
   ],
   "source": [
    "print(snt.format_variables(radio_model.variables))"
   ]
  }
 ],
 "metadata": {
  "accelerator": "GPU",
  "colab": {
   "authorship_tag": "ABX9TyMY5mQBDXgj2X9YLAbDo2fr",
   "collapsed_sections": [],
   "include_colab_link": true,
   "name": "Copy of tf_simple.ipynb",
   "provenance": []
  },
  "kernelspec": {
   "display_name": "Python 3",
   "language": "python",
   "name": "python3"
  },
  "language_info": {
   "codemirror_mode": {
    "name": "ipython",
    "version": 3
   },
   "file_extension": ".py",
   "mimetype": "text/x-python",
   "name": "python",
   "nbconvert_exporter": "python",
   "pygments_lexer": "ipython3",
   "version": "3.7.3"
  }
 },
 "nbformat": 4,
 "nbformat_minor": 4
}
