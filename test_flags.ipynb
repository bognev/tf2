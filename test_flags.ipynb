{
 "cells": [
  {
   "cell_type": "code",
   "execution_count": null,
   "metadata": {},
   "outputs": [],
   "source": []
  },
  {
   "cell_type": "code",
   "execution_count": null,
   "metadata": {},
   "outputs": [],
   "source": [
    "def del_all_flags(FLAGS):\n",
    "    flags_dict = FLAGS.__flags\n",
    "    keys_list = [keys for keys in flags_dict]\n",
    "    for name in list(flags.FLAGS):\n",
    "        delattr(flags.FLAGS, name)\n",
    "\n",
    "FIRST = False\n"
   ]
  },
  {
   "cell_type": "code",
   "execution_count": null,
   "metadata": {},
   "outputs": [],
   "source": [
    "if FIRST:\n",
    "    del_all_flags(FLAGS)\n",
    "FIRST = True\n",
    "\n",
    "\n",
    "flags.DEFINE_string('f', '', 'kernel')\n",
    "flags.DEFINE_string('name', 'JanZe Random', 'Your name.')\n",
    "flags.DEFINE_integer('age', None, 'Your age in years.', lower_bound=0)\n",
    "flags.DEFINE_boolean('debug', True, 'Produces debugging output.')\n",
    "flags.DEFINE_enum('job', 'running', ['running', 'stopped'], 'Job status.')\n",
    "flags.DEFINE_string(\n",
    "    'mode', 'recons', 'Model mode.')\n",
    "flags.DEFINE_integer(\n",
    "    'num_training_iterations', 10000000,\n",
    "    'Number of training iterations.')\n",
    "flags.DEFINE_integer(\n",
    "    'batch_size', 64, 'Training batch size.')\n",
    "flags.DEFINE_integer(\n",
    "    'num_measurements', 25, 'The number of measurements')\n",
    "flags.DEFINE_integer(\n",
    "    'num_latents', 100, 'The number of latents')\n",
    "flags.DEFINE_integer(\n",
    "    'num_z_iters', 3, 'The number of latent optimisation steps.')\n",
    "flags.DEFINE_float(\n",
    "    'z_step_size', 0.01, 'Step size for latent optimisation.')\n",
    "flags.DEFINE_string(\n",
    "    'z_project_method', 'norm', 'The method to project z.')\n",
    "flags.DEFINE_integer(\n",
    "    'summary_every_step', 10,\n",
    "    'The interval at which to log debug ops.')\n",
    "flags.DEFINE_integer(\n",
    "    'export_every', 10,\n",
    "    'The interval at which to export samples.')\n",
    "flags.DEFINE_string(\n",
    "    'dataset', 'mnist', 'The dataset used for learning (cifar|mnist.')\n",
    "flags.DEFINE_float('learning_rate', 1e-4, 'Learning rate.')\n",
    "flags.DEFINE_string(\n",
    "    'output_dir', '/tmp/cs_gan/cs', 'Location where to save output files.')\n",
    "\n",
    "FLAGS = flags.FLAGS\n",
    "\n",
    "def main(argv):\n",
    "    print(\"asdda\")\n",
    "    if FLAGS.debug:\n",
    "        print('non-flag arguments:', argv)\n",
    "    print('Happy Birthday', FLAGS.name)\n",
    "    if FLAGS.age is not None:\n",
    "        print('You are %d years old, and your job is %s' % (FLAGS.age, FLAGS.job))\n",
    "    print(FLAGS.output_dir)\n",
    "    \n",
    "    \n",
    "def run(main=None, argv=None):\n",
    "  args = argv[1:] if argv else None\n",
    "  flags_passthrough = app.parse_flags_with_usage(args=args)\n",
    "  main = main or sys.modules['__main__'].main\n",
    "  main(sys.argv[:1] + flags_passthrough)\n",
    "\n",
    "\n",
    "\n",
    "run(main, ['some', 'argument', 'list',])"
   ]
  },
  {
   "cell_type": "code",
   "execution_count": null,
   "metadata": {},
   "outputs": [],
   "source": [
    "FIRST"
   ]
  },
  {
   "cell_type": "code",
   "execution_count": null,
   "metadata": {},
   "outputs": [],
   "source": [
    "main(\"\")"
   ]
  },
  {
   "cell_type": "code",
   "execution_count": null,
   "metadata": {},
   "outputs": [],
   "source": []
  },
  {
   "cell_type": "code",
   "execution_count": null,
   "metadata": {},
   "outputs": [],
   "source": [
    "from absl import app\n",
    "from absl import flags\n",
    "\n",
    "FLAGS = flags.FLAGS\n",
    "\n",
    "flags.DEFINE_string('name', 'Jane Random', 'Your name.')\n",
    "\n",
    "def main(argv):\n",
    "  if FLAGS.debug:\n",
    "    print('non-flag arguments:', argv)\n",
    "  print('Happy, ', FLAGS.name)\n",
    "\n",
    "\n",
    "# if __name__ == '__main__':\n",
    "main()\n"
   ]
  }
 ],
 "metadata": {
  "kernelspec": {
   "display_name": "Python 3",
   "language": "python",
   "name": "python3"
  },
  "language_info": {
   "codemirror_mode": {
    "name": "ipython",
    "version": 3
   },
   "file_extension": ".py",
   "mimetype": "text/x-python",
   "name": "python",
   "nbconvert_exporter": "python",
   "pygments_lexer": "ipython3",
   "version": "3.7.3"
  }
 },
 "nbformat": 4,
 "nbformat_minor": 4
}
