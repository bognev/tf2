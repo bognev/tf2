{
 "cells": [
  {
   "cell_type": "code",
   "execution_count": 2,
   "metadata": {
    "colab": {},
    "colab_type": "code",
    "id": "B7G55GTG4y10"
   },
   "outputs": [
    {
     "name": "stdout",
     "output_type": "stream",
     "text": [
      "home\n"
     ]
    }
   ],
   "source": [
    "try:\n",
    "    from google.colab import drive\n",
    "    NOTEBOOK = 'colab'\n",
    "except:\n",
    "    import os    \n",
    "    if list(os.walk('/kaggle/input')):            \n",
    "        NOTEBOOK = 'kaggle'\n",
    "    else:\n",
    "        NOTEBOOK = 'home'\n",
    "        \n",
    "if NOTEBOOK == 'colab':\n",
    "    drive.mount(\"/content/gdrive\", force_remount=True)\n",
    "\n",
    "import tensorflow as tf\n",
    "# tf.debugging.set_log_device_placement(True)\n",
    "# tf.config.set_visible_devices([], 'GPU') \n",
    "# tf.executing_eagerly() \n",
    "\n",
    "print(NOTEBOOK)\n",
    "\n",
    "\n"
   ]
  },
  {
   "cell_type": "code",
   "execution_count": 3,
   "metadata": {},
   "outputs": [
    {
     "name": "stdout",
     "output_type": "stream",
     "text": [
      "/media/bognev/CE50072F50071DB9/2018.01/GOLD_XYZ_OSC.0001_1024.hdf5\n"
     ]
    }
   ],
   "source": [
    "if NOTEBOOK == 'colab':\n",
    "    !pip install -q dm-sonnet\n",
    "    !pip install -q gdown\n",
    "    import gdown    \n",
    "#     url = 'https://drive.google.com/uc?id=1Si-Fz-38xITBOvYOoPTn_xLtOHVwqFQO'\n",
    "    url = 'https://drive.google.com/uc?id=1rMDDybiyw6bLOdVOL_SY-RoQdocRRNzl'\n",
    "    output = 'GOLD_XYZ.hdf5'\n",
    "    gdown.download(url, output, quiet=False)\n",
    "    !df -h\n",
    "    !ls -l\n",
    "    !grep Model: /proc/driver/nvidia/gpus/*/information | awk '{$1=\"\";print$0}'\n",
    "    hdf5_path = '/content/'+output\n",
    "elif NOTEBOOK == 'kaggle':\n",
    "    !pip install -q dm-sonnet\n",
    "    import os\n",
    "    for dirname, _, filenames in os.walk('/kaggle/input'):\n",
    "        for filename in filenames:\n",
    "            hdf5_path = os.path.join(dirname, filename)\n",
    "else:          \n",
    "    hdf5_path = '/media/bognev/CE50072F50071DB9/2018.01/GOLD_XYZ_OSC.0001_1024.hdf5'\n",
    "print(hdf5_path)\n"
   ]
  },
  {
   "cell_type": "code",
   "execution_count": 4,
   "metadata": {
    "colab": {
     "base_uri": "https://localhost:8080/",
     "height": 52
    },
    "colab_type": "code",
    "id": "Lnmy6-UI6QG3",
    "outputId": "4bf0d8dc-a13a-45a6-b5d9-a6ce5034bd0a"
   },
   "outputs": [
    {
     "name": "stdout",
     "output_type": "stream",
     "text": [
      "TensorFlow version: 2.1.0\n",
      "    Sonnet version: 2.0.0\n",
      "    Numpy  version: 1.18.2\n",
      "TensorBoard version: 2.2.0\n"
     ]
    }
   ],
   "source": [
    "# import tensorflow as tf\n",
    "# tf.debugging.set_log_device_placement(True)\n",
    "# import h5py\n",
    "import numpy as np\n",
    "import matplotlib.pyplot as plt\n",
    "import random\n",
    "import tqdm\n",
    "import time\n",
    "import h5py\n",
    "import sonnet as snt\n",
    "from tqdm import tqdm\n",
    "\n",
    "print(\"TensorFlow version: {}\".format(tf.__version__))\n",
    "print(\"    Sonnet version: {}\".format(snt.__version__))\n",
    "print(\"    Numpy  version: {}\".format(np.__version__))\n",
    "from tensorboard import version; print(\"TensorBoard version: {}\".format(version.VERSION))\n",
    "# tf.config.list_physical_devices('GPU')"
   ]
  },
  {
   "cell_type": "code",
   "execution_count": 5,
   "metadata": {
    "colab": {},
    "colab_type": "code",
    "id": "aqPYo6YU6QpC"
   },
   "outputs": [],
   "source": [
    "class ConvMaxPool(snt.Module):\n",
    "    def __init__(self, name=None):\n",
    "        super(ConvMaxPool, self).__init__(name=name)\n",
    "        self.conv = snt.Conv1D(output_channels=64, kernel_shape=64, stride=1, rate=1,\n",
    "                               padding=\"SAME\", with_bias=True,\n",
    "                               data_format=\"NWC\", name=\"conv_max_pool\"\n",
    "                               )\n",
    "\n",
    "    def __call__(self, inputs):\n",
    "        features = self.conv(inputs)\n",
    "        outputs = tf.nn.max_pool1d(features, ksize=2, strides=2, padding=\"VALID\", \n",
    "                                   data_format='NWC', name=\"pool\") #64×1024\n",
    "        return outputs\n",
    "\n",
    "\n",
    "class CNN(snt.Module):\n",
    "    def __init__(self, epsilon, name=None):\n",
    "        super(CNN, self).__init__(name=name)\n",
    "        self.layers = [\n",
    "            ConvMaxPool(name=\"conv\"+str(ii))\n",
    "            for ii in range(6)\n",
    "        ]\n",
    "        self.conv_in = snt.Conv1D(output_channels=64, kernel_shape=2, stride=1, rate=1,\n",
    "                       padding=\"SAME\", with_bias=True,\n",
    "                       data_format=\"NWC\", name=\"conv_input\"\n",
    "                       )\n",
    "\n",
    "        self.linear = snt.Linear(output_size=128, with_bias=True)\n",
    "        self.linear1 = snt.Linear(output_size=128, with_bias=True)\n",
    "        self.linear2 = snt.Linear(output_size=24, with_bias=True)                \n",
    "        \n",
    "        self.alpha = tf.keras.layers.AlphaDropout(rate=0.5, noise_shape=None, seed=100)\n",
    "\n",
    "    @tf.function\n",
    "    def __call__(self, inputs, is_training=False):\n",
    "        features = self.conv_in(inputs) #2×1024\n",
    "        features = tf.nn.max_pool1d(features, ksize=2, strides=2, padding=\"VALID\", \n",
    "                                    data_format='NWC', name=\"pool_input\") \n",
    "#         print(features)\n",
    "        for layer in self.layers:\n",
    "            features = layer(features)    \n",
    "        features = snt.flatten(features)\n",
    "\n",
    "        features = self.linear(features)\n",
    "        features = self.alpha(tf.nn.selu(features), training=is_training)\n",
    "        features = self.linear1(features)\n",
    "        features = self.alpha(tf.nn.selu(features), training=is_training)\n",
    "\n",
    "        output = self.linear2(features)        \n",
    "#         output = tf.nn.softmax(features)\n",
    "        return output\n"
   ]
  },
  {
   "cell_type": "code",
   "execution_count": 82,
   "metadata": {},
   "outputs": [],
   "source": [
    "class CNNOptimizer(snt.Module):\n",
    "    def __init__(self, name, cnn, lr=1e-3, num_epochs=100, decay_lr_start_epoch=10, decay_lr=False):\n",
    "        super(CNNOptimizer, self).__init__(name=name)\n",
    "        self.cnn = cnn\n",
    "        self.init_lr = lr\n",
    "        self.lr = tf.Variable(lr, trainable=False, name='learning rate', dtype=tf.float32)\n",
    "        self.cnn_opt = snt.optimizers.Adam(learning_rate=self.lr, beta1=0.)\n",
    "        self.decay_lr_start_epoch = tf.constant(decay_lr_start_epoch, dtype=tf.int32)\n",
    "        self.decay_lr = tf.constant(decay_lr, dtype=tf.float32)\n",
    "        self.num_epochs = tf.constant(num_epochs, dtype=tf.int32)\n",
    "\n",
    "    def _gen_lr_mult(self, epoch):\n",
    "          # Linear decay to 0.\n",
    "        decay_epoch = tf.cast(epoch - self.decay_lr_start_epoch, tf.float32)\n",
    "        if decay_epoch < tf.constant(0, dtype=tf.float32):\n",
    "            return tf.constant(1., dtype=tf.float32)\n",
    "        num_decay_epochs = tf.cast(self.num_epochs - self.decay_lr_start_epoch, dtype=tf.float32)\n",
    "        return (num_decay_epochs - decay_epoch) / num_decay_epochs        \n",
    "      \n",
    "    def step(self, batch, labels, epoch, step):\n",
    "        with tf.GradientTape() as tape:\n",
    "            logits = self.cnn(batch, is_training=True)    \n",
    "            loss = tf.nn.softmax_cross_entropy_with_logits(labels=labels, logits=logits)\n",
    "            loss = tf.reduce_mean(loss)\n",
    "        params = self.cnn.trainable_variables\n",
    "        grads = tape.gradient(loss, params)                \n",
    "        lr_mult = self._gen_lr_mult(epoch)\n",
    "        if self.decay_lr:\n",
    "            self.lr.assign(self.init_lr * lr_mult)\n",
    "        self.cnn_opt.apply(grads, params)   \n",
    "        with writer.as_default():\n",
    "            for i,g in enumerate(grads):                \n",
    "                tf.summary.histogram(name=\"Grad_\"+params[i].name, data=g, step=step)                \n",
    "                tf.summary.histogram(name=params[i].name, data=params[i].value(), step=step)                \n",
    "        return loss\n",
    "    \n",
    "\n",
    "\n"
   ]
  },
  {
   "cell_type": "code",
   "execution_count": 53,
   "metadata": {
    "colab": {},
    "colab_type": "code",
    "id": "i1VIhmNnY4ju"
   },
   "outputs": [],
   "source": [
    "class radioML:\n",
    "    def __init__(self, file, batch_size, is_training=False):\n",
    "        self.file = file\n",
    "        self.batch_size = batch_size\n",
    "        self.is_training = is_training\n",
    "\n",
    "    def __call__(self):        \n",
    "        N_r, N_m, N_db = 4096, 24, 13\n",
    "        if NOTEBOOK == 'colab':            \n",
    "            dbs = np.arange(0,32,2)     \n",
    "            db_range = np.arange(0,0+len(dbs))\n",
    "        else:                       \n",
    "            dbs = np.arange(0,32,2)                   \n",
    "            db_range = np.arange(10,10+len(dbs))\n",
    "        data_idxs_train = np.array([])\n",
    "        data_idxs_test = np.array([])\n",
    "        for i in np.arange(N_m):            \n",
    "            for j in db_range:\n",
    "                ids = i*N_r*N_db+j*N_r\n",
    "                idx = np.arange(ids, ids+N_r)                \n",
    "                data_idxs_train = np.append(data_idxs_train, idx[np.arange(int(0.8*N_r))])\n",
    "                data_idxs_test  = np.append(data_idxs_test, idx[np.arange(int(0.8*N_r)+1, N_r)])\n",
    "        with h5py.File(self.file, 'r') as f:\n",
    "            while True:\n",
    "                if self.is_training:\n",
    "                    idxs = np.random.choice(data_idxs_train, self.batch_size)\n",
    "                    yield (f['X'][sorted(idxs)], f['Y'][sorted(idxs)])\n",
    "                else:\n",
    "                    idxs = np.random.choice(data_idxs_test, self.batch_size)\n",
    "                    yield (f['X'][sorted(idxs)], f['Y'][sorted(idxs)])\n",
    "                \n",
    "\n",
    "def radioML_map(data_batch, data_label):\n",
    "#     print(data_batch.shape)\n",
    "    data_batch = tf.reshape(data_batch, [1024, 2])\n",
    "    data_label = tf.reshape(data_label, [24])\n",
    "#     mean = tf.math.reduce_mean(data_batch)\n",
    "#     std = tf.math.reduce_std(data_batch)\n",
    "#     data_batch = (data_batch - mean)/std\n",
    "#     print(std, mean)\n",
    "#     print(type(std))\n",
    "    return (data_batch, data_label)"
   ]
  },
  {
   "cell_type": "code",
   "execution_count": null,
   "metadata": {
    "colab": {
     "base_uri": "https://localhost:8080/",
     "height": 1000
    },
    "colab_type": "code",
    "id": "W2kSsUBk8bOV",
    "outputId": "1f3931f2-7e98-4853-eef6-6adb76f5d2ea"
   },
   "outputs": [],
   "source": [
    "radio_plot = tf.data.Dataset.from_generator(radioML(hdf5_path, 1, False), \n",
    "                output_types=(tf.float32, tf.int32),\n",
    "                output_shapes=(tf.TensorShape([1, 1024, 2]), tf.TensorShape([1, 24]))) #2555904, 1024, 2]\n",
    "\n",
    "radio_plot = radio_plot.take(1)\n",
    "radio_plot = radio_plot.map(radioML_map)\n",
    "for (batch, labels) in radio_plot:    \n",
    "    print(labels.dtype)\n",
    "    fig1 = plt.figure()\n",
    "    plt.plot(batch[:,0])\n",
    "    plt.xlabel('Time #')\n",
    "    plt.ylabel('Signal [random]')\n",
    "    fig2 = plt.figure()\n",
    "    plt.plot(batch[:,1])\n",
    "    plt.xlabel('Time #')\n",
    "    plt.ylabel('Signal [random]')\n",
    "    plt.show()"
   ]
  },
  {
   "cell_type": "code",
   "execution_count": null,
   "metadata": {},
   "outputs": [],
   "source": [
    "# building tensorflow graph\n",
    "\n",
    "# from datetime import datetime as dt\n",
    "# # Clear any logs from previous runs\n",
    "# !rm -rf ./logs/\n",
    "\n",
    "# stamp = dt.now().strftime(\"%Y%m%d-%H%M%S\")\n",
    "# logdir = 'logs/func/%s' % stamp\n",
    "# writer = tf.summary.create_file_writer(logdir)\n",
    "\n",
    "# radio_model = CNN(epsilon=1e-8, name=\"CNN\")\n",
    "# radio_data_test = tf.data.Dataset.from_generator(radioML(hdf5_path, 1, False), \n",
    "#                 output_types=(tf.float32, tf.float32),\n",
    "#                 output_shapes=(tf.TensorShape([1, 1024, 2]), tf.TensorShape([1, 24]))) #2555904, 1024, 2]\n",
    "# radio_data_test = radio_data_test.take(1)\n",
    "# radio_data_test = radio_data_test.map(radioML_map)\n",
    "# radio_data_test = radio_data_test.batch(1)\n",
    "\n",
    "# for i,(batch, labels) in enumerate(radio_data_test):\n",
    "#     tf.summary.trace_on(graph=True, profiler=True)    \n",
    "#     preds = radio_model(batch)\n",
    "#     with writer.as_default():\n",
    "#         tf.summary.trace_export(\n",
    "#             name='tf2_graph',\n",
    "#             step=0,\n",
    "#             profiler_outdir=logdir)\n",
    "# %reload_ext tensorboard\n",
    "# %tensorboard --logdir logs/func     "
   ]
  },
  {
   "cell_type": "code",
   "execution_count": 80,
   "metadata": {},
   "outputs": [
    {
     "data": {
      "text/html": [
       "\n",
       "      <iframe id=\"tensorboard-frame-cd75d7701e535691\" width=\"100%\" height=\"800\" frameborder=\"0\">\n",
       "      </iframe>\n",
       "      <script>\n",
       "        (function() {\n",
       "          const frame = document.getElementById(\"tensorboard-frame-cd75d7701e535691\");\n",
       "          const url = new URL(\"/\", window.location);\n",
       "          url.port = 6006;\n",
       "          frame.src = url;\n",
       "        })();\n",
       "      </script>\n",
       "  "
      ],
      "text/plain": [
       "<IPython.core.display.HTML object>"
      ]
     },
     "metadata": {},
     "output_type": "display_data"
    }
   ],
   "source": [
    "if NOTEBOOK != 'kaggle':\n",
    "    # %load_ext tensorboard\n",
    "    # import os\n",
    "    from datetime import datetime as dt\n",
    "    # Clear any logs from previous runs\n",
    "    !rm -rf ./logs/\n",
    "    log_dir = \"logs/\" + dt.now().strftime(\"%Y%m%d-%H%M%S\")\n",
    "    writer = tf.summary.create_file_writer(log_dir)\n",
    "\n",
    "\n",
    "    %reload_ext tensorboard\n",
    "#     %tensorboard --logdir logs/func     \n",
    "    # writer.set_as_default()\n",
    "    %tensorboard --logdir logs"
   ]
  },
  {
   "cell_type": "code",
   "execution_count": 83,
   "metadata": {},
   "outputs": [
    {
     "name": "stderr",
     "output_type": "stream",
     "text": [
      "  0%|          | 27744/5728640 [14:59<35:30:20, 44.60sig/s]s]"
     ]
    },
    {
     "name": "stdout",
     "output_type": "stream",
     "text": [
      "Current epoch = 1/10 (lr_mult = 0.000100000, loss = 3.528653621673584) done.\n"
     ]
    },
    {
     "name": "stderr",
     "output_type": "stream",
     "text": [
      "  0%|          | 27744/5728640 [15:34<35:30:20, 44.60sig/s]s]"
     ]
    },
    {
     "name": "stdout",
     "output_type": "stream",
     "text": [
      "Epoch = 1/10 (lr_mult = 0.000100000, loss = 3.53, accuracy = 5.37, incorrect = 969 done.\n"
     ]
    },
    {
     "name": "stderr",
     "output_type": "stream",
     "text": [
      "  0%|          | 4800/5728640 [02:41<38:05:37, 41.74sig/s]"
     ]
    },
    {
     "ename": "KeyboardInterrupt",
     "evalue": "",
     "output_type": "error",
     "traceback": [
      "\u001b[0;31m---------------------------------------------------------------------------\u001b[0m",
      "\u001b[0;31mKeyboardInterrupt\u001b[0m                         Traceback (most recent call last)",
      "\u001b[0;32m<ipython-input-83-755cd97dd8ae>\u001b[0m in \u001b[0;36m<module>\u001b[0;34m\u001b[0m\n\u001b[1;32m     41\u001b[0m \u001b[0;32mfor\u001b[0m \u001b[0mstep_num\u001b[0m\u001b[0;34m,\u001b[0m\u001b[0;34m(\u001b[0m\u001b[0mbatch\u001b[0m\u001b[0;34m,\u001b[0m \u001b[0mlabels\u001b[0m\u001b[0;34m)\u001b[0m \u001b[0;32min\u001b[0m \u001b[0menumerate\u001b[0m\u001b[0;34m(\u001b[0m\u001b[0mradio_data_train\u001b[0m\u001b[0;34m)\u001b[0m\u001b[0;34m:\u001b[0m\u001b[0;34m\u001b[0m\u001b[0;34m\u001b[0m\u001b[0m\n\u001b[1;32m     42\u001b[0m     \u001b[0mepoch\u001b[0m \u001b[0;34m=\u001b[0m \u001b[0mtf\u001b[0m\u001b[0;34m.\u001b[0m\u001b[0mconstant\u001b[0m\u001b[0;34m(\u001b[0m\u001b[0;36m1\u001b[0m\u001b[0;34m+\u001b[0m\u001b[0mint\u001b[0m\u001b[0;34m(\u001b[0m\u001b[0mstep_num\u001b[0m \u001b[0;34m/\u001b[0m \u001b[0;34m(\u001b[0m\u001b[0mnum_batches\u001b[0m\u001b[0;34m)\u001b[0m\u001b[0;34m)\u001b[0m\u001b[0;34m)\u001b[0m\u001b[0;34m\u001b[0m\u001b[0;34m\u001b[0m\u001b[0m\n\u001b[0;32m---> 43\u001b[0;31m     \u001b[0mloss\u001b[0m \u001b[0;34m=\u001b[0m \u001b[0mradio_opt\u001b[0m\u001b[0;34m.\u001b[0m\u001b[0mstep\u001b[0m\u001b[0;34m(\u001b[0m\u001b[0mbatch\u001b[0m\u001b[0;34m,\u001b[0m \u001b[0mlabels\u001b[0m\u001b[0;34m,\u001b[0m \u001b[0mepoch\u001b[0m\u001b[0;34m,\u001b[0m \u001b[0mstep_num\u001b[0m\u001b[0;34m)\u001b[0m\u001b[0;34m\u001b[0m\u001b[0;34m\u001b[0m\u001b[0m\n\u001b[0m\u001b[1;32m     44\u001b[0m \u001b[0;34m\u001b[0m\u001b[0m\n\u001b[1;32m     45\u001b[0m     \u001b[0;32mif\u001b[0m \u001b[0mNOTEBOOK\u001b[0m \u001b[0;34m!=\u001b[0m \u001b[0;34m'kaggle'\u001b[0m\u001b[0;34m:\u001b[0m\u001b[0;34m\u001b[0m\u001b[0;34m\u001b[0m\u001b[0m\n",
      "\u001b[0;32m~/anaconda3/lib/python3.7/site-packages/sonnet/src/utils.py\u001b[0m in \u001b[0;36m_decorate_unbound_method\u001b[0;34m(self, *args, **kwargs)\u001b[0m\n\u001b[1;32m     87\u001b[0m       \u001b[0;32mdef\u001b[0m \u001b[0m_decorate_unbound_method\u001b[0m\u001b[0;34m(\u001b[0m\u001b[0mself\u001b[0m\u001b[0;34m,\u001b[0m \u001b[0;34m*\u001b[0m\u001b[0margs\u001b[0m\u001b[0;34m,\u001b[0m \u001b[0;34m**\u001b[0m\u001b[0mkwargs\u001b[0m\u001b[0;34m)\u001b[0m\u001b[0;34m:\u001b[0m\u001b[0;34m\u001b[0m\u001b[0;34m\u001b[0m\u001b[0m\n\u001b[1;32m     88\u001b[0m         \u001b[0mbound_method\u001b[0m \u001b[0;34m=\u001b[0m \u001b[0mf\u001b[0m\u001b[0;34m.\u001b[0m\u001b[0m__get__\u001b[0m\u001b[0;34m(\u001b[0m\u001b[0mself\u001b[0m\u001b[0;34m,\u001b[0m \u001b[0mself\u001b[0m\u001b[0;34m.\u001b[0m\u001b[0m__class__\u001b[0m\u001b[0;34m)\u001b[0m  \u001b[0;31m# pytype: disable=attribute-error\u001b[0m\u001b[0;34m\u001b[0m\u001b[0;34m\u001b[0m\u001b[0m\n\u001b[0;32m---> 89\u001b[0;31m         \u001b[0;32mreturn\u001b[0m \u001b[0mdecorator_fn\u001b[0m\u001b[0;34m(\u001b[0m\u001b[0mbound_method\u001b[0m\u001b[0;34m,\u001b[0m \u001b[0mself\u001b[0m\u001b[0;34m,\u001b[0m \u001b[0margs\u001b[0m\u001b[0;34m,\u001b[0m \u001b[0mkwargs\u001b[0m\u001b[0;34m)\u001b[0m\u001b[0;34m\u001b[0m\u001b[0;34m\u001b[0m\u001b[0m\n\u001b[0m\u001b[1;32m     90\u001b[0m \u001b[0;34m\u001b[0m\u001b[0m\n\u001b[1;32m     91\u001b[0m       \u001b[0;32mreturn\u001b[0m \u001b[0m_decorate_unbound_method\u001b[0m\u001b[0;34m\u001b[0m\u001b[0;34m\u001b[0m\u001b[0m\n",
      "\u001b[0;32m~/anaconda3/lib/python3.7/site-packages/sonnet/src/base.py\u001b[0m in \u001b[0;36mwrap_with_name_scope\u001b[0;34m(method, instance, args, kwargs)\u001b[0m\n\u001b[1;32m    270\u001b[0m     \u001b[0;31m# snt.Module enters the module name scope for all methods. To disable this\u001b[0m\u001b[0;34m\u001b[0m\u001b[0;34m\u001b[0m\u001b[0;34m\u001b[0m\u001b[0m\n\u001b[1;32m    271\u001b[0m     \u001b[0;31m# for a particular method annotate it with `@snt.no_name_scope`.\u001b[0m\u001b[0;34m\u001b[0m\u001b[0;34m\u001b[0m\u001b[0;34m\u001b[0m\u001b[0m\n\u001b[0;32m--> 272\u001b[0;31m     \u001b[0;32mreturn\u001b[0m \u001b[0mmethod\u001b[0m\u001b[0;34m(\u001b[0m\u001b[0;34m*\u001b[0m\u001b[0margs\u001b[0m\u001b[0;34m,\u001b[0m \u001b[0;34m**\u001b[0m\u001b[0mkwargs\u001b[0m\u001b[0;34m)\u001b[0m\u001b[0;34m\u001b[0m\u001b[0;34m\u001b[0m\u001b[0m\n\u001b[0m\u001b[1;32m    273\u001b[0m \u001b[0;34m\u001b[0m\u001b[0m\n\u001b[1;32m    274\u001b[0m \u001b[0;34m\u001b[0m\u001b[0m\n",
      "\u001b[0;32m<ipython-input-82-d8babc38c477>\u001b[0m in \u001b[0;36mstep\u001b[0;34m(self, batch, labels, epoch, step)\u001b[0m\n\u001b[1;32m     31\u001b[0m         \u001b[0;32mwith\u001b[0m \u001b[0mwriter\u001b[0m\u001b[0;34m.\u001b[0m\u001b[0mas_default\u001b[0m\u001b[0;34m(\u001b[0m\u001b[0;34m)\u001b[0m\u001b[0;34m:\u001b[0m\u001b[0;34m\u001b[0m\u001b[0;34m\u001b[0m\u001b[0m\n\u001b[1;32m     32\u001b[0m             \u001b[0;32mfor\u001b[0m \u001b[0mi\u001b[0m\u001b[0;34m,\u001b[0m\u001b[0mg\u001b[0m \u001b[0;32min\u001b[0m \u001b[0menumerate\u001b[0m\u001b[0;34m(\u001b[0m\u001b[0mgrads\u001b[0m\u001b[0;34m)\u001b[0m\u001b[0;34m:\u001b[0m\u001b[0;34m\u001b[0m\u001b[0;34m\u001b[0m\u001b[0m\n\u001b[0;32m---> 33\u001b[0;31m                 \u001b[0mtf\u001b[0m\u001b[0;34m.\u001b[0m\u001b[0msummary\u001b[0m\u001b[0;34m.\u001b[0m\u001b[0mhistogram\u001b[0m\u001b[0;34m(\u001b[0m\u001b[0mname\u001b[0m\u001b[0;34m=\u001b[0m\u001b[0;34m\"Grad_\"\u001b[0m\u001b[0;34m+\u001b[0m\u001b[0mparams\u001b[0m\u001b[0;34m[\u001b[0m\u001b[0mi\u001b[0m\u001b[0;34m]\u001b[0m\u001b[0;34m.\u001b[0m\u001b[0mname\u001b[0m\u001b[0;34m,\u001b[0m \u001b[0mdata\u001b[0m\u001b[0;34m=\u001b[0m\u001b[0mg\u001b[0m\u001b[0;34m,\u001b[0m \u001b[0mstep\u001b[0m\u001b[0;34m=\u001b[0m\u001b[0mstep\u001b[0m\u001b[0;34m)\u001b[0m\u001b[0;34m\u001b[0m\u001b[0;34m\u001b[0m\u001b[0m\n\u001b[0m\u001b[1;32m     34\u001b[0m                 \u001b[0mtf\u001b[0m\u001b[0;34m.\u001b[0m\u001b[0msummary\u001b[0m\u001b[0;34m.\u001b[0m\u001b[0mhistogram\u001b[0m\u001b[0;34m(\u001b[0m\u001b[0mname\u001b[0m\u001b[0;34m=\u001b[0m\u001b[0mparams\u001b[0m\u001b[0;34m[\u001b[0m\u001b[0mi\u001b[0m\u001b[0;34m]\u001b[0m\u001b[0;34m.\u001b[0m\u001b[0mname\u001b[0m\u001b[0;34m,\u001b[0m \u001b[0mdata\u001b[0m\u001b[0;34m=\u001b[0m\u001b[0mparams\u001b[0m\u001b[0;34m[\u001b[0m\u001b[0mi\u001b[0m\u001b[0;34m]\u001b[0m\u001b[0;34m.\u001b[0m\u001b[0mvalue\u001b[0m\u001b[0;34m(\u001b[0m\u001b[0;34m)\u001b[0m\u001b[0;34m,\u001b[0m \u001b[0mstep\u001b[0m\u001b[0;34m=\u001b[0m\u001b[0mstep\u001b[0m\u001b[0;34m)\u001b[0m\u001b[0;34m\u001b[0m\u001b[0;34m\u001b[0m\u001b[0m\n\u001b[1;32m     35\u001b[0m         \u001b[0;32mreturn\u001b[0m \u001b[0mloss\u001b[0m\u001b[0;34m\u001b[0m\u001b[0;34m\u001b[0m\u001b[0m\n",
      "\u001b[0;32m~/anaconda3/lib/python3.7/site-packages/tensorboard/plugins/histogram/summary_v2.py\u001b[0m in \u001b[0;36mhistogram\u001b[0;34m(name, data, step, buckets, description)\u001b[0m\n\u001b[1;32m    105\u001b[0m             \u001b[0mhistogram_summary\u001b[0m\u001b[0;34m,\u001b[0m \u001b[0mdata\u001b[0m\u001b[0;34m,\u001b[0m \u001b[0mbuckets\u001b[0m\u001b[0;34m,\u001b[0m \u001b[0msummary_metadata\u001b[0m\u001b[0;34m,\u001b[0m \u001b[0mstep\u001b[0m\u001b[0;34m\u001b[0m\u001b[0;34m\u001b[0m\u001b[0m\n\u001b[1;32m    106\u001b[0m         )\n\u001b[0;32m--> 107\u001b[0;31m     \u001b[0;32mreturn\u001b[0m \u001b[0mhistogram_summary\u001b[0m\u001b[0;34m(\u001b[0m\u001b[0mdata\u001b[0m\u001b[0;34m,\u001b[0m \u001b[0mbuckets\u001b[0m\u001b[0;34m,\u001b[0m \u001b[0msummary_metadata\u001b[0m\u001b[0;34m,\u001b[0m \u001b[0mstep\u001b[0m\u001b[0;34m)\u001b[0m\u001b[0;34m\u001b[0m\u001b[0;34m\u001b[0m\u001b[0m\n\u001b[0m\u001b[1;32m    108\u001b[0m \u001b[0;34m\u001b[0m\u001b[0m\n\u001b[1;32m    109\u001b[0m \u001b[0;34m\u001b[0m\u001b[0m\n",
      "\u001b[0;32m~/anaconda3/lib/python3.7/site-packages/tensorboard/plugins/histogram/summary_v2.py\u001b[0m in \u001b[0;36mhistogram_summary\u001b[0;34m(data, buckets, histogram_metadata, step)\u001b[0m\n\u001b[1;32m     92\u001b[0m                 \u001b[0mtensor\u001b[0m\u001b[0;34m=\u001b[0m\u001b[0mlazy_tensor\u001b[0m\u001b[0;34m,\u001b[0m\u001b[0;34m\u001b[0m\u001b[0;34m\u001b[0m\u001b[0m\n\u001b[1;32m     93\u001b[0m                 \u001b[0mstep\u001b[0m\u001b[0;34m=\u001b[0m\u001b[0mstep\u001b[0m\u001b[0;34m,\u001b[0m\u001b[0;34m\u001b[0m\u001b[0;34m\u001b[0m\u001b[0m\n\u001b[0;32m---> 94\u001b[0;31m                 \u001b[0mmetadata\u001b[0m\u001b[0;34m=\u001b[0m\u001b[0msummary_metadata\u001b[0m\u001b[0;34m,\u001b[0m\u001b[0;34m\u001b[0m\u001b[0;34m\u001b[0m\u001b[0m\n\u001b[0m\u001b[1;32m     95\u001b[0m             )\n\u001b[1;32m     96\u001b[0m \u001b[0;34m\u001b[0m\u001b[0m\n",
      "\u001b[0;32m~/anaconda3/lib/python3.7/site-packages/tensorflow_core/python/ops/summary_ops_v2.py\u001b[0m in \u001b[0;36mwrite\u001b[0;34m(tag, tensor, step, metadata, name)\u001b[0m\n\u001b[1;32m    666\u001b[0m \u001b[0;34m\u001b[0m\u001b[0m\n\u001b[1;32m    667\u001b[0m     op = smart_cond.smart_cond(\n\u001b[0;32m--> 668\u001b[0;31m         _should_record_summaries_v2(), record, _nothing, name=\"summary_cond\")\n\u001b[0m\u001b[1;32m    669\u001b[0m     \u001b[0;32mif\u001b[0m \u001b[0;32mnot\u001b[0m \u001b[0mcontext\u001b[0m\u001b[0;34m.\u001b[0m\u001b[0mexecuting_eagerly\u001b[0m\u001b[0;34m(\u001b[0m\u001b[0;34m)\u001b[0m\u001b[0;34m:\u001b[0m\u001b[0;34m\u001b[0m\u001b[0;34m\u001b[0m\u001b[0m\n\u001b[1;32m    670\u001b[0m       \u001b[0mops\u001b[0m\u001b[0;34m.\u001b[0m\u001b[0madd_to_collection\u001b[0m\u001b[0;34m(\u001b[0m\u001b[0mops\u001b[0m\u001b[0;34m.\u001b[0m\u001b[0mGraphKeys\u001b[0m\u001b[0;34m.\u001b[0m\u001b[0m_SUMMARY_COLLECTION\u001b[0m\u001b[0;34m,\u001b[0m \u001b[0mop\u001b[0m\u001b[0;34m)\u001b[0m  \u001b[0;31m# pylint: disable=protected-access\u001b[0m\u001b[0;34m\u001b[0m\u001b[0;34m\u001b[0m\u001b[0m\n",
      "\u001b[0;32m~/anaconda3/lib/python3.7/site-packages/tensorflow_core/python/framework/smart_cond.py\u001b[0m in \u001b[0;36msmart_cond\u001b[0;34m(pred, true_fn, false_fn, name)\u001b[0m\n\u001b[1;32m     52\u001b[0m   \u001b[0;32mif\u001b[0m \u001b[0mpred_value\u001b[0m \u001b[0;32mis\u001b[0m \u001b[0;32mnot\u001b[0m \u001b[0;32mNone\u001b[0m\u001b[0;34m:\u001b[0m\u001b[0;34m\u001b[0m\u001b[0;34m\u001b[0m\u001b[0m\n\u001b[1;32m     53\u001b[0m     \u001b[0;32mif\u001b[0m \u001b[0mpred_value\u001b[0m\u001b[0;34m:\u001b[0m\u001b[0;34m\u001b[0m\u001b[0;34m\u001b[0m\u001b[0m\n\u001b[0;32m---> 54\u001b[0;31m       \u001b[0;32mreturn\u001b[0m \u001b[0mtrue_fn\u001b[0m\u001b[0;34m(\u001b[0m\u001b[0;34m)\u001b[0m\u001b[0;34m\u001b[0m\u001b[0;34m\u001b[0m\u001b[0m\n\u001b[0m\u001b[1;32m     55\u001b[0m     \u001b[0;32melse\u001b[0m\u001b[0;34m:\u001b[0m\u001b[0;34m\u001b[0m\u001b[0;34m\u001b[0m\u001b[0m\n\u001b[1;32m     56\u001b[0m       \u001b[0;32mreturn\u001b[0m \u001b[0mfalse_fn\u001b[0m\u001b[0;34m(\u001b[0m\u001b[0;34m)\u001b[0m\u001b[0;34m\u001b[0m\u001b[0;34m\u001b[0m\u001b[0m\n",
      "\u001b[0;32m~/anaconda3/lib/python3.7/site-packages/tensorflow_core/python/ops/summary_ops_v2.py\u001b[0m in \u001b[0;36mrecord\u001b[0;34m()\u001b[0m\n\u001b[1;32m    653\u001b[0m       \u001b[0;31m# Note the identity to move the tensor to the CPU.\u001b[0m\u001b[0;34m\u001b[0m\u001b[0;34m\u001b[0m\u001b[0;34m\u001b[0m\u001b[0m\n\u001b[1;32m    654\u001b[0m       \u001b[0;32mwith\u001b[0m \u001b[0mops\u001b[0m\u001b[0;34m.\u001b[0m\u001b[0mdevice\u001b[0m\u001b[0;34m(\u001b[0m\u001b[0;34m\"cpu:0\"\u001b[0m\u001b[0;34m)\u001b[0m\u001b[0;34m:\u001b[0m\u001b[0;34m\u001b[0m\u001b[0;34m\u001b[0m\u001b[0m\n\u001b[0;32m--> 655\u001b[0;31m         summary_tensor = tensor() if callable(tensor) else array_ops.identity(\n\u001b[0m\u001b[1;32m    656\u001b[0m             tensor)\n\u001b[1;32m    657\u001b[0m         write_summary_op = gen_summary_ops.write_summary(\n",
      "\u001b[0;32m~/anaconda3/lib/python3.7/site-packages/tensorboard/util/lazy_tensor_creator.py\u001b[0m in \u001b[0;36m__call__\u001b[0;34m(self)\u001b[0m\n\u001b[1;32m     64\u001b[0m                 \u001b[0;32melif\u001b[0m \u001b[0mself\u001b[0m\u001b[0;34m.\u001b[0m\u001b[0m_tensor\u001b[0m \u001b[0;32mis\u001b[0m \u001b[0;32mNone\u001b[0m\u001b[0;34m:\u001b[0m\u001b[0;34m\u001b[0m\u001b[0;34m\u001b[0m\u001b[0m\n\u001b[1;32m     65\u001b[0m                     \u001b[0mself\u001b[0m\u001b[0;34m.\u001b[0m\u001b[0m_tensor\u001b[0m \u001b[0;34m=\u001b[0m \u001b[0m_CALL_IN_PROGRESS_SENTINEL\u001b[0m\u001b[0;34m\u001b[0m\u001b[0;34m\u001b[0m\u001b[0m\n\u001b[0;32m---> 66\u001b[0;31m                     \u001b[0mself\u001b[0m\u001b[0;34m.\u001b[0m\u001b[0m_tensor\u001b[0m \u001b[0;34m=\u001b[0m \u001b[0mself\u001b[0m\u001b[0;34m.\u001b[0m\u001b[0m_tensor_callable\u001b[0m\u001b[0;34m(\u001b[0m\u001b[0;34m)\u001b[0m\u001b[0;34m\u001b[0m\u001b[0;34m\u001b[0m\u001b[0m\n\u001b[0m\u001b[1;32m     67\u001b[0m         \u001b[0;32mreturn\u001b[0m \u001b[0mself\u001b[0m\u001b[0;34m.\u001b[0m\u001b[0m_tensor\u001b[0m\u001b[0;34m\u001b[0m\u001b[0;34m\u001b[0m\u001b[0m\n\u001b[1;32m     68\u001b[0m \u001b[0;34m\u001b[0m\u001b[0m\n",
      "\u001b[0;32m~/anaconda3/lib/python3.7/site-packages/tensorboard/plugins/histogram/summary_v2.py\u001b[0m in \u001b[0;36mlazy_tensor\u001b[0;34m()\u001b[0m\n\u001b[1;32m     86\u001b[0m             \u001b[0;34m@\u001b[0m\u001b[0mlazy_tensor_creator\u001b[0m\u001b[0;34m.\u001b[0m\u001b[0mLazyTensorCreator\u001b[0m\u001b[0;34m\u001b[0m\u001b[0;34m\u001b[0m\u001b[0m\n\u001b[1;32m     87\u001b[0m             \u001b[0;32mdef\u001b[0m \u001b[0mlazy_tensor\u001b[0m\u001b[0;34m(\u001b[0m\u001b[0;34m)\u001b[0m\u001b[0;34m:\u001b[0m\u001b[0;34m\u001b[0m\u001b[0;34m\u001b[0m\u001b[0m\n\u001b[0;32m---> 88\u001b[0;31m                 \u001b[0;32mreturn\u001b[0m \u001b[0m_buckets\u001b[0m\u001b[0;34m(\u001b[0m\u001b[0mdata\u001b[0m\u001b[0;34m,\u001b[0m \u001b[0mbuckets\u001b[0m\u001b[0;34m)\u001b[0m\u001b[0;34m\u001b[0m\u001b[0;34m\u001b[0m\u001b[0m\n\u001b[0m\u001b[1;32m     89\u001b[0m \u001b[0;34m\u001b[0m\u001b[0m\n\u001b[1;32m     90\u001b[0m             return tf.summary.write(\n",
      "\u001b[0;32m~/anaconda3/lib/python3.7/site-packages/tensorboard/plugins/histogram/summary_v2.py\u001b[0m in \u001b[0;36m_buckets\u001b[0;34m(data, bucket_count)\u001b[0m\n\u001b[1;32m    172\u001b[0m             \u001b[0;32mreturn\u001b[0m \u001b[0mtf\u001b[0m\u001b[0;34m.\u001b[0m\u001b[0mcond\u001b[0m\u001b[0;34m(\u001b[0m\u001b[0mis_singular\u001b[0m\u001b[0;34m,\u001b[0m \u001b[0mwhen_singular\u001b[0m\u001b[0;34m,\u001b[0m \u001b[0mwhen_nonsingular\u001b[0m\u001b[0;34m)\u001b[0m\u001b[0;34m\u001b[0m\u001b[0;34m\u001b[0m\u001b[0m\n\u001b[1;32m    173\u001b[0m \u001b[0;34m\u001b[0m\u001b[0m\n\u001b[0;32m--> 174\u001b[0;31m         \u001b[0;32mreturn\u001b[0m \u001b[0mtf\u001b[0m\u001b[0;34m.\u001b[0m\u001b[0mcond\u001b[0m\u001b[0;34m(\u001b[0m\u001b[0mis_empty\u001b[0m\u001b[0;34m,\u001b[0m \u001b[0mwhen_empty\u001b[0m\u001b[0;34m,\u001b[0m \u001b[0mwhen_nonempty\u001b[0m\u001b[0;34m)\u001b[0m\u001b[0;34m\u001b[0m\u001b[0;34m\u001b[0m\u001b[0m\n\u001b[0m\u001b[1;32m    175\u001b[0m \u001b[0;34m\u001b[0m\u001b[0m\n\u001b[1;32m    176\u001b[0m \u001b[0;34m\u001b[0m\u001b[0m\n",
      "\u001b[0;32m~/anaconda3/lib/python3.7/site-packages/tensorflow_core/python/ops/control_flow_ops.py\u001b[0m in \u001b[0;36mcond_for_tf_v2\u001b[0;34m(pred, true_fn, false_fn, name)\u001b[0m\n\u001b[1;32m   1387\u001b[0m \u001b[0;34m\u001b[0m\u001b[0m\n\u001b[1;32m   1388\u001b[0m   \"\"\"\n\u001b[0;32m-> 1389\u001b[0;31m   \u001b[0;32mreturn\u001b[0m \u001b[0mcond\u001b[0m\u001b[0;34m(\u001b[0m\u001b[0mpred\u001b[0m\u001b[0;34m,\u001b[0m \u001b[0mtrue_fn\u001b[0m\u001b[0;34m=\u001b[0m\u001b[0mtrue_fn\u001b[0m\u001b[0;34m,\u001b[0m \u001b[0mfalse_fn\u001b[0m\u001b[0;34m=\u001b[0m\u001b[0mfalse_fn\u001b[0m\u001b[0;34m,\u001b[0m \u001b[0mstrict\u001b[0m\u001b[0;34m=\u001b[0m\u001b[0;32mTrue\u001b[0m\u001b[0;34m,\u001b[0m \u001b[0mname\u001b[0m\u001b[0;34m=\u001b[0m\u001b[0mname\u001b[0m\u001b[0;34m)\u001b[0m\u001b[0;34m\u001b[0m\u001b[0;34m\u001b[0m\u001b[0m\n\u001b[0m\u001b[1;32m   1390\u001b[0m \u001b[0;34m\u001b[0m\u001b[0m\n\u001b[1;32m   1391\u001b[0m \u001b[0;34m\u001b[0m\u001b[0m\n",
      "\u001b[0;32m~/anaconda3/lib/python3.7/site-packages/tensorflow_core/python/util/deprecation.py\u001b[0m in \u001b[0;36mnew_func\u001b[0;34m(*args, **kwargs)\u001b[0m\n\u001b[1;32m    505\u001b[0m                 \u001b[0;34m'in a future version'\u001b[0m \u001b[0;32mif\u001b[0m \u001b[0mdate\u001b[0m \u001b[0;32mis\u001b[0m \u001b[0;32mNone\u001b[0m \u001b[0;32melse\u001b[0m \u001b[0;34m(\u001b[0m\u001b[0;34m'after %s'\u001b[0m \u001b[0;34m%\u001b[0m \u001b[0mdate\u001b[0m\u001b[0;34m)\u001b[0m\u001b[0;34m,\u001b[0m\u001b[0;34m\u001b[0m\u001b[0;34m\u001b[0m\u001b[0m\n\u001b[1;32m    506\u001b[0m                 instructions)\n\u001b[0;32m--> 507\u001b[0;31m       \u001b[0;32mreturn\u001b[0m \u001b[0mfunc\u001b[0m\u001b[0;34m(\u001b[0m\u001b[0;34m*\u001b[0m\u001b[0margs\u001b[0m\u001b[0;34m,\u001b[0m \u001b[0;34m**\u001b[0m\u001b[0mkwargs\u001b[0m\u001b[0;34m)\u001b[0m\u001b[0;34m\u001b[0m\u001b[0;34m\u001b[0m\u001b[0m\n\u001b[0m\u001b[1;32m    508\u001b[0m \u001b[0;34m\u001b[0m\u001b[0m\n\u001b[1;32m    509\u001b[0m     doc = _add_deprecated_arg_notice_to_docstring(\n",
      "\u001b[0;32m~/anaconda3/lib/python3.7/site-packages/tensorflow_core/python/ops/control_flow_ops.py\u001b[0m in \u001b[0;36mcond\u001b[0;34m(pred, true_fn, false_fn, strict, name, fn1, fn2)\u001b[0m\n\u001b[1;32m   1202\u001b[0m         \u001b[0mresult\u001b[0m \u001b[0;34m=\u001b[0m \u001b[0mtrue_fn\u001b[0m\u001b[0;34m(\u001b[0m\u001b[0;34m)\u001b[0m\u001b[0;34m\u001b[0m\u001b[0;34m\u001b[0m\u001b[0m\n\u001b[1;32m   1203\u001b[0m       \u001b[0;32melse\u001b[0m\u001b[0;34m:\u001b[0m\u001b[0;34m\u001b[0m\u001b[0;34m\u001b[0m\u001b[0m\n\u001b[0;32m-> 1204\u001b[0;31m         \u001b[0mresult\u001b[0m \u001b[0;34m=\u001b[0m \u001b[0mfalse_fn\u001b[0m\u001b[0;34m(\u001b[0m\u001b[0;34m)\u001b[0m\u001b[0;34m\u001b[0m\u001b[0;34m\u001b[0m\u001b[0m\n\u001b[0m\u001b[1;32m   1205\u001b[0m       \u001b[0;32mif\u001b[0m \u001b[0;32mnot\u001b[0m \u001b[0mstrict\u001b[0m\u001b[0;34m:\u001b[0m\u001b[0;34m\u001b[0m\u001b[0;34m\u001b[0m\u001b[0m\n\u001b[1;32m   1206\u001b[0m         \u001b[0mresult\u001b[0m \u001b[0;34m=\u001b[0m \u001b[0m_UnpackIfSingleton\u001b[0m\u001b[0;34m(\u001b[0m\u001b[0mresult\u001b[0m\u001b[0;34m)\u001b[0m\u001b[0;34m\u001b[0m\u001b[0;34m\u001b[0m\u001b[0m\n",
      "\u001b[0;32m~/anaconda3/lib/python3.7/site-packages/tensorboard/plugins/histogram/summary_v2.py\u001b[0m in \u001b[0;36mwhen_nonempty\u001b[0;34m()\u001b[0m\n\u001b[1;32m    133\u001b[0m         \u001b[0;32mdef\u001b[0m \u001b[0mwhen_nonempty\u001b[0m\u001b[0;34m(\u001b[0m\u001b[0;34m)\u001b[0m\u001b[0;34m:\u001b[0m\u001b[0;34m\u001b[0m\u001b[0;34m\u001b[0m\u001b[0m\n\u001b[1;32m    134\u001b[0m             \u001b[0mmin_\u001b[0m \u001b[0;34m=\u001b[0m \u001b[0mtf\u001b[0m\u001b[0;34m.\u001b[0m\u001b[0mreduce_min\u001b[0m\u001b[0;34m(\u001b[0m\u001b[0minput_tensor\u001b[0m\u001b[0;34m=\u001b[0m\u001b[0mdata\u001b[0m\u001b[0;34m)\u001b[0m\u001b[0;34m\u001b[0m\u001b[0;34m\u001b[0m\u001b[0m\n\u001b[0;32m--> 135\u001b[0;31m             \u001b[0mmax_\u001b[0m \u001b[0;34m=\u001b[0m \u001b[0mtf\u001b[0m\u001b[0;34m.\u001b[0m\u001b[0mreduce_max\u001b[0m\u001b[0;34m(\u001b[0m\u001b[0minput_tensor\u001b[0m\u001b[0;34m=\u001b[0m\u001b[0mdata\u001b[0m\u001b[0;34m)\u001b[0m\u001b[0;34m\u001b[0m\u001b[0;34m\u001b[0m\u001b[0m\n\u001b[0m\u001b[1;32m    136\u001b[0m             \u001b[0mrange_\u001b[0m \u001b[0;34m=\u001b[0m \u001b[0mmax_\u001b[0m \u001b[0;34m-\u001b[0m \u001b[0mmin_\u001b[0m\u001b[0;34m\u001b[0m\u001b[0;34m\u001b[0m\u001b[0m\n\u001b[1;32m    137\u001b[0m             \u001b[0mis_singular\u001b[0m \u001b[0;34m=\u001b[0m \u001b[0mtf\u001b[0m\u001b[0;34m.\u001b[0m\u001b[0mequal\u001b[0m\u001b[0;34m(\u001b[0m\u001b[0mrange_\u001b[0m\u001b[0;34m,\u001b[0m \u001b[0;36m0\u001b[0m\u001b[0;34m)\u001b[0m\u001b[0;34m\u001b[0m\u001b[0;34m\u001b[0m\u001b[0m\n",
      "\u001b[0;31mKeyboardInterrupt\u001b[0m: "
     ]
    }
   ],
   "source": [
    "\n",
    "batch_size = 32\n",
    "# num_batches = int(1572864/batch_size)\n",
    "num_batches = int(572864/batch_size)\n",
    "\n",
    "num_epochs = 10\n",
    "\n",
    "radio_model = CNN(epsilon=1e-8, name=\"CNN\")\n",
    "radio_opt = CNNOptimizer(name=\"Optimizer\", cnn=radio_model, lr=0.0001, \\\n",
    "                         num_epochs=num_epochs, decay_lr_start_epoch=2, decay_lr=True)\n",
    "\n",
    "t = tqdm(range(num_batches * num_epochs),\n",
    "               unit='sig', unit_scale=batch_size, position=0)\n",
    "\n",
    "\n",
    "radio_data_train = tf.data.Dataset.from_generator(radioML(hdf5_path, 1, True), \n",
    "                output_types=(tf.float32, tf.int32),\n",
    "                output_shapes=(tf.TensorShape([1, 1024, 2]), tf.TensorShape([1, 24]))) #2555904, 1024, 2]\n",
    "\n",
    "radio_data_test = tf.data.Dataset.from_generator(radioML(hdf5_path, 1, False), \n",
    "                output_types=(tf.float32, tf.int32),\n",
    "                output_shapes=(tf.TensorShape([1, 1024, 2]), tf.TensorShape([1, 24]))) #2555904, 1024, 2]\n",
    "\n",
    "loss = 0\n",
    "\n",
    "radio_data_train = radio_data_train.take(batch_size*num_batches)\n",
    "radio_data_train = radio_data_train.map(radioML_map)\n",
    "radio_data_train = radio_data_train.batch(batch_size)\n",
    "radio_data_train = radio_data_train.prefetch(tf.data.experimental.AUTOTUNE)\n",
    "radio_data_train = radio_data_train.repeat(num_epochs)\n",
    "radio_data_train = radio_data_train.cache()\n",
    "\n",
    "test = radio_data_test.take(1024)\n",
    "test = test.map(radioML_map)\n",
    "test = test.batch(batch_size)\n",
    "\n",
    "\n",
    "# step = tf.function(radio_opt.step)\n",
    "print_every = int(num_batches/4)\n",
    "\n",
    "start_time = time.perf_counter()\n",
    "for step_num,(batch, labels) in enumerate(radio_data_train):      \n",
    "    epoch = tf.constant(1+int(step_num / (num_batches)))\n",
    "    loss = radio_opt.step(batch, labels, epoch, step_num)\n",
    "    \n",
    "    if NOTEBOOK != 'kaggle':\n",
    "        with writer.as_default():\n",
    "            tf.summary.scalar('training loss', loss, step=step_num)\n",
    "            tf.summary.scalar('learning rate', radio_opt.lr, step=step_num)    \n",
    "        \n",
    "    t.update(1)    \n",
    "    if step_num % print_every == 0:                \n",
    "        t.write('Current epoch = {}/{} (lr_mult = {:0.09f}, loss = {}) done.'.format(\n",
    "            epoch.numpy(), num_epochs, radio_opt.lr.numpy(), loss.numpy()))  \n",
    "        \n",
    "    if step_num % num_batches == 0: \n",
    "        accuracy, total, correct = tf.constant(0), tf.constant(0), tf.constant(0)\n",
    "        for (batch, labels) in test:            \n",
    "            logits = tf.nn.softmax(radio_opt.cnn(batch, is_training=False))\n",
    "            preds = tf.argmax(logits, axis=1, output_type=tf.int32)  \n",
    "            labels = tf.argmax(labels, axis=1, output_type=tf.int32)\n",
    "            correct += tf.math.count_nonzero(tf.equal(preds, labels), dtype=tf.int32)\n",
    "            total += tf.shape(labels)[0]            \n",
    "        accuracy = (correct / tf.cast(total, tf.int32)) * 100.          \n",
    "        t.write('Epoch = {}/{} (lr_mult = {:0.09f}, loss = {:0.02f}, accuracy = {:0.02f}, incorrect = {} done.'.format(\n",
    "            epoch.numpy(), num_epochs, radio_opt.lr.numpy(), loss.numpy(), accuracy, total - correct))  \n",
    "                 \n",
    "print(\"Execution time:\", time.perf_counter() - start_time)   \n",
    "t.close()\n",
    "   "
   ]
  },
  {
   "cell_type": "code",
   "execution_count": null,
   "metadata": {},
   "outputs": [],
   "source": [
    "radio_data_test = tf.data.Dataset.from_generator(radioML(hdf5_path, 1, False), \n",
    "                output_types=(tf.float32, tf.int32),\n",
    "                output_shapes=(tf.TensorShape([1, 1024, 2]), tf.TensorShape([1, 24]))) #2555904, 1024, 2]\n",
    "test = radio_data_test.take(1024)\n",
    "test = test.map(radioML_map)\n",
    "test = test.batch(batch_size)\n",
    "for (batch, labels) in test:\n",
    "    preds = tf.argmax(radio_opt.cnn(batch), output_type=tf.int32)\n",
    "    correct += tf.math.count_nonzero(tf.equal(preds, labels), dtype=tf.int32)\n",
    "    total += tf.shape(labels)[0]\n",
    "accuracy = (correct / tf.cast(total, tf.int32)) * 100.   \n",
    "print(\"Final accuracy:\", accuracy)"
   ]
  },
  {
   "cell_type": "code",
   "execution_count": null,
   "metadata": {},
   "outputs": [],
   "source": [
    "tf.math.is_nan(loss_history)\n",
    "loss_history = loss_history\n",
    "fig2 = plt.figure()\n",
    "plt.plot(loss_history)\n",
    "plt.xlabel('Batch #')\n",
    "plt.ylabel('Loss [entropy]')\n",
    "plt.show()\n",
    "loss_history"
   ]
  },
  {
   "cell_type": "code",
   "execution_count": 11,
   "metadata": {},
   "outputs": [
    {
     "name": "stdout",
     "output_type": "stream",
     "text": [
      "| Variable                  | Spec          | Trainable   | Device   |\n",
      "|---------------------------+---------------+-------------+----------|\n",
      "| CNN/conv0/conv_max_pool/w | f32[64,64,64] | True        | GPU      |\n",
      "| CNN/conv0/conv_max_pool/b | f32[64]       | True        | GPU      |\n",
      "| CNN/conv1/conv_max_pool/w | f32[64,64,64] | True        | GPU      |\n",
      "| CNN/conv1/conv_max_pool/b | f32[64]       | True        | GPU      |\n",
      "| CNN/conv2/conv_max_pool/w | f32[64,64,64] | True        | GPU      |\n",
      "| CNN/conv2/conv_max_pool/b | f32[64]       | True        | GPU      |\n",
      "| CNN/conv3/conv_max_pool/w | f32[64,64,64] | True        | GPU      |\n",
      "| CNN/conv3/conv_max_pool/b | f32[64]       | True        | GPU      |\n",
      "| CNN/conv4/conv_max_pool/w | f32[64,64,64] | True        | GPU      |\n",
      "| CNN/conv4/conv_max_pool/b | f32[64]       | True        | GPU      |\n",
      "| CNN/conv5/conv_max_pool/w | f32[64,64,64] | True        | GPU      |\n",
      "| CNN/conv5/conv_max_pool/b | f32[64]       | True        | GPU      |\n",
      "| CNN/conv_input/w          | f32[2,2,64]   | True        | GPU      |\n",
      "| CNN/conv_input/b          | f32[64]       | True        | GPU      |\n",
      "| CNN/linear/w              | f32[512,128]  | True        | GPU      |\n",
      "| CNN/linear/w              | f32[128,128]  | True        | GPU      |\n",
      "| CNN/linear/w              | f32[128,24]   | True        | GPU      |\n",
      "| CNN/linear/b              | f32[128]      | True        | GPU      |\n",
      "| CNN/linear/b              | f32[128]      | True        | GPU      |\n",
      "| CNN/linear/b              | f32[24]       | True        | GPU      |\n"
     ]
    }
   ],
   "source": [
    "print(snt.format_variables(radio_model.variables))"
   ]
  }
 ],
 "metadata": {
  "accelerator": "GPU",
  "colab": {
   "authorship_tag": "ABX9TyMY5mQBDXgj2X9YLAbDo2fr",
   "collapsed_sections": [],
   "include_colab_link": true,
   "name": "Copy of tf_simple.ipynb",
   "provenance": []
  },
  "kernelspec": {
   "display_name": "Python 3",
   "language": "python",
   "name": "python3"
  },
  "language_info": {
   "codemirror_mode": {
    "name": "ipython",
    "version": 3
   },
   "file_extension": ".py",
   "mimetype": "text/x-python",
   "name": "python",
   "nbconvert_exporter": "python",
   "pygments_lexer": "ipython3",
   "version": "3.7.3"
  }
 },
 "nbformat": 4,
 "nbformat_minor": 4
}
