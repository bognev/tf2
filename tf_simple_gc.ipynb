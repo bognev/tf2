{
 "cells": [
  {
   "cell_type": "code",
   "execution_count": 2,
   "metadata": {
    "colab": {},
    "colab_type": "code",
    "id": "B7G55GTG4y10"
   },
   "outputs": [
    {
     "name": "stdout",
     "output_type": "stream",
     "text": [
      "home\n"
     ]
    }
   ],
   "source": [
    "try:\n",
    "    from google.colab import drive\n",
    "    NOTEBOOK = 'colab'\n",
    "except:\n",
    "    import os    \n",
    "    if list(os.walk('/kaggle/input')):            \n",
    "        NOTEBOOK = 'kaggle'\n",
    "    else:\n",
    "        NOTEBOOK = 'home'\n",
    "        \n",
    "# if NOTEBOOK == 'colab':\n",
    "#     drive.mount(\"/content/gdrive\", force_remount=True)\n",
    "\n",
    "import tensorflow as tf\n",
    "\n",
    "# tf.debugging.set_log_device_placement(True)\n",
    "# tf.config.set_visible_devices([], 'GPU') \n",
    "# tf.executing_eagerly() \n",
    "\n",
    "# gpus = tf.config.experimental.list_physical_devices('GPU')\n",
    "# if gpus:\n",
    "#     try:\n",
    "#         tf.config.experimental.set_virtual_device_configuration(gpus[0], [tf.config.experimental.VirtualDeviceConfiguration(memory_limit=1024*)])\n",
    "#     except RuntimeError as e:\n",
    "#         print(e)\n",
    "        \n",
    "gpus = tf.config.experimental.list_physical_devices('GPU')\n",
    "if gpus:\n",
    "    try:\n",
    "        for gpu in gpus:\n",
    "            tf.config.experimental.set_memory_growth(gpu, True)\n",
    "    except RuntimeError as e:\n",
    "        print(e)\n",
    "\n",
    "print(NOTEBOOK)\n",
    "\n",
    "\n"
   ]
  },
  {
   "cell_type": "code",
   "execution_count": 3,
   "metadata": {},
   "outputs": [
    {
     "name": "stdout",
     "output_type": "stream",
     "text": [
      "/media/bognev/CE50072F50071DB9/2018.01/GOLD_XYZ_OSC.0001_1024.hdf5\n"
     ]
    }
   ],
   "source": [
    "if NOTEBOOK == 'colab':\n",
    "    !pip install -q dm-sonnet\n",
    "    !pip install -q gdown\n",
    "    import gdown    \n",
    "#     url = 'https://drive.google.com/uc?id=1Si-Fz-38xITBOvYOoPTn_xLtOHVwqFQO'\n",
    "    url = 'https://drive.google.com/uc?id=1rMDDybiyw6bLOdVOL_SY-RoQdocRRNzl'\n",
    "    output = 'GOLD_XYZ.hdf5'\n",
    "    gdown.download(url, output, quiet=False)\n",
    "    !df -h\n",
    "    !ls -l\n",
    "    !grep Model: /proc/driver/nvidia/gpus/*/information | awk '{$1=\"\";print$0}'\n",
    "    hdf5_path = '/content/'+output\n",
    "elif NOTEBOOK == 'kaggle':\n",
    "    !pip install -q dm-sonnet\n",
    "    import os\n",
    "    for dirname, _, filenames in os.walk('/kaggle/input'):\n",
    "        for filename in filenames:\n",
    "            hdf5_path = os.path.join(dirname, filename)\n",
    "else:          \n",
    "    hdf5_path = '/media/bognev/CE50072F50071DB9/2018.01/GOLD_XYZ_OSC.0001_1024.hdf5'\n",
    "print(hdf5_path)\n"
   ]
  },
  {
   "cell_type": "code",
   "execution_count": 4,
   "metadata": {},
   "outputs": [
    {
     "name": "stdout",
     "output_type": "stream",
     "text": [
      " GeForce GTX 650\n"
     ]
    }
   ],
   "source": [
    "!grep Model: /proc/driver/nvidia/gpus/*/information | awk '{$1=\"\";print$0}'"
   ]
  },
  {
   "cell_type": "code",
   "execution_count": 5,
   "metadata": {
    "colab": {
     "base_uri": "https://localhost:8080/",
     "height": 52
    },
    "colab_type": "code",
    "id": "Lnmy6-UI6QG3",
    "outputId": "4bf0d8dc-a13a-45a6-b5d9-a6ce5034bd0a"
   },
   "outputs": [
    {
     "name": "stdout",
     "output_type": "stream",
     "text": [
      "TensorFlow version: 2.1.0\n",
      "    Sonnet version: 2.0.0\n",
      "    Numpy  version: 1.18.2\n",
      "TensorBoard version: 2.1.0\n"
     ]
    }
   ],
   "source": [
    "# import tensorflow as tf\n",
    "# tf.debugging.set_log_device_placement(True)\n",
    "# import h5py\n",
    "import numpy as np\n",
    "import matplotlib.pyplot as plt\n",
    "import random\n",
    "import tqdm\n",
    "import time\n",
    "import h5py\n",
    "import sonnet as snt\n",
    "from tqdm import tqdm\n",
    "import gc\n",
    "import os, psutil\n",
    "p = psutil.Process(os.getpid())\n",
    "\n",
    "\n",
    "print(\"TensorFlow version: {}\".format(tf.__version__))\n",
    "print(\"    Sonnet version: {}\".format(snt.__version__))\n",
    "print(\"    Numpy  version: {}\".format(np.__version__))\n",
    "from tensorboard import version; print(\"TensorBoard version: {}\".format(version.VERSION))\n",
    "# tf.config.list_physical_devices('GPU')"
   ]
  },
  {
   "cell_type": "code",
   "execution_count": 6,
   "metadata": {},
   "outputs": [],
   "source": [
    "from tensorflow.python.ops import array_ops\n",
    "from tensorflow.python.ops import math_ops\n",
    "\n",
    "\n",
    "class AlphaDropout(snt.Module):\n",
    "\n",
    "    def __init__(self, name=None, rate=0.5, noise_shape=None, seed=None, **kwargs):\n",
    "        super(AlphaDropout, self).__init__(name=name)\n",
    "        self.rate = rate\n",
    "        self.noise_shape = noise_shape\n",
    "        self.seed = seed\n",
    "\n",
    "    def _get_noise_shape(self, inputs):\n",
    "        return self.noise_shape if self.noise_shape else inputs.shape\n",
    "\n",
    "    @tf.function\n",
    "    def __call__(self, inputs, is_training=None):\n",
    "        if 0. < self.rate < 1.:\n",
    "            noise_shape = self._get_noise_shape(inputs)\n",
    "\n",
    "        def dropped_inputs(inputs=inputs, rate=self.rate, seed=self.seed):  # pylint: disable=missing-docstring\n",
    "            alpha = 1.6732632423543772848170429916717\n",
    "            scale = 1.0507009873554804934193349852946\n",
    "            alpha_p = -alpha * scale\n",
    "\n",
    "            kept_idx = math_ops.greater_equal(\n",
    "                tf.random.uniform(noise_shape, minval=0, maxval=None, dtype=tf.dtypes.float32, seed=seed, name=None), rate)\n",
    "            kept_idx = math_ops.cast(kept_idx, dtypes.float32)\n",
    "\n",
    "            # Get affine transformation params\n",
    "            a = ((1 - rate) * (1 + rate * alpha_p**2))**-0.5\n",
    "            b = -a * alpha_p * rate\n",
    "\n",
    "            # Apply mask\n",
    "            x = inputs * kept_idx + alpha_p * (1 - kept_idx)\n",
    "\n",
    "            # Do affine transformation\n",
    "            return a * x + b\n",
    "\n",
    "            if is_training==True:\n",
    "                return dropped_inputs(inputs)\n",
    "            else: \n",
    "                return inputs\n",
    "        return inputs\n",
    "\n",
    "\n",
    "  "
   ]
  },
  {
   "cell_type": "code",
   "execution_count": 7,
   "metadata": {
    "colab": {},
    "colab_type": "code",
    "id": "aqPYo6YU6QpC"
   },
   "outputs": [],
   "source": [
    "\n",
    "class ConvMaxPool(snt.Module):\n",
    "    def __init__(self, name=None):\n",
    "        super(ConvMaxPool, self).__init__(name=name)\n",
    "        self.conv = snt.Conv1D(output_channels=64, kernel_shape=3, stride=1, rate=1,\n",
    "                               padding=\"SAME\", with_bias=True,\n",
    "                               data_format=\"NWC\", name=\"conv_max_pool\"\n",
    "                               )\n",
    "    @tf.function\n",
    "    def __call__(self, inputs):\n",
    "        features = self.conv(inputs)\n",
    "        outputs = tf.nn.max_pool1d(features, ksize=2, strides=2, padding=\"SAME\", \n",
    "                                   data_format='NWC', name=\"pool\") #64×1024\n",
    "        return outputs\n",
    "\n",
    "\n",
    "class CNN(snt.Module):\n",
    "    def __init__(self, epsilon, name=None):\n",
    "        super(CNN, self).__init__(name=name)\n",
    "        self.layers = [\n",
    "            ConvMaxPool(name=\"conv\"+str(ii))\n",
    "            for ii in range(6)\n",
    "        ]\n",
    "        self.conv_in = snt.Conv1D(output_channels=64, kernel_shape=2, stride=1, rate=1,\n",
    "                       padding=\"SAME\", with_bias=True,\n",
    "                       data_format=\"NWC\", name=\"conv_input\"\n",
    "                       )\n",
    "        \n",
    "        self.linear = snt.Linear(output_size=128, with_bias=True, \n",
    "                                 w_init=snt.initializers.VarianceScaling(scale = 1.0, mode='fan_in', distribution='truncated_normal', seed=10))\n",
    "        self.linear1 = snt.Linear(output_size=128, with_bias=True,\n",
    "                                 w_init=snt.initializers.VarianceScaling(scale = 1.0, mode='fan_in', distribution='truncated_normal', seed=13))\n",
    "        self.linear2 = snt.Linear(output_size=24, with_bias=True,\n",
    "                                 w_init=snt.initializers.VarianceScaling(scale = 1.0, mode='fan_in', distribution='truncated_normal', seed=14))                \n",
    "        \n",
    "        self.alpha = AlphaDropout(rate=0.1, noise_shape=None, seed=21)\n",
    "#         self.alpha = snt.Dropout(rate=0.1, noise_shape=None, seed=21, name=\"DO\")\n",
    "\n",
    "    @tf.function\n",
    "    def __call__(self, inputs, is_training=False):\n",
    "        features = self.conv_in(inputs) #2×1024\n",
    "        features = tf.nn.max_pool1d(features, ksize=2, strides=2, padding=\"VALID\", \n",
    "                                    data_format='NWC', name=\"pool_input\") \n",
    "#         print(features)\n",
    "        for layer in self.layers:\n",
    "            features = layer(features)    \n",
    "        features = snt.flatten(features)\n",
    "\n",
    "        features = self.linear(features)\n",
    "        features = self.alpha(tf.nn.selu(features), is_training=is_training)\n",
    "        features = self.linear1(features)\n",
    "        features = self.alpha(tf.nn.selu(features), is_training=is_training)\n",
    "\n",
    "        output = self.linear2(features)        \n",
    "#         output = tf.nn.softmax(features)\n",
    "        return output\n"
   ]
  },
  {
   "cell_type": "code",
   "execution_count": 8,
   "metadata": {},
   "outputs": [],
   "source": [
    "\n",
    "class CNNOptimizer(snt.Module):\n",
    "    def __init__(self, name, cnn, lr=1e-3, num_epochs=100, decay_lr_start_epoch=10, decay_lr=False):\n",
    "        super(CNNOptimizer, self).__init__(name=name)\n",
    "        self.cnn = cnn\n",
    "        self.init_lr = tf.constant(lr, dtype=tf.float32)\n",
    "        self.lr = tf.Variable(lr, trainable=False, name='learning rate', dtype=tf.float32)\n",
    "        self.cnn_opt = snt.optimizers.Adam(learning_rate=self.lr)\n",
    "        self.decay_lr_start_epoch = tf.constant(decay_lr_start_epoch, dtype=tf.float32)\n",
    "        self.decay_lr = tf.constant(decay_lr, dtype=tf.bool)\n",
    "        self.num_epochs = tf.constant(num_epochs, dtype=tf.float32)\n",
    "\n",
    "    def _gen_lr_mult(self, epoch):\n",
    "          # Linear decay to 0.\n",
    "        decay_epoch = tf.cast(epoch - self.decay_lr_start_epoch, tf.float32)\n",
    "        if decay_epoch < tf.constant(0, dtype=tf.float32):\n",
    "            return tf.constant(1., dtype=tf.float32)\n",
    "        num_decay_epochs = tf.cast(self.num_epochs - self.decay_lr_start_epoch, dtype=tf.float32)\n",
    "        return (num_decay_epochs - decay_epoch) / num_decay_epochs        \n",
    "    \n",
    "    @tf.function\n",
    "    def step(self, batch, labels, epoch, is_save, is_training):\n",
    "        with tf.GradientTape() as tape:\n",
    "            logits = self.cnn(batch, is_training=is_training)    \n",
    "            loss = tf.nn.softmax_cross_entropy_with_logits(labels=labels, logits=logits)\n",
    "            loss = tf.reduce_mean(loss)\n",
    "        params = self.cnn.trainable_variables\n",
    "        grads = tape.gradient(loss, params)                \n",
    "        lr_mult = self._gen_lr_mult(epoch)\n",
    "        if self.decay_lr:\n",
    "            self.lr.assign(self.init_lr * lr_mult)\n",
    "        self.cnn_opt.apply(grads, params)   \n",
    "        if NOTEBOOK != 'kaggle' and is_save == True:\n",
    "            with writer.as_default():\n",
    "                for i,g in enumerate(grads):                \n",
    "                    tf.summary.histogram(name=\"Grad_\"+params[i].name, data=g, step=step)                \n",
    "                    tf.summary.histogram(name=params[i].name, data=params[i].value(), step=step)                \n",
    "        return loss\n",
    "    \n",
    "\n",
    "\n"
   ]
  },
  {
   "cell_type": "code",
   "execution_count": 9,
   "metadata": {
    "colab": {},
    "colab_type": "code",
    "id": "i1VIhmNnY4ju"
   },
   "outputs": [],
   "source": [
    "class radioML:\n",
    "    def __init__(self, file, batch_size, is_training=False):\n",
    "        self.file = file\n",
    "        self.batch_size = batch_size\n",
    "        self.is_training = is_training\n",
    "    \n",
    "    def __call__(self):        \n",
    "        N_r, N_m, N_db = 4096, 24, 13\n",
    "        if NOTEBOOK == 'colab':            \n",
    "            dbs = np.arange(0,32,2)     \n",
    "            db_range = np.arange(0,0+len(dbs))\n",
    "        else:                       \n",
    "            dbs = np.arange(0,32,2)                   \n",
    "            db_range = np.arange(10,10+len(dbs))\n",
    "        data_idxs_train = np.array([])\n",
    "        data_idxs_test = np.array([])\n",
    "        for i in np.arange(N_m):            \n",
    "            for j in db_range:\n",
    "                ids = i*N_r*N_db+j*N_r\n",
    "                idx = np.arange(ids, ids+N_r)                \n",
    "                data_idxs_train = np.append(data_idxs_train, idx[np.arange(int(0.8*N_r))])\n",
    "                data_idxs_test  = np.append(data_idxs_test, idx[np.arange(int(0.8*N_r)+1, N_r)])\n",
    "        with h5py.File(self.file, 'r') as f:\n",
    "            while True:\n",
    "                if self.is_training:\n",
    "                    idxs = np.random.choice(data_idxs_train, self.batch_size)\n",
    "                    yield (f['X'][sorted(idxs)], f['Y'][sorted(idxs)])\n",
    "                else:\n",
    "                    idxs = np.random.choice(data_idxs_test, self.batch_size)\n",
    "                    yield (f['X'][sorted(idxs)], f['Y'][sorted(idxs)])\n",
    "                \n",
    "\n",
    "def radioML_map(data_batch, data_label):\n",
    "#     print(data_batch.shape)\n",
    "    data_batch = tf.reshape(data_batch, [1024, 2])\n",
    "    data_label = tf.reshape(data_label, [24])\n",
    "#     mean = tf.math.reduce_mean(data_batch)\n",
    "#     std = tf.math.reduce_std(data_batch)\n",
    "#     data_batch = (data_batch - mean)/std\n",
    "#     print(std, mean)\n",
    "#     print(type(std))\n",
    "    return (data_batch, data_label)"
   ]
  },
  {
   "cell_type": "code",
   "execution_count": 11,
   "metadata": {
    "colab": {
     "base_uri": "https://localhost:8080/",
     "height": 1000
    },
    "colab_type": "code",
    "id": "W2kSsUBk8bOV",
    "outputId": "1f3931f2-7e98-4853-eef6-6adb76f5d2ea"
   },
   "outputs": [
    {
     "name": "stdout",
     "output_type": "stream",
     "text": [
      "<dtype: 'int32'>\n"
     ]
    },
    {
     "data": {
      "image/png": "[encoded data removed]",
      "text/plain": [
       "<Figure size 432x288 with 1 Axes>"
      ]
     },
     "metadata": {
      "needs_background": "light"
     },
     "output_type": "display_data"
    },
    {
     "data": {
      "image/png": "[encoded data removed]",
      "text/plain": [
       "<Figure size 432x288 with 1 Axes>"
      ]
     },
     "metadata": {
      "needs_background": "light"
     },
     "output_type": "display_data"
    }
   ],
   "source": [
    "radio_plot = tf.data.Dataset.from_generator(radioML(hdf5_path, 1, False), \n",
    "                output_types=(tf.float32, tf.int32),\n",
    "                output_shapes=(tf.TensorShape([1, 1024, 2]), tf.TensorShape([1, 24]))) #2555904, 1024, 2]\n",
    "\n",
    "radio_plot = radio_plot.take(1)\n",
    "radio_plot = radio_plot.map(radioML_map)\n",
    "for (batch, labels) in radio_plot:    \n",
    "    print(labels.dtype)\n",
    "    fig1 = plt.figure()\n",
    "    plt.plot(batch[:,0])\n",
    "    plt.xlabel('Time #')\n",
    "    plt.ylabel('Signal [random]')\n",
    "    fig2 = plt.figure()\n",
    "    plt.plot(batch[:,1])\n",
    "    plt.xlabel('Time #')\n",
    "    plt.ylabel('Signal [random]')\n",
    "    plt.show()"
   ]
  },
  {
   "cell_type": "code",
   "execution_count": 12,
   "metadata": {},
   "outputs": [],
   "source": [
    "# building tensorflow graph\n",
    "\n",
    "# from datetime import datetime as dt\n",
    "# # Clear any logs from previous runs\n",
    "# !rm -rf ./logs/\n",
    "\n",
    "# stamp = dt.now().strftime(\"%Y%m%d-%H%M%S\")\n",
    "# logdir = 'logs/func/%s' % stamp\n",
    "# writer = tf.summary.create_file_writer(logdir)\n",
    "\n",
    "# radio_model = CNN(epsilon=1e-8, name=\"CNN\")\n",
    "# radio_data_test = tf.data.Dataset.from_generator(radioML(hdf5_path, 1, False), \n",
    "#                 output_types=(tf.float32, tf.float32),\n",
    "#                 output_shapes=(tf.TensorShape([1, 1024, 2]), tf.TensorShape([1, 24]))) #2555904, 1024, 2]\n",
    "# radio_data_test = radio_data_test.take(1)\n",
    "# radio_data_test = radio_data_test.map(radioML_map)\n",
    "# radio_data_test = radio_data_test.batch(1)\n",
    "\n",
    "# for i,(batch, labels) in enumerate(radio_data_test):\n",
    "#     tf.summary.trace_on(graph=True, profiler=True)    \n",
    "#     preds = radio_model(batch)\n",
    "#     with writer.as_default():\n",
    "#         tf.summary.trace_export(\n",
    "#             name='tf2_graph',\n",
    "#             step=0,\n",
    "#             profiler_outdir=logdir)\n",
    "# %reload_ext tensorboard\n",
    "# %tensorboard --logdir logs/func     "
   ]
  },
  {
   "cell_type": "code",
   "execution_count": 13,
   "metadata": {},
   "outputs": [
    {
     "data": {
      "text/html": [
       "\n",
       "      <iframe id=\"tensorboard-frame-2a1233ee652013ff\" width=\"100%\" height=\"800\" frameborder=\"0\">\n",
       "      </iframe>\n",
       "      <script>\n",
       "        (function() {\n",
       "          const frame = document.getElementById(\"tensorboard-frame-2a1233ee652013ff\");\n",
       "          const url = new URL(\"/\", window.location);\n",
       "          url.port = 6006;\n",
       "          frame.src = url;\n",
       "        })();\n",
       "      </script>\n",
       "  "
      ],
      "text/plain": [
       "<IPython.core.display.HTML object>"
      ]
     },
     "metadata": {},
     "output_type": "display_data"
    }
   ],
   "source": [
    "if NOTEBOOK != 'kaggle':\n",
    "    # %load_ext tensorboard\n",
    "    # import os\n",
    "    from datetime import datetime as dt\n",
    "    # Clear any logs from previous runs\n",
    "    !rm -rf ./logs/\n",
    "    log_dir = \"logs/\" + dt.now().strftime(\"%Y%m%d-%H%M%S\")\n",
    "    writer = tf.summary.create_file_writer(log_dir)\n",
    "\n",
    "\n",
    "    %reload_ext tensorboard\n",
    "#     %tensorboard --logdir logs/func     \n",
    "    # writer.set_as_default()\n",
    "    %tensorboard --logdir logs"
   ]
  },
  {
   "cell_type": "code",
   "execution_count": 17,
   "metadata": {},
   "outputs": [
    {
     "name": "stdout",
     "output_type": "stream",
     "text": [
      "Memory Usage (before import): 1385.3359375 MB\n"
     ]
    },
    {
     "name": "stderr",
     "output_type": "stream",
     "text": [
      "  0%|          | 0/81920 [00:00<?, ?sig/s]"
     ]
    },
    {
     "ename": "NameError",
     "evalue": "in converted code:\n\n    /home/bognev/anaconda3/lib/python3.7/site-packages/sonnet/src/utils.py:23 _decorate_unbound_method  *\n        return decorator_fn(bound_method, self, args, kwargs)\n    /home/bognev/anaconda3/lib/python3.7/site-packages/sonnet/src/base.py:291 wrap_with_name_scope_no_exception  *\n        return method(*args, **kwargs)\n    <ipython-input-16-5583d872907c>:35 step  *\n        tf.summary.histogram(name=\"Grad_\"+params[i].name, data=g, step=step)\n\n    NameError: name 'step' is not defined\n",
     "output_type": "error",
     "traceback": [
      "\u001b[0;31m---------------------------------------------------------------------------\u001b[0m",
      "\u001b[0;31mNameError\u001b[0m                                 Traceback (most recent call last)",
      "\u001b[0;32m<ipython-input-17-03fc10f135b0>\u001b[0m in \u001b[0;36m<module>\u001b[0;34m\u001b[0m\n\u001b[1;32m     57\u001b[0m     \u001b[0mepoch\u001b[0m \u001b[0;34m=\u001b[0m \u001b[0mtf\u001b[0m\u001b[0;34m.\u001b[0m\u001b[0mconstant\u001b[0m\u001b[0;34m(\u001b[0m\u001b[0;36m1\u001b[0m\u001b[0;34m+\u001b[0m\u001b[0mepochs\u001b[0m\u001b[0;34m,\u001b[0m \u001b[0mdtype\u001b[0m\u001b[0;34m=\u001b[0m\u001b[0mtf\u001b[0m\u001b[0;34m.\u001b[0m\u001b[0mfloat32\u001b[0m\u001b[0;34m)\u001b[0m\u001b[0;34m\u001b[0m\u001b[0;34m\u001b[0m\u001b[0m\n\u001b[1;32m     58\u001b[0m     \u001b[0;32mfor\u001b[0m \u001b[0mstep_num\u001b[0m\u001b[0;34m,\u001b[0m\u001b[0;34m(\u001b[0m\u001b[0mbatch\u001b[0m\u001b[0;34m,\u001b[0m \u001b[0mlabels\u001b[0m\u001b[0;34m)\u001b[0m \u001b[0;32min\u001b[0m \u001b[0menumerate\u001b[0m\u001b[0;34m(\u001b[0m\u001b[0mradio_data_train\u001b[0m\u001b[0;34m)\u001b[0m\u001b[0;34m:\u001b[0m\u001b[0;34m\u001b[0m\u001b[0;34m\u001b[0m\u001b[0m\n\u001b[0;32m---> 59\u001b[0;31m         \u001b[0mloss\u001b[0m \u001b[0;34m=\u001b[0m \u001b[0mradio_opt\u001b[0m\u001b[0;34m.\u001b[0m\u001b[0mstep\u001b[0m\u001b[0;34m(\u001b[0m\u001b[0mbatch\u001b[0m\u001b[0;34m,\u001b[0m \u001b[0mlabels\u001b[0m\u001b[0;34m,\u001b[0m \u001b[0mepoch\u001b[0m\u001b[0;34m,\u001b[0m \u001b[0mtf\u001b[0m\u001b[0;34m.\u001b[0m\u001b[0mconstant\u001b[0m\u001b[0;34m(\u001b[0m\u001b[0mstep_num\u001b[0m \u001b[0;34m%\u001b[0m \u001b[0mnum_batches\u001b[0m \u001b[0;34m==\u001b[0m \u001b[0;36m0\u001b[0m\u001b[0;34m,\u001b[0m \u001b[0mdtype\u001b[0m\u001b[0;34m=\u001b[0m\u001b[0mtf\u001b[0m\u001b[0;34m.\u001b[0m\u001b[0mbool\u001b[0m\u001b[0;34m)\u001b[0m\u001b[0;34m,\u001b[0m \u001b[0mis_training\u001b[0m\u001b[0;34m=\u001b[0m\u001b[0mtf\u001b[0m\u001b[0;34m.\u001b[0m\u001b[0mconstant\u001b[0m\u001b[0;34m(\u001b[0m\u001b[0;32mTrue\u001b[0m\u001b[0;34m,\u001b[0m \u001b[0mdtype\u001b[0m\u001b[0;34m=\u001b[0m\u001b[0mtf\u001b[0m\u001b[0;34m.\u001b[0m\u001b[0mbool\u001b[0m\u001b[0;34m)\u001b[0m\u001b[0;34m)\u001b[0m\u001b[0;34m\u001b[0m\u001b[0;34m\u001b[0m\u001b[0m\n\u001b[0m\u001b[1;32m     60\u001b[0m \u001b[0;34m\u001b[0m\u001b[0m\n\u001b[1;32m     61\u001b[0m         \u001b[0mt\u001b[0m\u001b[0;34m.\u001b[0m\u001b[0mupdate\u001b[0m\u001b[0;34m(\u001b[0m\u001b[0;36m1\u001b[0m\u001b[0;34m)\u001b[0m\u001b[0;34m\u001b[0m\u001b[0;34m\u001b[0m\u001b[0m\n",
      "\u001b[0;32m~/anaconda3/lib/python3.7/site-packages/tensorflow_core/python/eager/def_function.py\u001b[0m in \u001b[0;36m__call__\u001b[0;34m(self, *args, **kwds)\u001b[0m\n\u001b[1;32m    566\u001b[0m         \u001b[0mxla_context\u001b[0m\u001b[0;34m.\u001b[0m\u001b[0mExit\u001b[0m\u001b[0;34m(\u001b[0m\u001b[0;34m)\u001b[0m\u001b[0;34m\u001b[0m\u001b[0;34m\u001b[0m\u001b[0m\n\u001b[1;32m    567\u001b[0m     \u001b[0;32melse\u001b[0m\u001b[0;34m:\u001b[0m\u001b[0;34m\u001b[0m\u001b[0;34m\u001b[0m\u001b[0m\n\u001b[0;32m--> 568\u001b[0;31m       \u001b[0mresult\u001b[0m \u001b[0;34m=\u001b[0m \u001b[0mself\u001b[0m\u001b[0;34m.\u001b[0m\u001b[0m_call\u001b[0m\u001b[0;34m(\u001b[0m\u001b[0;34m*\u001b[0m\u001b[0margs\u001b[0m\u001b[0;34m,\u001b[0m \u001b[0;34m**\u001b[0m\u001b[0mkwds\u001b[0m\u001b[0;34m)\u001b[0m\u001b[0;34m\u001b[0m\u001b[0;34m\u001b[0m\u001b[0m\n\u001b[0m\u001b[1;32m    569\u001b[0m \u001b[0;34m\u001b[0m\u001b[0m\n\u001b[1;32m    570\u001b[0m     \u001b[0;32mif\u001b[0m \u001b[0mtracing_count\u001b[0m \u001b[0;34m==\u001b[0m \u001b[0mself\u001b[0m\u001b[0;34m.\u001b[0m\u001b[0m_get_tracing_count\u001b[0m\u001b[0;34m(\u001b[0m\u001b[0;34m)\u001b[0m\u001b[0;34m:\u001b[0m\u001b[0;34m\u001b[0m\u001b[0;34m\u001b[0m\u001b[0m\n",
      "\u001b[0;32m~/anaconda3/lib/python3.7/site-packages/tensorflow_core/python/eager/def_function.py\u001b[0m in \u001b[0;36m_call\u001b[0;34m(self, *args, **kwds)\u001b[0m\n\u001b[1;32m    613\u001b[0m       \u001b[0;31m# This is the first call of __call__, so we have to initialize.\u001b[0m\u001b[0;34m\u001b[0m\u001b[0;34m\u001b[0m\u001b[0;34m\u001b[0m\u001b[0m\n\u001b[1;32m    614\u001b[0m       \u001b[0minitializers\u001b[0m \u001b[0;34m=\u001b[0m \u001b[0;34m[\u001b[0m\u001b[0;34m]\u001b[0m\u001b[0;34m\u001b[0m\u001b[0;34m\u001b[0m\u001b[0m\n\u001b[0;32m--> 615\u001b[0;31m       \u001b[0mself\u001b[0m\u001b[0;34m.\u001b[0m\u001b[0m_initialize\u001b[0m\u001b[0;34m(\u001b[0m\u001b[0margs\u001b[0m\u001b[0;34m,\u001b[0m \u001b[0mkwds\u001b[0m\u001b[0;34m,\u001b[0m \u001b[0madd_initializers_to\u001b[0m\u001b[0;34m=\u001b[0m\u001b[0minitializers\u001b[0m\u001b[0;34m)\u001b[0m\u001b[0;34m\u001b[0m\u001b[0;34m\u001b[0m\u001b[0m\n\u001b[0m\u001b[1;32m    616\u001b[0m     \u001b[0;32mfinally\u001b[0m\u001b[0;34m:\u001b[0m\u001b[0;34m\u001b[0m\u001b[0;34m\u001b[0m\u001b[0m\n\u001b[1;32m    617\u001b[0m       \u001b[0;31m# At this point we know that the initialization is complete (or less\u001b[0m\u001b[0;34m\u001b[0m\u001b[0;34m\u001b[0m\u001b[0;34m\u001b[0m\u001b[0m\n",
      "\u001b[0;32m~/anaconda3/lib/python3.7/site-packages/tensorflow_core/python/eager/def_function.py\u001b[0m in \u001b[0;36m_initialize\u001b[0;34m(self, args, kwds, add_initializers_to)\u001b[0m\n\u001b[1;32m    495\u001b[0m     self._concrete_stateful_fn = (\n\u001b[1;32m    496\u001b[0m         self._stateful_fn._get_concrete_function_internal_garbage_collected(  # pylint: disable=protected-access\n\u001b[0;32m--> 497\u001b[0;31m             *args, **kwds))\n\u001b[0m\u001b[1;32m    498\u001b[0m \u001b[0;34m\u001b[0m\u001b[0m\n\u001b[1;32m    499\u001b[0m     \u001b[0;32mdef\u001b[0m \u001b[0minvalid_creator_scope\u001b[0m\u001b[0;34m(\u001b[0m\u001b[0;34m*\u001b[0m\u001b[0munused_args\u001b[0m\u001b[0;34m,\u001b[0m \u001b[0;34m**\u001b[0m\u001b[0munused_kwds\u001b[0m\u001b[0;34m)\u001b[0m\u001b[0;34m:\u001b[0m\u001b[0;34m\u001b[0m\u001b[0;34m\u001b[0m\u001b[0m\n",
      "\u001b[0;32m~/anaconda3/lib/python3.7/site-packages/tensorflow_core/python/eager/function.py\u001b[0m in \u001b[0;36m_get_concrete_function_internal_garbage_collected\u001b[0;34m(self, *args, **kwargs)\u001b[0m\n\u001b[1;32m   2387\u001b[0m       \u001b[0margs\u001b[0m\u001b[0;34m,\u001b[0m \u001b[0mkwargs\u001b[0m \u001b[0;34m=\u001b[0m \u001b[0;32mNone\u001b[0m\u001b[0;34m,\u001b[0m \u001b[0;32mNone\u001b[0m\u001b[0;34m\u001b[0m\u001b[0;34m\u001b[0m\u001b[0m\n\u001b[1;32m   2388\u001b[0m     \u001b[0;32mwith\u001b[0m \u001b[0mself\u001b[0m\u001b[0;34m.\u001b[0m\u001b[0m_lock\u001b[0m\u001b[0;34m:\u001b[0m\u001b[0;34m\u001b[0m\u001b[0;34m\u001b[0m\u001b[0m\n\u001b[0;32m-> 2389\u001b[0;31m       \u001b[0mgraph_function\u001b[0m\u001b[0;34m,\u001b[0m \u001b[0m_\u001b[0m\u001b[0;34m,\u001b[0m \u001b[0m_\u001b[0m \u001b[0;34m=\u001b[0m \u001b[0mself\u001b[0m\u001b[0;34m.\u001b[0m\u001b[0m_maybe_define_function\u001b[0m\u001b[0;34m(\u001b[0m\u001b[0margs\u001b[0m\u001b[0;34m,\u001b[0m \u001b[0mkwargs\u001b[0m\u001b[0;34m)\u001b[0m\u001b[0;34m\u001b[0m\u001b[0;34m\u001b[0m\u001b[0m\n\u001b[0m\u001b[1;32m   2390\u001b[0m     \u001b[0;32mreturn\u001b[0m \u001b[0mgraph_function\u001b[0m\u001b[0;34m\u001b[0m\u001b[0;34m\u001b[0m\u001b[0m\n\u001b[1;32m   2391\u001b[0m \u001b[0;34m\u001b[0m\u001b[0m\n",
      "\u001b[0;32m~/anaconda3/lib/python3.7/site-packages/tensorflow_core/python/eager/function.py\u001b[0m in \u001b[0;36m_maybe_define_function\u001b[0;34m(self, args, kwargs)\u001b[0m\n\u001b[1;32m   2701\u001b[0m \u001b[0;34m\u001b[0m\u001b[0m\n\u001b[1;32m   2702\u001b[0m       \u001b[0mself\u001b[0m\u001b[0;34m.\u001b[0m\u001b[0m_function_cache\u001b[0m\u001b[0;34m.\u001b[0m\u001b[0mmissed\u001b[0m\u001b[0;34m.\u001b[0m\u001b[0madd\u001b[0m\u001b[0;34m(\u001b[0m\u001b[0mcall_context_key\u001b[0m\u001b[0;34m)\u001b[0m\u001b[0;34m\u001b[0m\u001b[0;34m\u001b[0m\u001b[0m\n\u001b[0;32m-> 2703\u001b[0;31m       \u001b[0mgraph_function\u001b[0m \u001b[0;34m=\u001b[0m \u001b[0mself\u001b[0m\u001b[0;34m.\u001b[0m\u001b[0m_create_graph_function\u001b[0m\u001b[0;34m(\u001b[0m\u001b[0margs\u001b[0m\u001b[0;34m,\u001b[0m \u001b[0mkwargs\u001b[0m\u001b[0;34m)\u001b[0m\u001b[0;34m\u001b[0m\u001b[0;34m\u001b[0m\u001b[0m\n\u001b[0m\u001b[1;32m   2704\u001b[0m       \u001b[0mself\u001b[0m\u001b[0;34m.\u001b[0m\u001b[0m_function_cache\u001b[0m\u001b[0;34m.\u001b[0m\u001b[0mprimary\u001b[0m\u001b[0;34m[\u001b[0m\u001b[0mcache_key\u001b[0m\u001b[0;34m]\u001b[0m \u001b[0;34m=\u001b[0m \u001b[0mgraph_function\u001b[0m\u001b[0;34m\u001b[0m\u001b[0;34m\u001b[0m\u001b[0m\n\u001b[1;32m   2705\u001b[0m       \u001b[0;32mreturn\u001b[0m \u001b[0mgraph_function\u001b[0m\u001b[0;34m,\u001b[0m \u001b[0margs\u001b[0m\u001b[0;34m,\u001b[0m \u001b[0mkwargs\u001b[0m\u001b[0;34m\u001b[0m\u001b[0;34m\u001b[0m\u001b[0m\n",
      "\u001b[0;32m~/anaconda3/lib/python3.7/site-packages/tensorflow_core/python/eager/function.py\u001b[0m in \u001b[0;36m_create_graph_function\u001b[0;34m(self, args, kwargs, override_flat_arg_shapes)\u001b[0m\n\u001b[1;32m   2591\u001b[0m             \u001b[0marg_names\u001b[0m\u001b[0;34m=\u001b[0m\u001b[0marg_names\u001b[0m\u001b[0;34m,\u001b[0m\u001b[0;34m\u001b[0m\u001b[0;34m\u001b[0m\u001b[0m\n\u001b[1;32m   2592\u001b[0m             \u001b[0moverride_flat_arg_shapes\u001b[0m\u001b[0;34m=\u001b[0m\u001b[0moverride_flat_arg_shapes\u001b[0m\u001b[0;34m,\u001b[0m\u001b[0;34m\u001b[0m\u001b[0;34m\u001b[0m\u001b[0m\n\u001b[0;32m-> 2593\u001b[0;31m             capture_by_value=self._capture_by_value),\n\u001b[0m\u001b[1;32m   2594\u001b[0m         \u001b[0mself\u001b[0m\u001b[0;34m.\u001b[0m\u001b[0m_function_attributes\u001b[0m\u001b[0;34m,\u001b[0m\u001b[0;34m\u001b[0m\u001b[0;34m\u001b[0m\u001b[0m\n\u001b[1;32m   2595\u001b[0m         \u001b[0;31m# Tell the ConcreteFunction to clean up its graph once it goes out of\u001b[0m\u001b[0;34m\u001b[0m\u001b[0;34m\u001b[0m\u001b[0;34m\u001b[0m\u001b[0m\n",
      "\u001b[0;32m~/anaconda3/lib/python3.7/site-packages/tensorflow_core/python/framework/func_graph.py\u001b[0m in \u001b[0;36mfunc_graph_from_py_func\u001b[0;34m(name, python_func, args, kwargs, signature, func_graph, autograph, autograph_options, add_control_dependencies, arg_names, op_return_value, collections, capture_by_value, override_flat_arg_shapes)\u001b[0m\n\u001b[1;32m    976\u001b[0m                                           converted_func)\n\u001b[1;32m    977\u001b[0m \u001b[0;34m\u001b[0m\u001b[0m\n\u001b[0;32m--> 978\u001b[0;31m       \u001b[0mfunc_outputs\u001b[0m \u001b[0;34m=\u001b[0m \u001b[0mpython_func\u001b[0m\u001b[0;34m(\u001b[0m\u001b[0;34m*\u001b[0m\u001b[0mfunc_args\u001b[0m\u001b[0;34m,\u001b[0m \u001b[0;34m**\u001b[0m\u001b[0mfunc_kwargs\u001b[0m\u001b[0;34m)\u001b[0m\u001b[0;34m\u001b[0m\u001b[0;34m\u001b[0m\u001b[0m\n\u001b[0m\u001b[1;32m    979\u001b[0m \u001b[0;34m\u001b[0m\u001b[0m\n\u001b[1;32m    980\u001b[0m       \u001b[0;31m# invariant: `func_outputs` contains only Tensors, CompositeTensors,\u001b[0m\u001b[0;34m\u001b[0m\u001b[0;34m\u001b[0m\u001b[0;34m\u001b[0m\u001b[0m\n",
      "\u001b[0;32m~/anaconda3/lib/python3.7/site-packages/tensorflow_core/python/eager/def_function.py\u001b[0m in \u001b[0;36mwrapped_fn\u001b[0;34m(*args, **kwds)\u001b[0m\n\u001b[1;32m    437\u001b[0m         \u001b[0;31m# __wrapped__ allows AutoGraph to swap in a converted function. We give\u001b[0m\u001b[0;34m\u001b[0m\u001b[0;34m\u001b[0m\u001b[0;34m\u001b[0m\u001b[0m\n\u001b[1;32m    438\u001b[0m         \u001b[0;31m# the function a weak reference to itself to avoid a reference cycle.\u001b[0m\u001b[0;34m\u001b[0m\u001b[0;34m\u001b[0m\u001b[0;34m\u001b[0m\u001b[0m\n\u001b[0;32m--> 439\u001b[0;31m         \u001b[0;32mreturn\u001b[0m \u001b[0mweak_wrapped_fn\u001b[0m\u001b[0;34m(\u001b[0m\u001b[0;34m)\u001b[0m\u001b[0;34m.\u001b[0m\u001b[0m__wrapped__\u001b[0m\u001b[0;34m(\u001b[0m\u001b[0;34m*\u001b[0m\u001b[0margs\u001b[0m\u001b[0;34m,\u001b[0m \u001b[0;34m**\u001b[0m\u001b[0mkwds\u001b[0m\u001b[0;34m)\u001b[0m\u001b[0;34m\u001b[0m\u001b[0;34m\u001b[0m\u001b[0m\n\u001b[0m\u001b[1;32m    440\u001b[0m     \u001b[0mweak_wrapped_fn\u001b[0m \u001b[0;34m=\u001b[0m \u001b[0mweakref\u001b[0m\u001b[0;34m.\u001b[0m\u001b[0mref\u001b[0m\u001b[0;34m(\u001b[0m\u001b[0mwrapped_fn\u001b[0m\u001b[0;34m)\u001b[0m\u001b[0;34m\u001b[0m\u001b[0;34m\u001b[0m\u001b[0m\n\u001b[1;32m    441\u001b[0m \u001b[0;34m\u001b[0m\u001b[0m\n",
      "\u001b[0;32m~/anaconda3/lib/python3.7/site-packages/tensorflow_core/python/eager/function.py\u001b[0m in \u001b[0;36mbound_method_wrapper\u001b[0;34m(*args, **kwargs)\u001b[0m\n\u001b[1;32m   3209\u001b[0m     \u001b[0;31m# However, the replacer is still responsible for attaching self properly.\u001b[0m\u001b[0;34m\u001b[0m\u001b[0;34m\u001b[0m\u001b[0;34m\u001b[0m\u001b[0m\n\u001b[1;32m   3210\u001b[0m     \u001b[0;31m# TODO(mdan): Is it possible to do it here instead?\u001b[0m\u001b[0;34m\u001b[0m\u001b[0;34m\u001b[0m\u001b[0;34m\u001b[0m\u001b[0m\n\u001b[0;32m-> 3211\u001b[0;31m     \u001b[0;32mreturn\u001b[0m \u001b[0mwrapped_fn\u001b[0m\u001b[0;34m(\u001b[0m\u001b[0;34m*\u001b[0m\u001b[0margs\u001b[0m\u001b[0;34m,\u001b[0m \u001b[0;34m**\u001b[0m\u001b[0mkwargs\u001b[0m\u001b[0;34m)\u001b[0m\u001b[0;34m\u001b[0m\u001b[0;34m\u001b[0m\u001b[0m\n\u001b[0m\u001b[1;32m   3212\u001b[0m   \u001b[0mweak_bound_method_wrapper\u001b[0m \u001b[0;34m=\u001b[0m \u001b[0mweakref\u001b[0m\u001b[0;34m.\u001b[0m\u001b[0mref\u001b[0m\u001b[0;34m(\u001b[0m\u001b[0mbound_method_wrapper\u001b[0m\u001b[0;34m)\u001b[0m\u001b[0;34m\u001b[0m\u001b[0;34m\u001b[0m\u001b[0m\n\u001b[1;32m   3213\u001b[0m \u001b[0;34m\u001b[0m\u001b[0m\n",
      "\u001b[0;32m~/anaconda3/lib/python3.7/site-packages/tensorflow_core/python/framework/func_graph.py\u001b[0m in \u001b[0;36mwrapper\u001b[0;34m(*args, **kwargs)\u001b[0m\n\u001b[1;32m    966\u001b[0m           \u001b[0;32mexcept\u001b[0m \u001b[0mException\u001b[0m \u001b[0;32mas\u001b[0m \u001b[0me\u001b[0m\u001b[0;34m:\u001b[0m  \u001b[0;31m# pylint:disable=broad-except\u001b[0m\u001b[0;34m\u001b[0m\u001b[0;34m\u001b[0m\u001b[0m\n\u001b[1;32m    967\u001b[0m             \u001b[0;32mif\u001b[0m \u001b[0mhasattr\u001b[0m\u001b[0;34m(\u001b[0m\u001b[0me\u001b[0m\u001b[0;34m,\u001b[0m \u001b[0;34m\"ag_error_metadata\"\u001b[0m\u001b[0;34m)\u001b[0m\u001b[0;34m:\u001b[0m\u001b[0;34m\u001b[0m\u001b[0;34m\u001b[0m\u001b[0m\n\u001b[0;32m--> 968\u001b[0;31m               \u001b[0;32mraise\u001b[0m \u001b[0me\u001b[0m\u001b[0;34m.\u001b[0m\u001b[0mag_error_metadata\u001b[0m\u001b[0;34m.\u001b[0m\u001b[0mto_exception\u001b[0m\u001b[0;34m(\u001b[0m\u001b[0me\u001b[0m\u001b[0;34m)\u001b[0m\u001b[0;34m\u001b[0m\u001b[0;34m\u001b[0m\u001b[0m\n\u001b[0m\u001b[1;32m    969\u001b[0m             \u001b[0;32melse\u001b[0m\u001b[0;34m:\u001b[0m\u001b[0;34m\u001b[0m\u001b[0;34m\u001b[0m\u001b[0m\n\u001b[1;32m    970\u001b[0m               \u001b[0;32mraise\u001b[0m\u001b[0;34m\u001b[0m\u001b[0;34m\u001b[0m\u001b[0m\n",
      "\u001b[0;31mNameError\u001b[0m: in converted code:\n\n    /home/bognev/anaconda3/lib/python3.7/site-packages/sonnet/src/utils.py:23 _decorate_unbound_method  *\n        return decorator_fn(bound_method, self, args, kwargs)\n    /home/bognev/anaconda3/lib/python3.7/site-packages/sonnet/src/base.py:291 wrap_with_name_scope_no_exception  *\n        return method(*args, **kwargs)\n    <ipython-input-16-5583d872907c>:35 step  *\n        tf.summary.histogram(name=\"Grad_\"+params[i].name, data=g, step=step)\n\n    NameError: name 'step' is not defined\n"
     ]
    }
   ],
   "source": [
    "if NOTEBOOK == 'colab':\n",
    "    batch_size = 256\n",
    "    num_batches = int(65536*2/batch_size)\n",
    "elif NOTEBOOK == 'kaggle':\n",
    "    batch_size = 256\n",
    "    num_batches = int(65536*2/batch_size)\n",
    "else:          \n",
    "    batch_size = 32\n",
    "    num_batches = int(4096/batch_size)\n",
    "\n",
    "\n",
    "\n",
    "# num_batches = int(1572864/batch_size)\n",
    "tf.print(\"Memory Usage (before import):\", p.memory_info().rss/1024/1024, \"MB\")\n",
    "\n",
    "\n",
    "\n",
    "num_epochs = 20\n",
    "\n",
    "radio_model = CNN(epsilon=1e-8, name=\"CNN\")\n",
    "radio_opt = CNNOptimizer(name=\"Optimizer\", cnn=radio_model, lr=0.001, \\\n",
    "                         num_epochs=num_epochs, decay_lr_start_epoch=5, decay_lr=True)\n",
    "\n",
    "t = tqdm(range(num_batches * num_epochs),\n",
    "               unit='sig', unit_scale=batch_size, position=0)\n",
    "\n",
    "\n",
    "radio_data = tf.data.Dataset.from_generator(radioML(hdf5_path, 1, True), \n",
    "                output_types=(tf.float32, tf.int32),\n",
    "                output_shapes=(tf.TensorShape([1, 1024, 2]), tf.TensorShape([1, 24]))) #2555904, 1024, 2]\n",
    "\n",
    "radio_data_test = tf.data.Dataset.from_generator(radioML(hdf5_path, 1, False), \n",
    "                output_types=(tf.float32, tf.int32),\n",
    "                output_shapes=(tf.TensorShape([1, 1024, 2]), tf.TensorShape([1, 24]))) #2555904, 1024, 2]\n",
    "\n",
    "loss_history, accuracy_history, lr_history = [], [], []\n",
    "\n",
    "\n",
    "\n",
    "test = radio_data_test.take(1024)\n",
    "test = test.map(radioML_map)\n",
    "test = test.batch(batch_size)\n",
    "\n",
    "\n",
    "# step = tf.function(radio_opt.step)\n",
    "print_every = int(num_batches/2)\n",
    "\n",
    "start_time = time.perf_counter()\n",
    "\n",
    "# for step_num,(batch, labels) in enumerate(radio_data_train):      \n",
    "for epochs in range(num_epochs):\n",
    "    radio_data_train = radio_data.take(batch_size*num_batches)\n",
    "    radio_data_train = radio_data_train.map(radioML_map)\n",
    "    radio_data_train = radio_data_train.shuffle(buffer_size=batch_size*num_batches)\n",
    "    radio_data_train = radio_data_train.batch(batch_size)            \n",
    "    \n",
    "    epoch = tf.constant(1+epochs, dtype=tf.float32)\n",
    "    for step_num,(batch, labels) in enumerate(radio_data_train):      \n",
    "        loss = radio_opt.step(batch, labels, epoch, tf.constant(step_num % num_batches == 0, dtype=tf.bool), is_training=tf.constant(True, dtype=tf.bool))\n",
    "\n",
    "        t.update(1)    \n",
    "#     if step_num % print_every == 0:                \n",
    "#         tf.print('Current epoch = {}/{} (lr_mult = {:0.09f}, loss = {}) done.'.format(\n",
    "#             epoch.numpy(), num_epochs, radio_opt.lr.numpy(), loss.numpy()))  \n",
    "        \n",
    "#     if step_num % num_batches == 0: \n",
    "    accuracy, total, correct = tf.constant(0), tf.constant(0), tf.constant(0)\n",
    "    for (batch, labels) in test:            \n",
    "        logits = tf.nn.softmax(radio_opt.cnn(batch, is_training=tf.constant(False, dtype=tf.bool)))\n",
    "        preds = tf.argmax(logits, axis=1, output_type=tf.int32)  \n",
    "        labels = tf.argmax(labels, axis=1, output_type=tf.int32)\n",
    "        correct += tf.math.count_nonzero(tf.equal(preds, labels), dtype=tf.int32)\n",
    "        total += tf.shape(labels)[0]            \n",
    "    accuracy = (correct / tf.cast(total, tf.int32)) * 100. \n",
    "    if NOTEBOOK != 'kaggle':\n",
    "        with writer.as_default():            \n",
    "            tf.summary.scalar('Accuracy', accuracy, step=epoch.numpy())               \n",
    "            tf.summary.scalar('training loss', loss, step=step_num)       \n",
    "            tf.summary.scalar('learning rate', radio_opt.lr, step=step_num)   \n",
    "    else:\n",
    "        accuracy_history.append(accuracy)\n",
    "        lr_history.append(radio_opt.lr)\n",
    "        loss_history.append(loss)\n",
    "    t.write('Epoch = {}/{} (lr_mult = {:0.09f}, loss = {:0.02f}, accuracy = {:0.02f}, incorrect = {} done.'.format(\n",
    "        epoch.numpy(), num_epochs, radio_opt.lr.numpy(), loss.numpy(), accuracy, total - correct))  \n",
    "    tf.print(\"Memory Usage (after var-def):\", p.memory_info().rss/1024/1024, \"MB\")\n",
    "    gc.collect()\n",
    "                 \n",
    "print(\"Execution time:\", time.perf_counter() - start_time)   \n",
    "t.close()\n",
    "   "
   ]
  },
  {
   "cell_type": "code",
   "execution_count": null,
   "metadata": {},
   "outputs": [],
   "source": [
    "radio_data_test = tf.data.Dataset.from_generator(radioML(hdf5_path, 1, False), \n",
    "                output_types=(tf.float32, tf.int32),\n",
    "                output_shapes=(tf.TensorShape([1, 1024, 2]), tf.TensorShape([1, 24]))) #2555904, 1024, 2]\n",
    "test = radio_data_test.take(1024)\n",
    "test = test.map(radioML_map)\n",
    "test = test.batch(batch_size)\n",
    "accuracy, total, correct = tf.constant(0), tf.constant(0), tf.constant(0)\n",
    "for (batch, labels) in test:\n",
    "    logits = tf.nn.softmax(radio_opt.cnn(batch, is_training=False))\n",
    "    preds = tf.argmax(logits, axis=1, output_type=tf.int32)  \n",
    "    labels = tf.argmax(labels, axis=1, output_type=tf.int32)\n",
    "    correct += tf.math.count_nonzero(tf.equal(preds, labels), dtype=tf.int32)\n",
    "    total += tf.shape(labels)[0]            \n",
    "accuracy = (correct / tf.cast(total, tf.int32)) * 100. \n",
    "print(\"Final accuracy:\", accuracy)"
   ]
  },
  {
   "cell_type": "code",
   "execution_count": null,
   "metadata": {},
   "outputs": [],
   "source": [
    "\n",
    "fig2 = plt.figure()\n",
    "plt.plot(loss_history)\n",
    "plt.xlabel('Batch #')\n",
    "plt.ylabel('Loss [entropy]')\n",
    "\n",
    "fig3 = plt.figure()\n",
    "plt.plot(accuracy_history)\n",
    "plt.xlabel('Epoch #')\n",
    "plt.ylabel('Accuracy')\n",
    "\n",
    "\n",
    "fig4 = plt.figure()\n",
    "plt.plot(lr_history)\n",
    "plt.xlabel('Epoch #')\n",
    "plt.ylabel('Learning rate')\n",
    "\n",
    "plt.show()\n",
    "loss_history"
   ]
  },
  {
   "cell_type": "code",
   "execution_count": null,
   "metadata": {},
   "outputs": [],
   "source": [
    "print(snt.format_variables(radio_model.variables))"
   ]
  }
 ],
 "metadata": {
  "accelerator": "GPU",
  "colab": {
   "authorship_tag": "ABX9TyMY5mQBDXgj2X9YLAbDo2fr",
   "collapsed_sections": [],
   "include_colab_link": true,
   "name": "Copy of tf_simple.ipynb",
   "provenance": []
  },
  "kernelspec": {
   "display_name": "Python 3",
   "language": "python",
   "name": "python3"
  },
  "language_info": {
   "codemirror_mode": {
    "name": "ipython",
    "version": 3
   },
   "file_extension": ".py",
   "mimetype": "text/x-python",
   "name": "python",
   "nbconvert_exporter": "python",
   "pygments_lexer": "ipython3",
   "version": "3.7.3"
  }
 },
 "nbformat": 4,
 "nbformat_minor": 4
}
